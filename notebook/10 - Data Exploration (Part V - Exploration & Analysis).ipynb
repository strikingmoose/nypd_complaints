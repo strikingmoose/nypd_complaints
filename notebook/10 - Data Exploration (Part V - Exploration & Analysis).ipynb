{
 "cells": [
  {
   "cell_type": "markdown",
   "metadata": {},
   "source": [
    "# Data Exploration (Part V - Exploration & Analysis)\n",
    "## Intro\n",
    "At this point, we've gotten a feel for the data, but we really still don't know what's in it. After 9 posts, we're finally ready to actually explore haha... Oh, the miraculous world of data science...\n",
    "\n",
    "Similar to the [All-NBA prediction](https://strikingmoose.com/category/1-all-nba-predict/) project I was doing, I really have no objective here. I came in just looking to use Spark and explore a hefty amount of Police calls, so let's just start with whatever is interesting to us.\n",
    "\n",
    "## Incident Timestamps\n",
    "I've been wondering about the time-based trends of the complaints since I was cleaning up the data... What's the trend year over year? What's months are most active with complaints? Day of the week? Hour of the day? Let's explore all of these."
   ]
  },
  {
   "cell_type": "code",
   "execution_count": 1,
   "metadata": {},
   "outputs": [
    {
     "data": {
      "text/plain": [
       "0"
      ]
     },
     "execution_count": 1,
     "metadata": {},
     "output_type": "execute_result"
    }
   ],
   "source": [
    "import os\n",
    "os.system(\"sudo pip install findspark sql_magic pyspark_dist_explore\")"
   ]
  },
  {
   "cell_type": "code",
   "execution_count": 2,
   "metadata": {},
   "outputs": [
    {
     "data": {
      "application/javascript": [
       "\n",
       "    require(['notebook/js/codecell'], function(codecell) {\n",
       "      // https://github.com/jupyter/notebook/issues/2453\n",
       "      codecell.CodeCell.options_default.highlight_modes['magic_text/x-sql'] = {'reg':[/^%read_sql/, /.*=\\s*%read_sql/,\n",
       "                                                                                      /^%%read_sql/]};\n",
       "      Jupyter.notebook.events.one('kernel_ready.Kernel', function(){\n",
       "          console.log('BBBBB');\n",
       "          Jupyter.notebook.get_cells().map(function(cell){\n",
       "              if (cell.cell_type == 'code'){ cell.auto_highlight(); } }) ;\n",
       "      });\n",
       "    });\n",
       "    "
      ]
     },
     "metadata": {},
     "output_type": "display_data"
    }
   ],
   "source": [
    "# Use findspark package to connect Jupyter to Spark shell\n",
    "import findspark\n",
    "findspark.init('/usr/lib/spark')\n",
    "\n",
    "# Load SparkSession object\n",
    "import pyspark\n",
    "from pyspark.sql import SparkSession\n",
    "\n",
    "# Load other libraries\n",
    "from datetime import datetime\n",
    "from pyspark.sql import functions as F\n",
    "from pyspark.sql.types import DateType\n",
    "from functools import reduce\n",
    "import pandas as pd\n",
    "import numpy as np\n",
    "\n",
    "# Graphing with matplotlib\n",
    "import matplotlib.pyplot as plt\n",
    "plt.style.use('ggplot')\n",
    "%matplotlib inline\n",
    "\n",
    "# Initiate SparkSession as \"spark\"\n",
    "spark = SparkSession\\\n",
    "    .builder\\\n",
    "    .getOrCreate()\n",
    "\n",
    "# Load sql_magic and connect to Spark\n",
    "%load_ext sql_magic\n",
    "%config SQL.conn_name = 'spark'"
   ]
  },
  {
   "cell_type": "markdown",
   "metadata": {},
   "source": [
    "A few notes above:\n",
    "1. I should be doing a lot more graphing from now on, so I'm going to try out the ggplot style of matplotlib, this is supposed to mimic R graph styles and color schemes. I've always liked [ggplot's color schemes](https://strikingmoose.com/2017/07/27/exploration-of-historical-nba-team-efficiency-part-ii/), so let's try it out.\n",
    "2. When importing functions from the pyspark.sql package, I've been importing every single function separately... that's like importing every Pandas dataframe command individually when you need them... I've seen multiple folks import the entire pyspark.sq.functions package as the literal 'F' for some reason... I'll try this."
   ]
  },
  {
   "cell_type": "code",
   "execution_count": 3,
   "metadata": {},
   "outputs": [
    {
     "name": "stdout",
     "output_type": "stream",
     "text": [
      "CPU times: user 4 ms, sys: 0 ns, total: 4 ms\n",
      "Wall time: 17.5 s\n"
     ]
    }
   ],
   "source": [
    "%%time\n",
    "# Read NYPD Complaint Data\n",
    "df = spark.read.parquet(\"s3n://2017edmfasatb/nypd_complaints/data/df_clean.parquet\")"
   ]
  },
  {
   "cell_type": "markdown",
   "metadata": {},
   "source": [
    "The CSV, for reference, took ~50 seconds to load. The parquet load only took 15s, which I assume can be attributed to the fact that we don't have to infer any type of schema because the schema is built into the parquet itself and all Spark has to do is read the metadata. Good stuff!"
   ]
  },
  {
   "cell_type": "code",
   "execution_count": 4,
   "metadata": {},
   "outputs": [
    {
     "name": "stdout",
     "output_type": "stream",
     "text": [
      "root\n",
      " |-- COMPLAINT_NUMBER: integer (nullable = true)\n",
      " |-- COMPLAINT_START_TIMESTAMP: timestamp (nullable = true)\n",
      " |-- COMPLAINT_END_TIMESTAMP: timestamp (nullable = true)\n",
      " |-- REPORTED_DATE_TIMESTAMP: timestamp (nullable = true)\n",
      " |-- COMPLAINT_START_TIMESTAMP_YEAR: string (nullable = true)\n",
      " |-- COMPLAINT_START_TIMESTAMP_MONTH: string (nullable = true)\n",
      " |-- COMPLAINT_START_TIMESTAMP_DAY: string (nullable = true)\n",
      " |-- COMPLAINT_START_TIMESTAMP_WEEKDAY: string (nullable = true)\n",
      " |-- COMPLAINT_START_TIMESTAMP_HOUR: string (nullable = true)\n",
      " |-- COMPLAINT_END_TIMESTAMP_YEAR: string (nullable = true)\n",
      " |-- COMPLAINT_END_TIMESTAMP_MONTH: string (nullable = true)\n",
      " |-- COMPLAINT_END_TIMESTAMP_DAY: string (nullable = true)\n",
      " |-- COMPLAINT_END_TIMESTAMP_WEEKDAY: string (nullable = true)\n",
      " |-- COMPLAINT_END_TIMESTAMP_HOUR: string (nullable = true)\n",
      " |-- REPORTED_DATE_TIMESTAMP_YEAR: string (nullable = true)\n",
      " |-- REPORTED_DATE_TIMESTAMP_MONTH: string (nullable = true)\n",
      " |-- REPORTED_DATE_TIMESTAMP_DAY: string (nullable = true)\n",
      " |-- REPORTED_DATE_TIMESTAMP_WEEKDAY: string (nullable = true)\n",
      " |-- COMPLAINT_LENGTH: double (nullable = true)\n",
      " |-- COMPLAINT_LENGTH_ZERO_TIME: boolean (nullable = true)\n",
      " |-- COMPLAINT_START_REPORTED_LAG: double (nullable = true)\n",
      " |-- COMPLAINT_END_REPORTED_LAG: double (nullable = true)\n",
      " |-- OFFENSE_DESCRIPTION: string (nullable = true)\n",
      " |-- OFFENSE_RESULT: string (nullable = true)\n",
      " |-- OFFENSE_LEVEL: string (nullable = true)\n",
      " |-- JURISDICTION: string (nullable = true)\n",
      " |-- BOROUGH: string (nullable = true)\n",
      " |-- PRECINCT: integer (nullable = true)\n",
      " |-- SPECIFIC_LOCATION: string (nullable = true)\n",
      " |-- PREMISE_DESCRIPTION: string (nullable = true)\n",
      " |-- LAT: double (nullable = true)\n",
      " |-- LON: double (nullable = true)\n",
      "\n"
     ]
    }
   ],
   "source": [
    "df.printSchema()"
   ]
  },
  {
   "cell_type": "code",
   "execution_count": 5,
   "metadata": {
    "collapsed": true
   },
   "outputs": [],
   "source": [
    "# Add table to SQL Context\n",
    "df.createOrReplaceTempView(\"df\")"
   ]
  },
  {
   "cell_type": "markdown",
   "metadata": {},
   "source": [
    "## Time-Based Analysis\n",
    "### Annual Trend\n",
    "Let's start with a simple annual trend."
   ]
  },
  {
   "cell_type": "code",
   "execution_count": 6,
   "metadata": {},
   "outputs": [
    {
     "name": "stdout",
     "output_type": "stream",
     "text": [
      "Query started at 05:03:59 AM UTC; Query executed in 0.31 m"
     ]
    }
   ],
   "source": [
    "complaint_start_result = %read_sql \\\n",
    "SELECT \\\n",
    "    COMPLAINT_START_TIMESTAMP_YEAR as COMPLAINT_YEAR, \\\n",
    "    COUNT(*) as NUM_COMPLAINTS \\\n",
    "FROM df \\\n",
    "GROUP BY COMPLAINT_START_TIMESTAMP_YEAR"
   ]
  },
  {
   "cell_type": "code",
   "execution_count": 7,
   "metadata": {},
   "outputs": [
    {
     "data": {
      "text/plain": [
       "<matplotlib.axes._subplots.AxesSubplot at 0x7fb1664576a0>"
      ]
     },
     "execution_count": 7,
     "metadata": {},
     "output_type": "execute_result"
    },
    {
     "data": {
      "image/png": "[encoded data removed]",
      "text/plain": [
       "<matplotlib.figure.Figure at 0x7fb189387eb8>"
      ]
     },
     "metadata": {},
     "output_type": "display_data"
    }
   ],
   "source": [
    "# Plot number of complaints per year\n",
    "complaint_start_result.sort_values('COMPLAINT_YEAR').plot(kind = 'bar', x = 'COMPLAINT_YEAR', y = 'NUM_COMPLAINTS', figsize = (15, 5))"
   ]
  },
  {
   "cell_type": "markdown",
   "metadata": {},
   "source": [
    "So the documentation for the data set says that it's got data from 2006 to the end of 2016, about 10 years worth. This is absolutely _**NOT**_ what I'm seeing in the data itself..."
   ]
  },
  {
   "cell_type": "code",
   "execution_count": 8,
   "metadata": {},
   "outputs": [
    {
     "data": {
      "text/html": [
       "<div>\n",
       "<style>\n",
       "    .dataframe thead tr:only-child th {\n",
       "        text-align: right;\n",
       "    }\n",
       "\n",
       "    .dataframe thead th {\n",
       "        text-align: left;\n",
       "    }\n",
       "\n",
       "    .dataframe tbody tr th {\n",
       "        vertical-align: top;\n",
       "    }\n",
       "</style>\n",
       "<table border=\"1\" class=\"dataframe\">\n",
       "  <thead>\n",
       "    <tr style=\"text-align: right;\">\n",
       "      <th></th>\n",
       "      <th>COMPLAINT_YEAR</th>\n",
       "      <th>NUM_COMPLAINTS</th>\n",
       "    </tr>\n",
       "  </thead>\n",
       "  <tbody>\n",
       "    <tr>\n",
       "      <th>59</th>\n",
       "      <td>1997</td>\n",
       "      <td>80</td>\n",
       "    </tr>\n",
       "    <tr>\n",
       "      <th>75</th>\n",
       "      <td>1998</td>\n",
       "      <td>143</td>\n",
       "    </tr>\n",
       "    <tr>\n",
       "      <th>56</th>\n",
       "      <td>1999</td>\n",
       "      <td>218</td>\n",
       "    </tr>\n",
       "    <tr>\n",
       "      <th>20</th>\n",
       "      <td>2000</td>\n",
       "      <td>720</td>\n",
       "    </tr>\n",
       "    <tr>\n",
       "      <th>78</th>\n",
       "      <td>2001</td>\n",
       "      <td>805</td>\n",
       "    </tr>\n",
       "    <tr>\n",
       "      <th>32</th>\n",
       "      <td>2002</td>\n",
       "      <td>782</td>\n",
       "    </tr>\n",
       "    <tr>\n",
       "      <th>83</th>\n",
       "      <td>2003</td>\n",
       "      <td>1189</td>\n",
       "    </tr>\n",
       "    <tr>\n",
       "      <th>47</th>\n",
       "      <td>2004</td>\n",
       "      <td>1685</td>\n",
       "    </tr>\n",
       "    <tr>\n",
       "      <th>18</th>\n",
       "      <td>2005</td>\n",
       "      <td>9489</td>\n",
       "    </tr>\n",
       "    <tr>\n",
       "      <th>39</th>\n",
       "      <td>2006</td>\n",
       "      <td>511118</td>\n",
       "    </tr>\n",
       "    <tr>\n",
       "      <th>61</th>\n",
       "      <td>2007</td>\n",
       "      <td>513027</td>\n",
       "    </tr>\n",
       "    <tr>\n",
       "      <th>53</th>\n",
       "      <td>2008</td>\n",
       "      <td>509405</td>\n",
       "    </tr>\n",
       "    <tr>\n",
       "      <th>34</th>\n",
       "      <td>2009</td>\n",
       "      <td>491356</td>\n",
       "    </tr>\n",
       "    <tr>\n",
       "      <th>81</th>\n",
       "      <td>2010</td>\n",
       "      <td>489315</td>\n",
       "    </tr>\n",
       "    <tr>\n",
       "      <th>48</th>\n",
       "      <td>2011</td>\n",
       "      <td>478207</td>\n",
       "    </tr>\n",
       "    <tr>\n",
       "      <th>3</th>\n",
       "      <td>2012</td>\n",
       "      <td>483400</td>\n",
       "    </tr>\n",
       "    <tr>\n",
       "      <th>15</th>\n",
       "      <td>2013</td>\n",
       "      <td>475116</td>\n",
       "    </tr>\n",
       "    <tr>\n",
       "      <th>12</th>\n",
       "      <td>2014</td>\n",
       "      <td>470448</td>\n",
       "    </tr>\n",
       "    <tr>\n",
       "      <th>74</th>\n",
       "      <td>2015</td>\n",
       "      <td>466500</td>\n",
       "    </tr>\n",
       "    <tr>\n",
       "      <th>2</th>\n",
       "      <td>2016</td>\n",
       "      <td>461593</td>\n",
       "    </tr>\n",
       "  </tbody>\n",
       "</table>\n",
       "</div>"
      ],
      "text/plain": [
       "   COMPLAINT_YEAR  NUM_COMPLAINTS\n",
       "59           1997              80\n",
       "75           1998             143\n",
       "56           1999             218\n",
       "20           2000             720\n",
       "78           2001             805\n",
       "32           2002             782\n",
       "83           2003            1189\n",
       "47           2004            1685\n",
       "18           2005            9489\n",
       "39           2006          511118\n",
       "61           2007          513027\n",
       "53           2008          509405\n",
       "34           2009          491356\n",
       "81           2010          489315\n",
       "48           2011          478207\n",
       "3            2012          483400\n",
       "15           2013          475116\n",
       "12           2014          470448\n",
       "74           2015          466500\n",
       "2            2016          461593"
      ]
     },
     "execution_count": 8,
     "metadata": {},
     "output_type": "execute_result"
    }
   ],
   "source": [
    "complaint_start_result.sort_values('COMPLAINT_YEAR').tail(20)"
   ]
  },
  {
   "cell_type": "markdown",
   "metadata": {},
   "source": [
    "For some reason, there are complaints pre-2006... how many records?"
   ]
  },
  {
   "cell_type": "code",
   "execution_count": 9,
   "metadata": {
    "collapsed": true
   },
   "outputs": [],
   "source": [
    "# Create a boolean flag for those records greater than or equal to the year 2006\n",
    "complaint_start_result['2006_or_later'] = np.where(\n",
    "    complaint_start_result['COMPLAINT_YEAR'].astype('int') >= 2006,\n",
    "    '2006 Or Later',\n",
    "    'Before 2006'\n",
    ")\n",
    "\n",
    "# Sum up number of complaints per category\n",
    "complaint_start_result_grouped = complaint_start_result.groupby('2006_or_later').agg({'NUM_COMPLAINTS': [np.sum]}).reset_index()"
   ]
  },
  {
   "cell_type": "code",
   "execution_count": 10,
   "metadata": {},
   "outputs": [
    {
     "data": {
      "text/html": [
       "<div>\n",
       "<style>\n",
       "    .dataframe thead tr:only-child th {\n",
       "        text-align: right;\n",
       "    }\n",
       "\n",
       "    .dataframe thead th {\n",
       "        text-align: left;\n",
       "    }\n",
       "\n",
       "    .dataframe tbody tr th {\n",
       "        vertical-align: top;\n",
       "    }\n",
       "</style>\n",
       "<table border=\"1\" class=\"dataframe\">\n",
       "  <thead>\n",
       "    <tr>\n",
       "      <th></th>\n",
       "      <th>2006_or_later</th>\n",
       "      <th>NUM_COMPLAINTS</th>\n",
       "      <th>NUM_COMPLAINTS_PERCENT</th>\n",
       "    </tr>\n",
       "    <tr>\n",
       "      <th></th>\n",
       "      <th></th>\n",
       "      <th>sum</th>\n",
       "      <th></th>\n",
       "    </tr>\n",
       "  </thead>\n",
       "  <tbody>\n",
       "    <tr>\n",
       "      <th>0</th>\n",
       "      <td>2006 Or Later</td>\n",
       "      <td>5349485</td>\n",
       "      <td>99.706035</td>\n",
       "    </tr>\n",
       "    <tr>\n",
       "      <th>1</th>\n",
       "      <td>Before 2006</td>\n",
       "      <td>15772</td>\n",
       "      <td>0.293965</td>\n",
       "    </tr>\n",
       "  </tbody>\n",
       "</table>\n",
       "</div>"
      ],
      "text/plain": [
       "   2006_or_later NUM_COMPLAINTS NUM_COMPLAINTS_PERCENT\n",
       "                            sum                       \n",
       "0  2006 Or Later        5349485              99.706035\n",
       "1    Before 2006          15772               0.293965"
      ]
     },
     "execution_count": 10,
     "metadata": {},
     "output_type": "execute_result"
    }
   ],
   "source": [
    "# Calculate percentage of total\n",
    "complaint_start_result_grouped['NUM_COMPLAINTS_PERCENT'] = (complaint_start_result_grouped['NUM_COMPLAINTS']['sum'] / complaint_start_result_grouped['NUM_COMPLAINTS']['sum'].sum())*100\n",
    "complaint_start_result_grouped"
   ]
  },
  {
   "cell_type": "markdown",
   "metadata": {},
   "source": [
    "Okay, there are a negligible amount of rows where the incident started before 2006. Maybe the data set meant complaints that were _**reported**_ 2006 or after?"
   ]
  },
  {
   "cell_type": "code",
   "execution_count": 11,
   "metadata": {},
   "outputs": [
    {
     "name": "stdout",
     "output_type": "stream",
     "text": [
      "Query started at 05:04:28 AM UTC; Query executed in 0.07 m"
     ]
    }
   ],
   "source": [
    "report_result = %read_sql \\\n",
    "SELECT \\\n",
    "    REPORTED_DATE_TIMESTAMP_YEAR as REPORTED_YEAR, \\\n",
    "    COUNT(*) as NUM_COMPLAINTS \\\n",
    "FROM df \\\n",
    "GROUP BY REPORTED_DATE_TIMESTAMP_YEAR"
   ]
  },
  {
   "cell_type": "code",
   "execution_count": 12,
   "metadata": {},
   "outputs": [
    {
     "data": {
      "text/plain": [
       "<matplotlib.axes._subplots.AxesSubplot at 0x7fb167cbccc0>"
      ]
     },
     "execution_count": 12,
     "metadata": {},
     "output_type": "execute_result"
    },
    {
     "data": {
      "image/png": "[encoded data removed]",
      "text/plain": [
       "<matplotlib.figure.Figure at 0x7fb167d35940>"
      ]
     },
     "metadata": {},
     "output_type": "display_data"
    }
   ],
   "source": [
    "# Plot number of complaints per year\n",
    "report_result.sort_values('REPORTED_YEAR').plot(kind = 'bar', x = 'REPORTED_YEAR', y = 'NUM_COMPLAINTS')"
   ]
  },
  {
   "cell_type": "markdown",
   "metadata": {},
   "source": [
    "Okay, I guess that is what the dataset description meant. Anything that is was _**REPORTED**_ 2006 or later. This is fine, as it implies that there were incidents that were reported, in some cases, DECADES after they actually happened. There was even one in... 1015? I mean... the declaration of independence was on July 4th, 1776. Plus someone who was eben live in 1015 is now 1002 years old...\n",
    "\n",
    "Let's see what the 1015 one is..."
   ]
  },
  {
   "cell_type": "code",
   "execution_count": 13,
   "metadata": {},
   "outputs": [
    {
     "data": {
      "text/html": [
       "<div>\n",
       "<style>\n",
       "    .dataframe thead tr:only-child th {\n",
       "        text-align: right;\n",
       "    }\n",
       "\n",
       "    .dataframe thead th {\n",
       "        text-align: left;\n",
       "    }\n",
       "\n",
       "    .dataframe tbody tr th {\n",
       "        vertical-align: top;\n",
       "    }\n",
       "</style>\n",
       "<table border=\"1\" class=\"dataframe\">\n",
       "  <thead>\n",
       "    <tr style=\"text-align: right;\">\n",
       "      <th></th>\n",
       "      <th>COMPLAINT_NUMBER</th>\n",
       "      <th>COMPLAINT_START_TIMESTAMP</th>\n",
       "      <th>COMPLAINT_END_TIMESTAMP</th>\n",
       "      <th>REPORTED_DATE_TIMESTAMP</th>\n",
       "      <th>COMPLAINT_START_TIMESTAMP_YEAR</th>\n",
       "      <th>COMPLAINT_START_TIMESTAMP_MONTH</th>\n",
       "      <th>COMPLAINT_START_TIMESTAMP_DAY</th>\n",
       "      <th>COMPLAINT_START_TIMESTAMP_WEEKDAY</th>\n",
       "      <th>COMPLAINT_START_TIMESTAMP_HOUR</th>\n",
       "      <th>COMPLAINT_END_TIMESTAMP_YEAR</th>\n",
       "      <th>...</th>\n",
       "      <th>OFFENSE_DESCRIPTION</th>\n",
       "      <th>OFFENSE_RESULT</th>\n",
       "      <th>OFFENSE_LEVEL</th>\n",
       "      <th>JURISDICTION</th>\n",
       "      <th>BOROUGH</th>\n",
       "      <th>PRECINCT</th>\n",
       "      <th>SPECIFIC_LOCATION</th>\n",
       "      <th>PREMISE_DESCRIPTION</th>\n",
       "      <th>LAT</th>\n",
       "      <th>LON</th>\n",
       "    </tr>\n",
       "  </thead>\n",
       "  <tbody>\n",
       "    <tr>\n",
       "      <th>0</th>\n",
       "      <td>211843983</td>\n",
       "      <td>1015-12-10 16:45:00</td>\n",
       "      <td>1015-12-10 16:45:00</td>\n",
       "      <td>2015-12-10</td>\n",
       "      <td>1015</td>\n",
       "      <td>12</td>\n",
       "      <td>10</td>\n",
       "      <td>Sun</td>\n",
       "      <td>16</td>\n",
       "      <td>1015</td>\n",
       "      <td>...</td>\n",
       "      <td>FELONY ASSAULT</td>\n",
       "      <td>COMPLETED</td>\n",
       "      <td>FELONY</td>\n",
       "      <td>N.Y. POLICE DEPT</td>\n",
       "      <td>MANHATTAN</td>\n",
       "      <td>18</td>\n",
       "      <td>INSIDE</td>\n",
       "      <td>STREET</td>\n",
       "      <td>40.761311</td>\n",
       "      <td>-73.973083</td>\n",
       "    </tr>\n",
       "    <tr>\n",
       "      <th>1</th>\n",
       "      <td>131106711</td>\n",
       "      <td>1015-12-10 12:30:00</td>\n",
       "      <td>2015-12-10 12:40:00</td>\n",
       "      <td>2015-12-10</td>\n",
       "      <td>1015</td>\n",
       "      <td>12</td>\n",
       "      <td>10</td>\n",
       "      <td>Sun</td>\n",
       "      <td>12</td>\n",
       "      <td>2015</td>\n",
       "      <td>...</td>\n",
       "      <td>ASSAULT 3 &amp; RELATED OFFENSES</td>\n",
       "      <td>COMPLETED</td>\n",
       "      <td>MISDEMEANOR</td>\n",
       "      <td>N.Y. POLICE DEPT</td>\n",
       "      <td>QUEENS</td>\n",
       "      <td>108</td>\n",
       "      <td>None</td>\n",
       "      <td>STREET</td>\n",
       "      <td>40.748137</td>\n",
       "      <td>-73.906245</td>\n",
       "    </tr>\n",
       "    <tr>\n",
       "      <th>2</th>\n",
       "      <td>821425869</td>\n",
       "      <td>1015-12-01 14:30:00</td>\n",
       "      <td>2015-12-01 14:40:00</td>\n",
       "      <td>2015-12-01</td>\n",
       "      <td>1015</td>\n",
       "      <td>12</td>\n",
       "      <td>1</td>\n",
       "      <td>Fri</td>\n",
       "      <td>14</td>\n",
       "      <td>2015</td>\n",
       "      <td>...</td>\n",
       "      <td>GRAND LARCENY</td>\n",
       "      <td>COMPLETED</td>\n",
       "      <td>FELONY</td>\n",
       "      <td>N.Y. POLICE DEPT</td>\n",
       "      <td>BROOKLYN</td>\n",
       "      <td>94</td>\n",
       "      <td>INSIDE</td>\n",
       "      <td>OTHER</td>\n",
       "      <td>40.717573</td>\n",
       "      <td>-73.962535</td>\n",
       "    </tr>\n",
       "    <tr>\n",
       "      <th>3</th>\n",
       "      <td>161924074</td>\n",
       "      <td>1015-10-02 12:11:00</td>\n",
       "      <td>2015-11-23 13:00:00</td>\n",
       "      <td>2015-11-23</td>\n",
       "      <td>1015</td>\n",
       "      <td>10</td>\n",
       "      <td>2</td>\n",
       "      <td>Mon</td>\n",
       "      <td>12</td>\n",
       "      <td>2015</td>\n",
       "      <td>...</td>\n",
       "      <td>GRAND LARCENY</td>\n",
       "      <td>COMPLETED</td>\n",
       "      <td>FELONY</td>\n",
       "      <td>N.Y. POLICE DEPT</td>\n",
       "      <td>MANHATTAN</td>\n",
       "      <td>25</td>\n",
       "      <td>None</td>\n",
       "      <td>STREET</td>\n",
       "      <td>40.804384</td>\n",
       "      <td>-73.937422</td>\n",
       "    </tr>\n",
       "    <tr>\n",
       "      <th>4</th>\n",
       "      <td>414788103</td>\n",
       "      <td>1015-11-02 19:30:00</td>\n",
       "      <td>1015-11-02 19:30:00</td>\n",
       "      <td>2015-11-05</td>\n",
       "      <td>1015</td>\n",
       "      <td>11</td>\n",
       "      <td>2</td>\n",
       "      <td>Thu</td>\n",
       "      <td>19</td>\n",
       "      <td>1015</td>\n",
       "      <td>...</td>\n",
       "      <td>PETIT LARCENY</td>\n",
       "      <td>COMPLETED</td>\n",
       "      <td>MISDEMEANOR</td>\n",
       "      <td>N.Y. POLICE DEPT</td>\n",
       "      <td>BROOKLYN</td>\n",
       "      <td>75</td>\n",
       "      <td>INSIDE</td>\n",
       "      <td>RESIDENCE - APT. HOUSE</td>\n",
       "      <td>40.674073</td>\n",
       "      <td>-73.894438</td>\n",
       "    </tr>\n",
       "    <tr>\n",
       "      <th>5</th>\n",
       "      <td>148685327</td>\n",
       "      <td>1015-10-23 16:00:00</td>\n",
       "      <td>2015-10-23 16:05:00</td>\n",
       "      <td>2015-10-23</td>\n",
       "      <td>1015</td>\n",
       "      <td>10</td>\n",
       "      <td>23</td>\n",
       "      <td>Mon</td>\n",
       "      <td>16</td>\n",
       "      <td>2015</td>\n",
       "      <td>...</td>\n",
       "      <td>OTHER</td>\n",
       "      <td>COMPLETED</td>\n",
       "      <td>FELONY</td>\n",
       "      <td>N.Y. POLICE DEPT</td>\n",
       "      <td>BRONX</td>\n",
       "      <td>41</td>\n",
       "      <td>INSIDE</td>\n",
       "      <td>RESIDENCE - APT. HOUSE</td>\n",
       "      <td>40.819435</td>\n",
       "      <td>-73.894927</td>\n",
       "    </tr>\n",
       "    <tr>\n",
       "      <th>6</th>\n",
       "      <td>685788623</td>\n",
       "      <td>1015-02-14 16:13:00</td>\n",
       "      <td>2016-02-20 16:15:00</td>\n",
       "      <td>2016-04-04</td>\n",
       "      <td>1015</td>\n",
       "      <td>2</td>\n",
       "      <td>14</td>\n",
       "      <td>Tue</td>\n",
       "      <td>16</td>\n",
       "      <td>2016</td>\n",
       "      <td>...</td>\n",
       "      <td>PETIT LARCENY</td>\n",
       "      <td>COMPLETED</td>\n",
       "      <td>MISDEMEANOR</td>\n",
       "      <td>N.Y. POLICE DEPT</td>\n",
       "      <td>BROOKLYN</td>\n",
       "      <td>90</td>\n",
       "      <td>INSIDE</td>\n",
       "      <td>OTHER</td>\n",
       "      <td>40.699359</td>\n",
       "      <td>-73.953832</td>\n",
       "    </tr>\n",
       "    <tr>\n",
       "      <th>7</th>\n",
       "      <td>388647572</td>\n",
       "      <td>1015-11-26 13:30:00</td>\n",
       "      <td>2015-12-03 14:00:00</td>\n",
       "      <td>2016-01-02</td>\n",
       "      <td>1015</td>\n",
       "      <td>11</td>\n",
       "      <td>26</td>\n",
       "      <td>Sun</td>\n",
       "      <td>13</td>\n",
       "      <td>2015</td>\n",
       "      <td>...</td>\n",
       "      <td>PETIT LARCENY</td>\n",
       "      <td>COMPLETED</td>\n",
       "      <td>MISDEMEANOR</td>\n",
       "      <td>N.Y. POLICE DEPT</td>\n",
       "      <td>QUEENS</td>\n",
       "      <td>106</td>\n",
       "      <td>FRONT OF</td>\n",
       "      <td>RESIDENCE-HOUSE</td>\n",
       "      <td>40.651283</td>\n",
       "      <td>-73.841805</td>\n",
       "    </tr>\n",
       "  </tbody>\n",
       "</table>\n",
       "<p>8 rows × 32 columns</p>\n",
       "</div>"
      ],
      "text/plain": [
       "   COMPLAINT_NUMBER COMPLAINT_START_TIMESTAMP COMPLAINT_END_TIMESTAMP  \\\n",
       "0         211843983       1015-12-10 16:45:00     1015-12-10 16:45:00   \n",
       "1         131106711       1015-12-10 12:30:00     2015-12-10 12:40:00   \n",
       "2         821425869       1015-12-01 14:30:00     2015-12-01 14:40:00   \n",
       "3         161924074       1015-10-02 12:11:00     2015-11-23 13:00:00   \n",
       "4         414788103       1015-11-02 19:30:00     1015-11-02 19:30:00   \n",
       "5         148685327       1015-10-23 16:00:00     2015-10-23 16:05:00   \n",
       "6         685788623       1015-02-14 16:13:00     2016-02-20 16:15:00   \n",
       "7         388647572       1015-11-26 13:30:00     2015-12-03 14:00:00   \n",
       "\n",
       "  REPORTED_DATE_TIMESTAMP COMPLAINT_START_TIMESTAMP_YEAR  \\\n",
       "0              2015-12-10                           1015   \n",
       "1              2015-12-10                           1015   \n",
       "2              2015-12-01                           1015   \n",
       "3              2015-11-23                           1015   \n",
       "4              2015-11-05                           1015   \n",
       "5              2015-10-23                           1015   \n",
       "6              2016-04-04                           1015   \n",
       "7              2016-01-02                           1015   \n",
       "\n",
       "  COMPLAINT_START_TIMESTAMP_MONTH COMPLAINT_START_TIMESTAMP_DAY  \\\n",
       "0                              12                            10   \n",
       "1                              12                            10   \n",
       "2                              12                             1   \n",
       "3                              10                             2   \n",
       "4                              11                             2   \n",
       "5                              10                            23   \n",
       "6                               2                            14   \n",
       "7                              11                            26   \n",
       "\n",
       "  COMPLAINT_START_TIMESTAMP_WEEKDAY COMPLAINT_START_TIMESTAMP_HOUR  \\\n",
       "0                               Sun                             16   \n",
       "1                               Sun                             12   \n",
       "2                               Fri                             14   \n",
       "3                               Mon                             12   \n",
       "4                               Thu                             19   \n",
       "5                               Mon                             16   \n",
       "6                               Tue                             16   \n",
       "7                               Sun                             13   \n",
       "\n",
       "  COMPLAINT_END_TIMESTAMP_YEAR    ...               OFFENSE_DESCRIPTION  \\\n",
       "0                         1015    ...                    FELONY ASSAULT   \n",
       "1                         2015    ...      ASSAULT 3 & RELATED OFFENSES   \n",
       "2                         2015    ...                     GRAND LARCENY   \n",
       "3                         2015    ...                     GRAND LARCENY   \n",
       "4                         1015    ...                     PETIT LARCENY   \n",
       "5                         2015    ...                             OTHER   \n",
       "6                         2016    ...                     PETIT LARCENY   \n",
       "7                         2015    ...                     PETIT LARCENY   \n",
       "\n",
       "  OFFENSE_RESULT OFFENSE_LEVEL      JURISDICTION    BOROUGH PRECINCT  \\\n",
       "0      COMPLETED        FELONY  N.Y. POLICE DEPT  MANHATTAN       18   \n",
       "1      COMPLETED   MISDEMEANOR  N.Y. POLICE DEPT     QUEENS      108   \n",
       "2      COMPLETED        FELONY  N.Y. POLICE DEPT   BROOKLYN       94   \n",
       "3      COMPLETED        FELONY  N.Y. POLICE DEPT  MANHATTAN       25   \n",
       "4      COMPLETED   MISDEMEANOR  N.Y. POLICE DEPT   BROOKLYN       75   \n",
       "5      COMPLETED        FELONY  N.Y. POLICE DEPT      BRONX       41   \n",
       "6      COMPLETED   MISDEMEANOR  N.Y. POLICE DEPT   BROOKLYN       90   \n",
       "7      COMPLETED   MISDEMEANOR  N.Y. POLICE DEPT     QUEENS      106   \n",
       "\n",
       "  SPECIFIC_LOCATION     PREMISE_DESCRIPTION        LAT        LON  \n",
       "0            INSIDE                  STREET  40.761311 -73.973083  \n",
       "1              None                  STREET  40.748137 -73.906245  \n",
       "2            INSIDE                   OTHER  40.717573 -73.962535  \n",
       "3              None                  STREET  40.804384 -73.937422  \n",
       "4            INSIDE  RESIDENCE - APT. HOUSE  40.674073 -73.894438  \n",
       "5            INSIDE  RESIDENCE - APT. HOUSE  40.819435 -73.894927  \n",
       "6            INSIDE                   OTHER  40.699359 -73.953832  \n",
       "7          FRONT OF         RESIDENCE-HOUSE  40.651283 -73.841805  \n",
       "\n",
       "[8 rows x 32 columns]"
      ]
     },
     "execution_count": 13,
     "metadata": {},
     "output_type": "execute_result"
    }
   ],
   "source": [
    "# Look at those rows which the incident started on the year 1015\n",
    "df[df['COMPLAINT_START_TIMESTAMP_YEAR'] == 1015].toPandas()"
   ]
  },
  {
   "cell_type": "markdown",
   "metadata": {},
   "source": [
    "Welp, it looks like these were definitely typos. They should all be in the 2015 - 2016 range. It seems here that some 1015s should be 2015, and some should be 2016. For example, in row id \\#6, you'd imagine that a small misdemeanor of Petit Larceny in Brooklyn lasted from 2016 to 2016... even then, though, it indicates that the incident lasted from February 14th to 20th, which I honestly can't be too sure of here. In any event, I guess my point is that I don't want to make assumptions about any of these dates or typos because I simply don't know much about the criminal system, and crimes in general. I think I'm going to take out all of these years that are in the 1000s millenium - they are typos and may mess with my analysis when I look at the time it took to report or the time it took for the incident to finish.\n",
    "\n",
    "Let's take a look at the 1900 one:"
   ]
  },
  {
   "cell_type": "code",
   "execution_count": 14,
   "metadata": {},
   "outputs": [
    {
     "data": {
      "text/html": [
       "<div>\n",
       "<style>\n",
       "    .dataframe thead tr:only-child th {\n",
       "        text-align: right;\n",
       "    }\n",
       "\n",
       "    .dataframe thead th {\n",
       "        text-align: left;\n",
       "    }\n",
       "\n",
       "    .dataframe tbody tr th {\n",
       "        vertical-align: top;\n",
       "    }\n",
       "</style>\n",
       "<table border=\"1\" class=\"dataframe\">\n",
       "  <thead>\n",
       "    <tr style=\"text-align: right;\">\n",
       "      <th></th>\n",
       "      <th>COMPLAINT_NUMBER</th>\n",
       "      <th>COMPLAINT_START_TIMESTAMP</th>\n",
       "      <th>COMPLAINT_END_TIMESTAMP</th>\n",
       "      <th>REPORTED_DATE_TIMESTAMP</th>\n",
       "      <th>COMPLAINT_START_TIMESTAMP_YEAR</th>\n",
       "      <th>COMPLAINT_START_TIMESTAMP_MONTH</th>\n",
       "      <th>COMPLAINT_START_TIMESTAMP_DAY</th>\n",
       "      <th>COMPLAINT_START_TIMESTAMP_WEEKDAY</th>\n",
       "      <th>COMPLAINT_START_TIMESTAMP_HOUR</th>\n",
       "      <th>COMPLAINT_END_TIMESTAMP_YEAR</th>\n",
       "      <th>...</th>\n",
       "      <th>OFFENSE_DESCRIPTION</th>\n",
       "      <th>OFFENSE_RESULT</th>\n",
       "      <th>OFFENSE_LEVEL</th>\n",
       "      <th>JURISDICTION</th>\n",
       "      <th>BOROUGH</th>\n",
       "      <th>PRECINCT</th>\n",
       "      <th>SPECIFIC_LOCATION</th>\n",
       "      <th>PREMISE_DESCRIPTION</th>\n",
       "      <th>LAT</th>\n",
       "      <th>LON</th>\n",
       "    </tr>\n",
       "  </thead>\n",
       "  <tbody>\n",
       "    <tr>\n",
       "      <th>0</th>\n",
       "      <td>857331711</td>\n",
       "      <td>1900-05-08 21:00:00</td>\n",
       "      <td>1900-05-08 21:00:00</td>\n",
       "      <td>2009-05-08</td>\n",
       "      <td>1900</td>\n",
       "      <td>5</td>\n",
       "      <td>8</td>\n",
       "      <td>Tue</td>\n",
       "      <td>21</td>\n",
       "      <td>1900</td>\n",
       "      <td>...</td>\n",
       "      <td>ASSAULT 3 &amp; RELATED OFFENSES</td>\n",
       "      <td>COMPLETED</td>\n",
       "      <td>MISDEMEANOR</td>\n",
       "      <td>N.Y. HOUSING POLICE</td>\n",
       "      <td>MANHATTAN</td>\n",
       "      <td>23</td>\n",
       "      <td>FRONT OF</td>\n",
       "      <td>RESIDENCE - PUBLIC HOUSING</td>\n",
       "      <td>40.788861</td>\n",
       "      <td>-73.952004</td>\n",
       "    </tr>\n",
       "    <tr>\n",
       "      <th>1</th>\n",
       "      <td>346351111</td>\n",
       "      <td>1900-08-06 09:00:00</td>\n",
       "      <td>2010-01-01 19:00:00</td>\n",
       "      <td>2010-09-07</td>\n",
       "      <td>1900</td>\n",
       "      <td>8</td>\n",
       "      <td>6</td>\n",
       "      <td>Mon</td>\n",
       "      <td>9</td>\n",
       "      <td>2010</td>\n",
       "      <td>...</td>\n",
       "      <td>OTHER</td>\n",
       "      <td>COMPLETED</td>\n",
       "      <td>MISDEMEANOR</td>\n",
       "      <td>N.Y. POLICE DEPT</td>\n",
       "      <td>MANHATTAN</td>\n",
       "      <td>19</td>\n",
       "      <td>INSIDE</td>\n",
       "      <td>RESIDENCE - APT. HOUSE</td>\n",
       "      <td>40.774602</td>\n",
       "      <td>-73.945017</td>\n",
       "    </tr>\n",
       "    <tr>\n",
       "      <th>2</th>\n",
       "      <td>130320181</td>\n",
       "      <td>1900-08-07 08:30:00</td>\n",
       "      <td>2006-08-07 19:00:00</td>\n",
       "      <td>2006-08-07</td>\n",
       "      <td>1900</td>\n",
       "      <td>8</td>\n",
       "      <td>7</td>\n",
       "      <td>Tue</td>\n",
       "      <td>8</td>\n",
       "      <td>2006</td>\n",
       "      <td>...</td>\n",
       "      <td>OTHER</td>\n",
       "      <td>COMPLETED</td>\n",
       "      <td>FELONY</td>\n",
       "      <td>N.Y. POLICE DEPT</td>\n",
       "      <td>BROOKLYN</td>\n",
       "      <td>61</td>\n",
       "      <td>INSIDE</td>\n",
       "      <td>RESIDENCE - APT. HOUSE</td>\n",
       "      <td>40.603887</td>\n",
       "      <td>-73.942543</td>\n",
       "    </tr>\n",
       "    <tr>\n",
       "      <th>3</th>\n",
       "      <td>944477711</td>\n",
       "      <td>1900-03-10 19:00:00</td>\n",
       "      <td>2006-03-19 19:00:00</td>\n",
       "      <td>2006-03-20</td>\n",
       "      <td>1900</td>\n",
       "      <td>3</td>\n",
       "      <td>10</td>\n",
       "      <td>Sat</td>\n",
       "      <td>19</td>\n",
       "      <td>2006</td>\n",
       "      <td>...</td>\n",
       "      <td>OTHER</td>\n",
       "      <td>COMPLETED</td>\n",
       "      <td>FELONY</td>\n",
       "      <td>N.Y. POLICE DEPT</td>\n",
       "      <td>BROOKLYN</td>\n",
       "      <td>66</td>\n",
       "      <td>INSIDE</td>\n",
       "      <td>RESIDENCE - APT. HOUSE</td>\n",
       "      <td>40.646130</td>\n",
       "      <td>-73.973227</td>\n",
       "    </tr>\n",
       "    <tr>\n",
       "      <th>4</th>\n",
       "      <td>667928187</td>\n",
       "      <td>1900-11-26 19:00:00</td>\n",
       "      <td>1900-11-26 19:00:00</td>\n",
       "      <td>2006-02-26</td>\n",
       "      <td>1900</td>\n",
       "      <td>11</td>\n",
       "      <td>26</td>\n",
       "      <td>Mon</td>\n",
       "      <td>19</td>\n",
       "      <td>1900</td>\n",
       "      <td>...</td>\n",
       "      <td>HARRASSMENT 2</td>\n",
       "      <td>COMPLETED</td>\n",
       "      <td>VIOLATION</td>\n",
       "      <td>N.Y. POLICE DEPT</td>\n",
       "      <td>MANHATTAN</td>\n",
       "      <td>13</td>\n",
       "      <td>INSIDE</td>\n",
       "      <td>RESIDENCE-HOUSE</td>\n",
       "      <td>40.735323</td>\n",
       "      <td>-73.984240</td>\n",
       "    </tr>\n",
       "  </tbody>\n",
       "</table>\n",
       "<p>5 rows × 32 columns</p>\n",
       "</div>"
      ],
      "text/plain": [
       "   COMPLAINT_NUMBER COMPLAINT_START_TIMESTAMP COMPLAINT_END_TIMESTAMP  \\\n",
       "0         857331711       1900-05-08 21:00:00     1900-05-08 21:00:00   \n",
       "1         346351111       1900-08-06 09:00:00     2010-01-01 19:00:00   \n",
       "2         130320181       1900-08-07 08:30:00     2006-08-07 19:00:00   \n",
       "3         944477711       1900-03-10 19:00:00     2006-03-19 19:00:00   \n",
       "4         667928187       1900-11-26 19:00:00     1900-11-26 19:00:00   \n",
       "\n",
       "  REPORTED_DATE_TIMESTAMP COMPLAINT_START_TIMESTAMP_YEAR  \\\n",
       "0              2009-05-08                           1900   \n",
       "1              2010-09-07                           1900   \n",
       "2              2006-08-07                           1900   \n",
       "3              2006-03-20                           1900   \n",
       "4              2006-02-26                           1900   \n",
       "\n",
       "  COMPLAINT_START_TIMESTAMP_MONTH COMPLAINT_START_TIMESTAMP_DAY  \\\n",
       "0                               5                             8   \n",
       "1                               8                             6   \n",
       "2                               8                             7   \n",
       "3                               3                            10   \n",
       "4                              11                            26   \n",
       "\n",
       "  COMPLAINT_START_TIMESTAMP_WEEKDAY COMPLAINT_START_TIMESTAMP_HOUR  \\\n",
       "0                               Tue                             21   \n",
       "1                               Mon                              9   \n",
       "2                               Tue                              8   \n",
       "3                               Sat                             19   \n",
       "4                               Mon                             19   \n",
       "\n",
       "  COMPLAINT_END_TIMESTAMP_YEAR    ...               OFFENSE_DESCRIPTION  \\\n",
       "0                         1900    ...      ASSAULT 3 & RELATED OFFENSES   \n",
       "1                         2010    ...                             OTHER   \n",
       "2                         2006    ...                             OTHER   \n",
       "3                         2006    ...                             OTHER   \n",
       "4                         1900    ...                     HARRASSMENT 2   \n",
       "\n",
       "  OFFENSE_RESULT OFFENSE_LEVEL         JURISDICTION    BOROUGH PRECINCT  \\\n",
       "0      COMPLETED   MISDEMEANOR  N.Y. HOUSING POLICE  MANHATTAN       23   \n",
       "1      COMPLETED   MISDEMEANOR     N.Y. POLICE DEPT  MANHATTAN       19   \n",
       "2      COMPLETED        FELONY     N.Y. POLICE DEPT   BROOKLYN       61   \n",
       "3      COMPLETED        FELONY     N.Y. POLICE DEPT   BROOKLYN       66   \n",
       "4      COMPLETED     VIOLATION     N.Y. POLICE DEPT  MANHATTAN       13   \n",
       "\n",
       "  SPECIFIC_LOCATION         PREMISE_DESCRIPTION        LAT        LON  \n",
       "0          FRONT OF  RESIDENCE - PUBLIC HOUSING  40.788861 -73.952004  \n",
       "1            INSIDE      RESIDENCE - APT. HOUSE  40.774602 -73.945017  \n",
       "2            INSIDE      RESIDENCE - APT. HOUSE  40.603887 -73.942543  \n",
       "3            INSIDE      RESIDENCE - APT. HOUSE  40.646130 -73.973227  \n",
       "4            INSIDE             RESIDENCE-HOUSE  40.735323 -73.984240  \n",
       "\n",
       "[5 rows x 32 columns]"
      ]
     },
     "execution_count": 14,
     "metadata": {},
     "output_type": "execute_result"
    }
   ],
   "source": [
    "# Look at those rows which the incident started on the year 1900\n",
    "df[df['COMPLAINT_START_TIMESTAMP_YEAR'] == 1900].toPandas()"
   ]
  },
  {
   "cell_type": "markdown",
   "metadata": {},
   "source": [
    "Hmm... many of these look like typos too. Row index \\#1 has one going from 1900 to 2010, which is clearly a typo. I'm not sure exactly what the typo should be though... 1900 to 2010 is not even close. The ones from 1900 to 1900 are also kinda weird... why would someone in 2006 report a crime that happened in the 1900s? Maybe there is something I'm missing here, but it just doesn't make sense to me. Nowhere in the NYC [statute of limitations](https://www.nycourts.gov/courthelp/GoingToCourt/SOLchart.shtml) does any crime let you report _**100 years later**_, let alone if that person who any parties involved would still be alive then...\n",
    "\n",
    "I'm not convinced of these 1900 ones so far... let's try one in 1980 to see an example of a crime where it's plausible that the reportee could even be alive."
   ]
  },
  {
   "cell_type": "code",
   "execution_count": 15,
   "metadata": {},
   "outputs": [
    {
     "data": {
      "text/html": [
       "<div>\n",
       "<style>\n",
       "    .dataframe thead tr:only-child th {\n",
       "        text-align: right;\n",
       "    }\n",
       "\n",
       "    .dataframe thead th {\n",
       "        text-align: left;\n",
       "    }\n",
       "\n",
       "    .dataframe tbody tr th {\n",
       "        vertical-align: top;\n",
       "    }\n",
       "</style>\n",
       "<table border=\"1\" class=\"dataframe\">\n",
       "  <thead>\n",
       "    <tr style=\"text-align: right;\">\n",
       "      <th></th>\n",
       "      <th>COMPLAINT_NUMBER</th>\n",
       "      <th>COMPLAINT_START_TIMESTAMP</th>\n",
       "      <th>COMPLAINT_END_TIMESTAMP</th>\n",
       "      <th>REPORTED_DATE_TIMESTAMP</th>\n",
       "      <th>COMPLAINT_START_TIMESTAMP_YEAR</th>\n",
       "      <th>COMPLAINT_START_TIMESTAMP_MONTH</th>\n",
       "      <th>COMPLAINT_START_TIMESTAMP_DAY</th>\n",
       "      <th>COMPLAINT_START_TIMESTAMP_WEEKDAY</th>\n",
       "      <th>COMPLAINT_START_TIMESTAMP_HOUR</th>\n",
       "      <th>COMPLAINT_END_TIMESTAMP_YEAR</th>\n",
       "      <th>...</th>\n",
       "      <th>OFFENSE_DESCRIPTION</th>\n",
       "      <th>OFFENSE_RESULT</th>\n",
       "      <th>OFFENSE_LEVEL</th>\n",
       "      <th>JURISDICTION</th>\n",
       "      <th>BOROUGH</th>\n",
       "      <th>PRECINCT</th>\n",
       "      <th>SPECIFIC_LOCATION</th>\n",
       "      <th>PREMISE_DESCRIPTION</th>\n",
       "      <th>LAT</th>\n",
       "      <th>LON</th>\n",
       "    </tr>\n",
       "  </thead>\n",
       "  <tbody>\n",
       "    <tr>\n",
       "      <th>0</th>\n",
       "      <td>344579314</td>\n",
       "      <td>1980-04-30 17:15:00</td>\n",
       "      <td>1980-04-30 17:15:00</td>\n",
       "      <td>2009-08-05</td>\n",
       "      <td>1980</td>\n",
       "      <td>4</td>\n",
       "      <td>30</td>\n",
       "      <td>Wed</td>\n",
       "      <td>17</td>\n",
       "      <td>1980</td>\n",
       "      <td>...</td>\n",
       "      <td>OTHER</td>\n",
       "      <td>COMPLETED</td>\n",
       "      <td>FELONY</td>\n",
       "      <td>N.Y. POLICE DEPT</td>\n",
       "      <td>BROOKLYN</td>\n",
       "      <td>79</td>\n",
       "      <td>INSIDE</td>\n",
       "      <td>OTHER</td>\n",
       "      <td>40.690629</td>\n",
       "      <td>-73.957927</td>\n",
       "    </tr>\n",
       "    <tr>\n",
       "      <th>1</th>\n",
       "      <td>141684222</td>\n",
       "      <td>1980-12-30 09:00:00</td>\n",
       "      <td>2013-07-01 09:00:00</td>\n",
       "      <td>2013-09-26</td>\n",
       "      <td>1980</td>\n",
       "      <td>12</td>\n",
       "      <td>30</td>\n",
       "      <td>Tue</td>\n",
       "      <td>9</td>\n",
       "      <td>2013</td>\n",
       "      <td>...</td>\n",
       "      <td>GRAND LARCENY</td>\n",
       "      <td>COMPLETED</td>\n",
       "      <td>FELONY</td>\n",
       "      <td>N.Y. POLICE DEPT</td>\n",
       "      <td>MANHATTAN</td>\n",
       "      <td>18</td>\n",
       "      <td>INSIDE</td>\n",
       "      <td>RESIDENCE - APT. HOUSE</td>\n",
       "      <td>40.759711</td>\n",
       "      <td>-73.993562</td>\n",
       "    </tr>\n",
       "    <tr>\n",
       "      <th>2</th>\n",
       "      <td>948543549</td>\n",
       "      <td>1980-01-30 12:00:00</td>\n",
       "      <td>2010-11-11 07:55:00</td>\n",
       "      <td>2010-11-18</td>\n",
       "      <td>1980</td>\n",
       "      <td>1</td>\n",
       "      <td>30</td>\n",
       "      <td>Wed</td>\n",
       "      <td>12</td>\n",
       "      <td>2010</td>\n",
       "      <td>...</td>\n",
       "      <td>OFF. AGNST PUB ORD SENSBLTY &amp;</td>\n",
       "      <td>COMPLETED</td>\n",
       "      <td>MISDEMEANOR</td>\n",
       "      <td>N.Y. POLICE DEPT</td>\n",
       "      <td>MANHATTAN</td>\n",
       "      <td>18</td>\n",
       "      <td>INSIDE</td>\n",
       "      <td>RESIDENCE - APT. HOUSE</td>\n",
       "      <td>40.763866</td>\n",
       "      <td>-73.984963</td>\n",
       "    </tr>\n",
       "    <tr>\n",
       "      <th>3</th>\n",
       "      <td>971565071</td>\n",
       "      <td>1980-03-22 07:15:00</td>\n",
       "      <td>1980-03-22 07:15:00</td>\n",
       "      <td>2014-06-24</td>\n",
       "      <td>1980</td>\n",
       "      <td>3</td>\n",
       "      <td>22</td>\n",
       "      <td>Sat</td>\n",
       "      <td>7</td>\n",
       "      <td>1980</td>\n",
       "      <td>...</td>\n",
       "      <td>OTHER</td>\n",
       "      <td>COMPLETED</td>\n",
       "      <td>FELONY</td>\n",
       "      <td>N.Y. POLICE DEPT</td>\n",
       "      <td>BRONX</td>\n",
       "      <td>43</td>\n",
       "      <td>INSIDE</td>\n",
       "      <td>OTHER</td>\n",
       "      <td>40.829629</td>\n",
       "      <td>-73.868243</td>\n",
       "    </tr>\n",
       "    <tr>\n",
       "      <th>4</th>\n",
       "      <td>856926861</td>\n",
       "      <td>1980-06-12 15:00:00</td>\n",
       "      <td>2008-06-16 08:00:00</td>\n",
       "      <td>2008-06-18</td>\n",
       "      <td>1980</td>\n",
       "      <td>6</td>\n",
       "      <td>12</td>\n",
       "      <td>Thu</td>\n",
       "      <td>15</td>\n",
       "      <td>2008</td>\n",
       "      <td>...</td>\n",
       "      <td>PETIT LARCENY</td>\n",
       "      <td>COMPLETED</td>\n",
       "      <td>MISDEMEANOR</td>\n",
       "      <td>N.Y. POLICE DEPT</td>\n",
       "      <td>BRONX</td>\n",
       "      <td>48</td>\n",
       "      <td>INSIDE</td>\n",
       "      <td>PUBLIC SCHOOL</td>\n",
       "      <td>40.855017</td>\n",
       "      <td>-73.883075</td>\n",
       "    </tr>\n",
       "    <tr>\n",
       "      <th>5</th>\n",
       "      <td>812169194</td>\n",
       "      <td>1980-03-26 08:10:00</td>\n",
       "      <td>2008-03-26 15:13:00</td>\n",
       "      <td>2008-03-26</td>\n",
       "      <td>1980</td>\n",
       "      <td>3</td>\n",
       "      <td>26</td>\n",
       "      <td>Wed</td>\n",
       "      <td>8</td>\n",
       "      <td>2008</td>\n",
       "      <td>...</td>\n",
       "      <td>CRIMINAL MISCHIEF &amp; RELATED OF</td>\n",
       "      <td>COMPLETED</td>\n",
       "      <td>MISDEMEANOR</td>\n",
       "      <td>N.Y. POLICE DEPT</td>\n",
       "      <td>BROOKLYN</td>\n",
       "      <td>84</td>\n",
       "      <td>INSIDE</td>\n",
       "      <td>OTHER</td>\n",
       "      <td>40.703604</td>\n",
       "      <td>-73.981864</td>\n",
       "    </tr>\n",
       "    <tr>\n",
       "      <th>6</th>\n",
       "      <td>175109920</td>\n",
       "      <td>1980-02-01 08:00:00</td>\n",
       "      <td>1980-02-01 08:45:00</td>\n",
       "      <td>2008-02-01</td>\n",
       "      <td>1980</td>\n",
       "      <td>2</td>\n",
       "      <td>1</td>\n",
       "      <td>Fri</td>\n",
       "      <td>8</td>\n",
       "      <td>1980</td>\n",
       "      <td>...</td>\n",
       "      <td>DANGEROUS DRUGS</td>\n",
       "      <td>COMPLETED</td>\n",
       "      <td>FELONY</td>\n",
       "      <td>N.Y. POLICE DEPT</td>\n",
       "      <td>BRONX</td>\n",
       "      <td>45</td>\n",
       "      <td>INSIDE</td>\n",
       "      <td>RESIDENCE - APT. HOUSE</td>\n",
       "      <td>40.878649</td>\n",
       "      <td>-73.824083</td>\n",
       "    </tr>\n",
       "    <tr>\n",
       "      <th>7</th>\n",
       "      <td>203235148</td>\n",
       "      <td>1980-08-18 11:30:00</td>\n",
       "      <td>1980-08-18 11:30:00</td>\n",
       "      <td>2010-08-18</td>\n",
       "      <td>1980</td>\n",
       "      <td>8</td>\n",
       "      <td>18</td>\n",
       "      <td>Mon</td>\n",
       "      <td>11</td>\n",
       "      <td>1980</td>\n",
       "      <td>...</td>\n",
       "      <td>OTHER</td>\n",
       "      <td>COMPLETED</td>\n",
       "      <td>MISDEMEANOR</td>\n",
       "      <td>N.Y. POLICE DEPT</td>\n",
       "      <td>BRONX</td>\n",
       "      <td>46</td>\n",
       "      <td>INSIDE</td>\n",
       "      <td>STREET</td>\n",
       "      <td>40.861952</td>\n",
       "      <td>-73.899057</td>\n",
       "    </tr>\n",
       "    <tr>\n",
       "      <th>8</th>\n",
       "      <td>587568824</td>\n",
       "      <td>1980-01-23 10:00:00</td>\n",
       "      <td>2010-06-08 12:00:00</td>\n",
       "      <td>2010-06-08</td>\n",
       "      <td>1980</td>\n",
       "      <td>1</td>\n",
       "      <td>23</td>\n",
       "      <td>Wed</td>\n",
       "      <td>10</td>\n",
       "      <td>2010</td>\n",
       "      <td>...</td>\n",
       "      <td>OTHER</td>\n",
       "      <td>COMPLETED</td>\n",
       "      <td>FELONY</td>\n",
       "      <td>N.Y. POLICE DEPT</td>\n",
       "      <td>MANHATTAN</td>\n",
       "      <td>19</td>\n",
       "      <td>INSIDE</td>\n",
       "      <td>RESIDENCE - APT. HOUSE</td>\n",
       "      <td>40.773136</td>\n",
       "      <td>-73.956676</td>\n",
       "    </tr>\n",
       "    <tr>\n",
       "      <th>9</th>\n",
       "      <td>380698816</td>\n",
       "      <td>1980-08-13 17:10:00</td>\n",
       "      <td>1980-08-13 17:10:00</td>\n",
       "      <td>2010-02-22</td>\n",
       "      <td>1980</td>\n",
       "      <td>8</td>\n",
       "      <td>13</td>\n",
       "      <td>Wed</td>\n",
       "      <td>17</td>\n",
       "      <td>1980</td>\n",
       "      <td>...</td>\n",
       "      <td>OTHER</td>\n",
       "      <td>COMPLETED</td>\n",
       "      <td>FELONY</td>\n",
       "      <td>N.Y. POLICE DEPT</td>\n",
       "      <td>BRONX</td>\n",
       "      <td>47</td>\n",
       "      <td>INSIDE</td>\n",
       "      <td>OTHER</td>\n",
       "      <td>40.880802</td>\n",
       "      <td>-73.859271</td>\n",
       "    </tr>\n",
       "    <tr>\n",
       "      <th>10</th>\n",
       "      <td>410763252</td>\n",
       "      <td>1980-10-27 21:25:00</td>\n",
       "      <td>1980-10-27 21:25:00</td>\n",
       "      <td>2009-10-14</td>\n",
       "      <td>1980</td>\n",
       "      <td>10</td>\n",
       "      <td>27</td>\n",
       "      <td>Mon</td>\n",
       "      <td>21</td>\n",
       "      <td>1980</td>\n",
       "      <td>...</td>\n",
       "      <td>OFF. AGNST PUB ORD SENSBLTY &amp;</td>\n",
       "      <td>COMPLETED</td>\n",
       "      <td>MISDEMEANOR</td>\n",
       "      <td>N.Y. POLICE DEPT</td>\n",
       "      <td>STATEN ISLAND</td>\n",
       "      <td>120</td>\n",
       "      <td>INSIDE</td>\n",
       "      <td>RESIDENCE - APT. HOUSE</td>\n",
       "      <td>40.610900</td>\n",
       "      <td>-74.138351</td>\n",
       "    </tr>\n",
       "    <tr>\n",
       "      <th>11</th>\n",
       "      <td>365894714</td>\n",
       "      <td>1980-08-04 12:00:00</td>\n",
       "      <td>1980-08-04 12:00:00</td>\n",
       "      <td>2011-11-16</td>\n",
       "      <td>1980</td>\n",
       "      <td>8</td>\n",
       "      <td>4</td>\n",
       "      <td>Mon</td>\n",
       "      <td>12</td>\n",
       "      <td>1980</td>\n",
       "      <td>...</td>\n",
       "      <td>GRAND LARCENY</td>\n",
       "      <td>COMPLETED</td>\n",
       "      <td>FELONY</td>\n",
       "      <td>N.Y. POLICE DEPT</td>\n",
       "      <td>BROOKLYN</td>\n",
       "      <td>71</td>\n",
       "      <td>INSIDE</td>\n",
       "      <td>RESIDENCE-HOUSE</td>\n",
       "      <td>40.663837</td>\n",
       "      <td>-73.938545</td>\n",
       "    </tr>\n",
       "    <tr>\n",
       "      <th>12</th>\n",
       "      <td>910100803</td>\n",
       "      <td>1980-07-09 18:45:00</td>\n",
       "      <td>1980-07-09 18:45:00</td>\n",
       "      <td>2007-08-19</td>\n",
       "      <td>1980</td>\n",
       "      <td>7</td>\n",
       "      <td>9</td>\n",
       "      <td>Wed</td>\n",
       "      <td>18</td>\n",
       "      <td>1980</td>\n",
       "      <td>...</td>\n",
       "      <td>CRIMINAL MISCHIEF &amp; RELATED OF</td>\n",
       "      <td>COMPLETED</td>\n",
       "      <td>MISDEMEANOR</td>\n",
       "      <td>N.Y. POLICE DEPT</td>\n",
       "      <td>BRONX</td>\n",
       "      <td>40</td>\n",
       "      <td>FRONT OF</td>\n",
       "      <td>RESIDENCE - APT. HOUSE</td>\n",
       "      <td>40.815122</td>\n",
       "      <td>-73.920977</td>\n",
       "    </tr>\n",
       "  </tbody>\n",
       "</table>\n",
       "<p>13 rows × 32 columns</p>\n",
       "</div>"
      ],
      "text/plain": [
       "    COMPLAINT_NUMBER COMPLAINT_START_TIMESTAMP COMPLAINT_END_TIMESTAMP  \\\n",
       "0          344579314       1980-04-30 17:15:00     1980-04-30 17:15:00   \n",
       "1          141684222       1980-12-30 09:00:00     2013-07-01 09:00:00   \n",
       "2          948543549       1980-01-30 12:00:00     2010-11-11 07:55:00   \n",
       "3          971565071       1980-03-22 07:15:00     1980-03-22 07:15:00   \n",
       "4          856926861       1980-06-12 15:00:00     2008-06-16 08:00:00   \n",
       "5          812169194       1980-03-26 08:10:00     2008-03-26 15:13:00   \n",
       "6          175109920       1980-02-01 08:00:00     1980-02-01 08:45:00   \n",
       "7          203235148       1980-08-18 11:30:00     1980-08-18 11:30:00   \n",
       "8          587568824       1980-01-23 10:00:00     2010-06-08 12:00:00   \n",
       "9          380698816       1980-08-13 17:10:00     1980-08-13 17:10:00   \n",
       "10         410763252       1980-10-27 21:25:00     1980-10-27 21:25:00   \n",
       "11         365894714       1980-08-04 12:00:00     1980-08-04 12:00:00   \n",
       "12         910100803       1980-07-09 18:45:00     1980-07-09 18:45:00   \n",
       "\n",
       "   REPORTED_DATE_TIMESTAMP COMPLAINT_START_TIMESTAMP_YEAR  \\\n",
       "0               2009-08-05                           1980   \n",
       "1               2013-09-26                           1980   \n",
       "2               2010-11-18                           1980   \n",
       "3               2014-06-24                           1980   \n",
       "4               2008-06-18                           1980   \n",
       "5               2008-03-26                           1980   \n",
       "6               2008-02-01                           1980   \n",
       "7               2010-08-18                           1980   \n",
       "8               2010-06-08                           1980   \n",
       "9               2010-02-22                           1980   \n",
       "10              2009-10-14                           1980   \n",
       "11              2011-11-16                           1980   \n",
       "12              2007-08-19                           1980   \n",
       "\n",
       "   COMPLAINT_START_TIMESTAMP_MONTH COMPLAINT_START_TIMESTAMP_DAY  \\\n",
       "0                                4                            30   \n",
       "1                               12                            30   \n",
       "2                                1                            30   \n",
       "3                                3                            22   \n",
       "4                                6                            12   \n",
       "5                                3                            26   \n",
       "6                                2                             1   \n",
       "7                                8                            18   \n",
       "8                                1                            23   \n",
       "9                                8                            13   \n",
       "10                              10                            27   \n",
       "11                               8                             4   \n",
       "12                               7                             9   \n",
       "\n",
       "   COMPLAINT_START_TIMESTAMP_WEEKDAY COMPLAINT_START_TIMESTAMP_HOUR  \\\n",
       "0                                Wed                             17   \n",
       "1                                Tue                              9   \n",
       "2                                Wed                             12   \n",
       "3                                Sat                              7   \n",
       "4                                Thu                             15   \n",
       "5                                Wed                              8   \n",
       "6                                Fri                              8   \n",
       "7                                Mon                             11   \n",
       "8                                Wed                             10   \n",
       "9                                Wed                             17   \n",
       "10                               Mon                             21   \n",
       "11                               Mon                             12   \n",
       "12                               Wed                             18   \n",
       "\n",
       "   COMPLAINT_END_TIMESTAMP_YEAR    ...                 OFFENSE_DESCRIPTION  \\\n",
       "0                          1980    ...                               OTHER   \n",
       "1                          2013    ...                       GRAND LARCENY   \n",
       "2                          2010    ...       OFF. AGNST PUB ORD SENSBLTY &   \n",
       "3                          1980    ...                               OTHER   \n",
       "4                          2008    ...                       PETIT LARCENY   \n",
       "5                          2008    ...      CRIMINAL MISCHIEF & RELATED OF   \n",
       "6                          1980    ...                     DANGEROUS DRUGS   \n",
       "7                          1980    ...                               OTHER   \n",
       "8                          2010    ...                               OTHER   \n",
       "9                          1980    ...                               OTHER   \n",
       "10                         1980    ...       OFF. AGNST PUB ORD SENSBLTY &   \n",
       "11                         1980    ...                       GRAND LARCENY   \n",
       "12                         1980    ...      CRIMINAL MISCHIEF & RELATED OF   \n",
       "\n",
       "   OFFENSE_RESULT OFFENSE_LEVEL      JURISDICTION        BOROUGH PRECINCT  \\\n",
       "0       COMPLETED        FELONY  N.Y. POLICE DEPT       BROOKLYN       79   \n",
       "1       COMPLETED        FELONY  N.Y. POLICE DEPT      MANHATTAN       18   \n",
       "2       COMPLETED   MISDEMEANOR  N.Y. POLICE DEPT      MANHATTAN       18   \n",
       "3       COMPLETED        FELONY  N.Y. POLICE DEPT          BRONX       43   \n",
       "4       COMPLETED   MISDEMEANOR  N.Y. POLICE DEPT          BRONX       48   \n",
       "5       COMPLETED   MISDEMEANOR  N.Y. POLICE DEPT       BROOKLYN       84   \n",
       "6       COMPLETED        FELONY  N.Y. POLICE DEPT          BRONX       45   \n",
       "7       COMPLETED   MISDEMEANOR  N.Y. POLICE DEPT          BRONX       46   \n",
       "8       COMPLETED        FELONY  N.Y. POLICE DEPT      MANHATTAN       19   \n",
       "9       COMPLETED        FELONY  N.Y. POLICE DEPT          BRONX       47   \n",
       "10      COMPLETED   MISDEMEANOR  N.Y. POLICE DEPT  STATEN ISLAND      120   \n",
       "11      COMPLETED        FELONY  N.Y. POLICE DEPT       BROOKLYN       71   \n",
       "12      COMPLETED   MISDEMEANOR  N.Y. POLICE DEPT          BRONX       40   \n",
       "\n",
       "   SPECIFIC_LOCATION     PREMISE_DESCRIPTION        LAT        LON  \n",
       "0             INSIDE                   OTHER  40.690629 -73.957927  \n",
       "1             INSIDE  RESIDENCE - APT. HOUSE  40.759711 -73.993562  \n",
       "2             INSIDE  RESIDENCE - APT. HOUSE  40.763866 -73.984963  \n",
       "3             INSIDE                   OTHER  40.829629 -73.868243  \n",
       "4             INSIDE           PUBLIC SCHOOL  40.855017 -73.883075  \n",
       "5             INSIDE                   OTHER  40.703604 -73.981864  \n",
       "6             INSIDE  RESIDENCE - APT. HOUSE  40.878649 -73.824083  \n",
       "7             INSIDE                  STREET  40.861952 -73.899057  \n",
       "8             INSIDE  RESIDENCE - APT. HOUSE  40.773136 -73.956676  \n",
       "9             INSIDE                   OTHER  40.880802 -73.859271  \n",
       "10            INSIDE  RESIDENCE - APT. HOUSE  40.610900 -74.138351  \n",
       "11            INSIDE         RESIDENCE-HOUSE  40.663837 -73.938545  \n",
       "12          FRONT OF  RESIDENCE - APT. HOUSE  40.815122 -73.920977  \n",
       "\n",
       "[13 rows x 32 columns]"
      ]
     },
     "execution_count": 15,
     "metadata": {},
     "output_type": "execute_result"
    }
   ],
   "source": [
    "# Look at those rows which the incident started on the year 1980\n",
    "df[df['COMPLAINT_START_TIMESTAMP_YEAR'] == 1980].toPandas()"
   ]
  },
  {
   "cell_type": "markdown",
   "metadata": {},
   "source": [
    "These look fishy too, as it looks that some of these are clearly typos as well. I'm going to choose not to believe any of this, and just filter for incidents that started in 2006 or later."
   ]
  },
  {
   "cell_type": "code",
   "execution_count": 16,
   "metadata": {},
   "outputs": [
    {
     "data": {
      "text/html": [
       "<div>\n",
       "<style>\n",
       "    .dataframe thead tr:only-child th {\n",
       "        text-align: right;\n",
       "    }\n",
       "\n",
       "    .dataframe thead th {\n",
       "        text-align: left;\n",
       "    }\n",
       "\n",
       "    .dataframe tbody tr th {\n",
       "        vertical-align: top;\n",
       "    }\n",
       "</style>\n",
       "<table border=\"1\" class=\"dataframe\">\n",
       "  <thead>\n",
       "    <tr style=\"text-align: right;\">\n",
       "      <th></th>\n",
       "      <th>COMPLAINT_NUMBER</th>\n",
       "      <th>COMPLAINT_START_TIMESTAMP</th>\n",
       "      <th>COMPLAINT_END_TIMESTAMP</th>\n",
       "      <th>REPORTED_DATE_TIMESTAMP</th>\n",
       "      <th>COMPLAINT_START_TIMESTAMP_YEAR</th>\n",
       "      <th>COMPLAINT_START_TIMESTAMP_MONTH</th>\n",
       "      <th>COMPLAINT_START_TIMESTAMP_DAY</th>\n",
       "      <th>COMPLAINT_START_TIMESTAMP_WEEKDAY</th>\n",
       "      <th>COMPLAINT_START_TIMESTAMP_HOUR</th>\n",
       "      <th>COMPLAINT_END_TIMESTAMP_YEAR</th>\n",
       "      <th>...</th>\n",
       "      <th>OFFENSE_DESCRIPTION</th>\n",
       "      <th>OFFENSE_RESULT</th>\n",
       "      <th>OFFENSE_LEVEL</th>\n",
       "      <th>JURISDICTION</th>\n",
       "      <th>BOROUGH</th>\n",
       "      <th>PRECINCT</th>\n",
       "      <th>SPECIFIC_LOCATION</th>\n",
       "      <th>PREMISE_DESCRIPTION</th>\n",
       "      <th>LAT</th>\n",
       "      <th>LON</th>\n",
       "    </tr>\n",
       "  </thead>\n",
       "  <tbody>\n",
       "    <tr>\n",
       "      <th>0</th>\n",
       "      <td>988420016</td>\n",
       "      <td>2000-08-15 12:00:00</td>\n",
       "      <td>2015-07-16 12:00:00</td>\n",
       "      <td>2015-07-30</td>\n",
       "      <td>2000</td>\n",
       "      <td>8</td>\n",
       "      <td>15</td>\n",
       "      <td>Tue</td>\n",
       "      <td>12</td>\n",
       "      <td>2015</td>\n",
       "      <td>...</td>\n",
       "      <td>OTHER</td>\n",
       "      <td>COMPLETED</td>\n",
       "      <td>MISDEMEANOR</td>\n",
       "      <td>N.Y. POLICE DEPT</td>\n",
       "      <td>BROOKLYN</td>\n",
       "      <td>70</td>\n",
       "      <td>INSIDE</td>\n",
       "      <td>RESIDENCE-HOUSE</td>\n",
       "      <td>40.627842</td>\n",
       "      <td>-73.974470</td>\n",
       "    </tr>\n",
       "    <tr>\n",
       "      <th>1</th>\n",
       "      <td>736939479</td>\n",
       "      <td>2000-09-18 15:00:00</td>\n",
       "      <td>2005-08-03 15:00:00</td>\n",
       "      <td>2015-05-03</td>\n",
       "      <td>2000</td>\n",
       "      <td>9</td>\n",
       "      <td>18</td>\n",
       "      <td>Mon</td>\n",
       "      <td>15</td>\n",
       "      <td>2005</td>\n",
       "      <td>...</td>\n",
       "      <td>OTHER</td>\n",
       "      <td>COMPLETED</td>\n",
       "      <td>FELONY</td>\n",
       "      <td>N.Y. POLICE DEPT</td>\n",
       "      <td>BROOKLYN</td>\n",
       "      <td>79</td>\n",
       "      <td>INSIDE</td>\n",
       "      <td>RESIDENCE-HOUSE</td>\n",
       "      <td>40.686729</td>\n",
       "      <td>-73.952712</td>\n",
       "    </tr>\n",
       "    <tr>\n",
       "      <th>2</th>\n",
       "      <td>815682616</td>\n",
       "      <td>2000-01-01 00:01:00</td>\n",
       "      <td>2015-04-11 11:35:00</td>\n",
       "      <td>2015-04-11</td>\n",
       "      <td>2000</td>\n",
       "      <td>1</td>\n",
       "      <td>1</td>\n",
       "      <td>Sat</td>\n",
       "      <td>0</td>\n",
       "      <td>2015</td>\n",
       "      <td>...</td>\n",
       "      <td>OTHER</td>\n",
       "      <td>COMPLETED</td>\n",
       "      <td>MISDEMEANOR</td>\n",
       "      <td>N.Y. POLICE DEPT</td>\n",
       "      <td>MANHATTAN</td>\n",
       "      <td>23</td>\n",
       "      <td>INSIDE</td>\n",
       "      <td>RESIDENCE - APT. HOUSE</td>\n",
       "      <td>40.794294</td>\n",
       "      <td>-73.941231</td>\n",
       "    </tr>\n",
       "    <tr>\n",
       "      <th>3</th>\n",
       "      <td>291325256</td>\n",
       "      <td>2000-04-28 00:00:00</td>\n",
       "      <td>2006-10-06 23:59:00</td>\n",
       "      <td>2015-03-27</td>\n",
       "      <td>2000</td>\n",
       "      <td>4</td>\n",
       "      <td>28</td>\n",
       "      <td>Fri</td>\n",
       "      <td>0</td>\n",
       "      <td>2006</td>\n",
       "      <td>...</td>\n",
       "      <td>OTHER</td>\n",
       "      <td>COMPLETED</td>\n",
       "      <td>FELONY</td>\n",
       "      <td>N.Y. POLICE DEPT</td>\n",
       "      <td>MANHATTAN</td>\n",
       "      <td>32</td>\n",
       "      <td>INSIDE</td>\n",
       "      <td>RESIDENCE - APT. HOUSE</td>\n",
       "      <td>40.809629</td>\n",
       "      <td>-73.941976</td>\n",
       "    </tr>\n",
       "    <tr>\n",
       "      <th>4</th>\n",
       "      <td>828786821</td>\n",
       "      <td>2000-08-13 23:05:00</td>\n",
       "      <td>2000-08-13 23:05:00</td>\n",
       "      <td>2009-08-14</td>\n",
       "      <td>2000</td>\n",
       "      <td>8</td>\n",
       "      <td>13</td>\n",
       "      <td>Sun</td>\n",
       "      <td>23</td>\n",
       "      <td>2000</td>\n",
       "      <td>...</td>\n",
       "      <td>HARRASSMENT 2</td>\n",
       "      <td>COMPLETED</td>\n",
       "      <td>VIOLATION</td>\n",
       "      <td>N.Y. POLICE DEPT</td>\n",
       "      <td>MANHATTAN</td>\n",
       "      <td>33</td>\n",
       "      <td>None</td>\n",
       "      <td>STREET</td>\n",
       "      <td>40.837723</td>\n",
       "      <td>-73.939996</td>\n",
       "    </tr>\n",
       "    <tr>\n",
       "      <th>5</th>\n",
       "      <td>465118096</td>\n",
       "      <td>2000-08-11 18:25:00</td>\n",
       "      <td>2009-08-11 18:30:00</td>\n",
       "      <td>2009-08-11</td>\n",
       "      <td>2000</td>\n",
       "      <td>8</td>\n",
       "      <td>11</td>\n",
       "      <td>Fri</td>\n",
       "      <td>18</td>\n",
       "      <td>2009</td>\n",
       "      <td>...</td>\n",
       "      <td>HARRASSMENT 2</td>\n",
       "      <td>COMPLETED</td>\n",
       "      <td>VIOLATION</td>\n",
       "      <td>N.Y. POLICE DEPT</td>\n",
       "      <td>BROOKLYN</td>\n",
       "      <td>79</td>\n",
       "      <td>INSIDE</td>\n",
       "      <td>RESIDENCE - APT. HOUSE</td>\n",
       "      <td>40.682271</td>\n",
       "      <td>-73.939353</td>\n",
       "    </tr>\n",
       "    <tr>\n",
       "      <th>6</th>\n",
       "      <td>420426070</td>\n",
       "      <td>2000-11-22 09:00:00</td>\n",
       "      <td>2007-02-23 17:00:00</td>\n",
       "      <td>2009-08-07</td>\n",
       "      <td>2000</td>\n",
       "      <td>11</td>\n",
       "      <td>22</td>\n",
       "      <td>Wed</td>\n",
       "      <td>9</td>\n",
       "      <td>2007</td>\n",
       "      <td>...</td>\n",
       "      <td>GRAND LARCENY</td>\n",
       "      <td>COMPLETED</td>\n",
       "      <td>FELONY</td>\n",
       "      <td>N.Y. POLICE DEPT</td>\n",
       "      <td>QUEENS</td>\n",
       "      <td>115</td>\n",
       "      <td>INSIDE</td>\n",
       "      <td>OTHER</td>\n",
       "      <td>40.751844</td>\n",
       "      <td>-73.884220</td>\n",
       "    </tr>\n",
       "    <tr>\n",
       "      <th>7</th>\n",
       "      <td>139219475</td>\n",
       "      <td>2000-12-31 08:00:00</td>\n",
       "      <td>2000-12-31 08:00:00</td>\n",
       "      <td>2009-08-06</td>\n",
       "      <td>2000</td>\n",
       "      <td>12</td>\n",
       "      <td>31</td>\n",
       "      <td>Sun</td>\n",
       "      <td>8</td>\n",
       "      <td>2000</td>\n",
       "      <td>...</td>\n",
       "      <td>OTHER</td>\n",
       "      <td>COMPLETED</td>\n",
       "      <td>MISDEMEANOR</td>\n",
       "      <td>N.Y. POLICE DEPT</td>\n",
       "      <td>STATEN ISLAND</td>\n",
       "      <td>120</td>\n",
       "      <td>INSIDE</td>\n",
       "      <td>RESIDENCE-HOUSE</td>\n",
       "      <td>40.635261</td>\n",
       "      <td>-74.159025</td>\n",
       "    </tr>\n",
       "    <tr>\n",
       "      <th>8</th>\n",
       "      <td>954791386</td>\n",
       "      <td>2000-01-01 08:00:00</td>\n",
       "      <td>2001-01-01 16:00:00</td>\n",
       "      <td>2009-08-05</td>\n",
       "      <td>2000</td>\n",
       "      <td>1</td>\n",
       "      <td>1</td>\n",
       "      <td>Sat</td>\n",
       "      <td>8</td>\n",
       "      <td>2001</td>\n",
       "      <td>...</td>\n",
       "      <td>GRAND LARCENY</td>\n",
       "      <td>COMPLETED</td>\n",
       "      <td>FELONY</td>\n",
       "      <td>N.Y. POLICE DEPT</td>\n",
       "      <td>MANHATTAN</td>\n",
       "      <td>34</td>\n",
       "      <td>FRONT OF</td>\n",
       "      <td>OTHER</td>\n",
       "      <td>40.865723</td>\n",
       "      <td>-73.923445</td>\n",
       "    </tr>\n",
       "    <tr>\n",
       "      <th>9</th>\n",
       "      <td>985355363</td>\n",
       "      <td>2000-07-26 00:30:00</td>\n",
       "      <td>2009-07-26 00:40:00</td>\n",
       "      <td>2009-07-26</td>\n",
       "      <td>2000</td>\n",
       "      <td>7</td>\n",
       "      <td>26</td>\n",
       "      <td>Wed</td>\n",
       "      <td>0</td>\n",
       "      <td>2009</td>\n",
       "      <td>...</td>\n",
       "      <td>ASSAULT 3 &amp; RELATED OFFENSES</td>\n",
       "      <td>COMPLETED</td>\n",
       "      <td>MISDEMEANOR</td>\n",
       "      <td>N.Y. POLICE DEPT</td>\n",
       "      <td>QUEENS</td>\n",
       "      <td>104</td>\n",
       "      <td>INSIDE</td>\n",
       "      <td>RESIDENCE - APT. HOUSE</td>\n",
       "      <td>40.701995</td>\n",
       "      <td>-73.899945</td>\n",
       "    </tr>\n",
       "    <tr>\n",
       "      <th>10</th>\n",
       "      <td>652837075</td>\n",
       "      <td>2000-07-12 20:00:00</td>\n",
       "      <td>2009-07-22 18:30:00</td>\n",
       "      <td>2009-07-22</td>\n",
       "      <td>2000</td>\n",
       "      <td>7</td>\n",
       "      <td>12</td>\n",
       "      <td>Wed</td>\n",
       "      <td>20</td>\n",
       "      <td>2009</td>\n",
       "      <td>...</td>\n",
       "      <td>GRAND LARCENY</td>\n",
       "      <td>COMPLETED</td>\n",
       "      <td>FELONY</td>\n",
       "      <td>N.Y. POLICE DEPT</td>\n",
       "      <td>QUEENS</td>\n",
       "      <td>112</td>\n",
       "      <td>INSIDE</td>\n",
       "      <td>RESTAURANT/DINER</td>\n",
       "      <td>40.720771</td>\n",
       "      <td>-73.846430</td>\n",
       "    </tr>\n",
       "    <tr>\n",
       "      <th>11</th>\n",
       "      <td>964437458</td>\n",
       "      <td>2000-01-30 12:00:00</td>\n",
       "      <td>2009-06-17 12:00:00</td>\n",
       "      <td>2009-06-23</td>\n",
       "      <td>2000</td>\n",
       "      <td>1</td>\n",
       "      <td>30</td>\n",
       "      <td>Sun</td>\n",
       "      <td>12</td>\n",
       "      <td>2009</td>\n",
       "      <td>...</td>\n",
       "      <td>OTHER</td>\n",
       "      <td>COMPLETED</td>\n",
       "      <td>FELONY</td>\n",
       "      <td>N.Y. POLICE DEPT</td>\n",
       "      <td>BRONX</td>\n",
       "      <td>52</td>\n",
       "      <td>INSIDE</td>\n",
       "      <td>RESIDENCE - APT. HOUSE</td>\n",
       "      <td>40.863997</td>\n",
       "      <td>-73.893425</td>\n",
       "    </tr>\n",
       "    <tr>\n",
       "      <th>12</th>\n",
       "      <td>795592102</td>\n",
       "      <td>2000-06-20 05:35:00</td>\n",
       "      <td>2009-06-20 05:40:00</td>\n",
       "      <td>2009-06-20</td>\n",
       "      <td>2000</td>\n",
       "      <td>6</td>\n",
       "      <td>20</td>\n",
       "      <td>Tue</td>\n",
       "      <td>5</td>\n",
       "      <td>2009</td>\n",
       "      <td>...</td>\n",
       "      <td>HARRASSMENT 2</td>\n",
       "      <td>COMPLETED</td>\n",
       "      <td>VIOLATION</td>\n",
       "      <td>N.Y. POLICE DEPT</td>\n",
       "      <td>BRONX</td>\n",
       "      <td>49</td>\n",
       "      <td>INSIDE</td>\n",
       "      <td>RESIDENCE - APT. HOUSE</td>\n",
       "      <td>40.862323</td>\n",
       "      <td>-73.869408</td>\n",
       "    </tr>\n",
       "    <tr>\n",
       "      <th>13</th>\n",
       "      <td>611209152</td>\n",
       "      <td>2000-01-01 01:00:00</td>\n",
       "      <td>2009-06-10 17:00:00</td>\n",
       "      <td>2009-06-10</td>\n",
       "      <td>2000</td>\n",
       "      <td>1</td>\n",
       "      <td>1</td>\n",
       "      <td>Sat</td>\n",
       "      <td>1</td>\n",
       "      <td>2009</td>\n",
       "      <td>...</td>\n",
       "      <td>HARRASSMENT 2</td>\n",
       "      <td>COMPLETED</td>\n",
       "      <td>VIOLATION</td>\n",
       "      <td>N.Y. POLICE DEPT</td>\n",
       "      <td>QUEENS</td>\n",
       "      <td>111</td>\n",
       "      <td>FRONT OF</td>\n",
       "      <td>RESIDENCE-HOUSE</td>\n",
       "      <td>40.740136</td>\n",
       "      <td>-73.753593</td>\n",
       "    </tr>\n",
       "    <tr>\n",
       "      <th>14</th>\n",
       "      <td>180334399</td>\n",
       "      <td>2000-06-05 19:20:00</td>\n",
       "      <td>2009-06-08 10:20:00</td>\n",
       "      <td>2009-06-08</td>\n",
       "      <td>2000</td>\n",
       "      <td>6</td>\n",
       "      <td>5</td>\n",
       "      <td>Mon</td>\n",
       "      <td>19</td>\n",
       "      <td>2009</td>\n",
       "      <td>...</td>\n",
       "      <td>OFF. AGNST PUB ORD SENSBLTY &amp;</td>\n",
       "      <td>COMPLETED</td>\n",
       "      <td>MISDEMEANOR</td>\n",
       "      <td>N.Y. POLICE DEPT</td>\n",
       "      <td>BRONX</td>\n",
       "      <td>44</td>\n",
       "      <td>INSIDE</td>\n",
       "      <td>RESIDENCE - APT. HOUSE</td>\n",
       "      <td>40.837392</td>\n",
       "      <td>-73.916452</td>\n",
       "    </tr>\n",
       "    <tr>\n",
       "      <th>15</th>\n",
       "      <td>557225840</td>\n",
       "      <td>2000-06-03 11:00:00</td>\n",
       "      <td>2009-06-04 01:55:00</td>\n",
       "      <td>2009-06-04</td>\n",
       "      <td>2000</td>\n",
       "      <td>6</td>\n",
       "      <td>3</td>\n",
       "      <td>Sat</td>\n",
       "      <td>11</td>\n",
       "      <td>2009</td>\n",
       "      <td>...</td>\n",
       "      <td>OTHER</td>\n",
       "      <td>COMPLETED</td>\n",
       "      <td>FELONY</td>\n",
       "      <td>N.Y. POLICE DEPT</td>\n",
       "      <td>BROOKLYN</td>\n",
       "      <td>67</td>\n",
       "      <td>INSIDE</td>\n",
       "      <td>RESIDENCE-HOUSE</td>\n",
       "      <td>40.644129</td>\n",
       "      <td>-73.943053</td>\n",
       "    </tr>\n",
       "    <tr>\n",
       "      <th>16</th>\n",
       "      <td>361610861</td>\n",
       "      <td>2000-05-05 01:00:00</td>\n",
       "      <td>2009-05-15 07:10:00</td>\n",
       "      <td>2009-05-15</td>\n",
       "      <td>2000</td>\n",
       "      <td>5</td>\n",
       "      <td>5</td>\n",
       "      <td>Fri</td>\n",
       "      <td>1</td>\n",
       "      <td>2009</td>\n",
       "      <td>...</td>\n",
       "      <td>PETIT LARCENY</td>\n",
       "      <td>COMPLETED</td>\n",
       "      <td>MISDEMEANOR</td>\n",
       "      <td>N.Y. POLICE DEPT</td>\n",
       "      <td>BRONX</td>\n",
       "      <td>49</td>\n",
       "      <td>FRONT OF</td>\n",
       "      <td>OTHER</td>\n",
       "      <td>40.845119</td>\n",
       "      <td>-73.853405</td>\n",
       "    </tr>\n",
       "    <tr>\n",
       "      <th>17</th>\n",
       "      <td>831850994</td>\n",
       "      <td>2000-01-01 00:00:00</td>\n",
       "      <td>2009-05-06 22:00:00</td>\n",
       "      <td>2009-05-11</td>\n",
       "      <td>2000</td>\n",
       "      <td>1</td>\n",
       "      <td>1</td>\n",
       "      <td>Sat</td>\n",
       "      <td>0</td>\n",
       "      <td>2009</td>\n",
       "      <td>...</td>\n",
       "      <td>GRAND LARCENY</td>\n",
       "      <td>COMPLETED</td>\n",
       "      <td>FELONY</td>\n",
       "      <td>N.Y. HOUSING POLICE</td>\n",
       "      <td>MANHATTAN</td>\n",
       "      <td>28</td>\n",
       "      <td>INSIDE</td>\n",
       "      <td>RESIDENCE - PUBLIC HOUSING</td>\n",
       "      <td>40.799665</td>\n",
       "      <td>-73.947200</td>\n",
       "    </tr>\n",
       "    <tr>\n",
       "      <th>18</th>\n",
       "      <td>633780849</td>\n",
       "      <td>2000-10-01 09:00:00</td>\n",
       "      <td>2007-01-27 17:00:00</td>\n",
       "      <td>2009-05-02</td>\n",
       "      <td>2000</td>\n",
       "      <td>10</td>\n",
       "      <td>1</td>\n",
       "      <td>Sun</td>\n",
       "      <td>9</td>\n",
       "      <td>2007</td>\n",
       "      <td>...</td>\n",
       "      <td>GRAND LARCENY</td>\n",
       "      <td>COMPLETED</td>\n",
       "      <td>FELONY</td>\n",
       "      <td>N.Y. POLICE DEPT</td>\n",
       "      <td>QUEENS</td>\n",
       "      <td>111</td>\n",
       "      <td>INSIDE</td>\n",
       "      <td>RESIDENCE - APT. HOUSE</td>\n",
       "      <td>40.765496</td>\n",
       "      <td>-73.781571</td>\n",
       "    </tr>\n",
       "    <tr>\n",
       "      <th>19</th>\n",
       "      <td>834985642</td>\n",
       "      <td>2000-07-01 00:01:00</td>\n",
       "      <td>2009-04-28 13:45:00</td>\n",
       "      <td>2009-04-28</td>\n",
       "      <td>2000</td>\n",
       "      <td>7</td>\n",
       "      <td>1</td>\n",
       "      <td>Sat</td>\n",
       "      <td>0</td>\n",
       "      <td>2009</td>\n",
       "      <td>...</td>\n",
       "      <td>GRAND LARCENY</td>\n",
       "      <td>COMPLETED</td>\n",
       "      <td>FELONY</td>\n",
       "      <td>N.Y. POLICE DEPT</td>\n",
       "      <td>BROOKLYN</td>\n",
       "      <td>83</td>\n",
       "      <td>INSIDE</td>\n",
       "      <td>RESIDENCE - APT. HOUSE</td>\n",
       "      <td>40.695445</td>\n",
       "      <td>-73.923261</td>\n",
       "    </tr>\n",
       "  </tbody>\n",
       "</table>\n",
       "<p>20 rows × 32 columns</p>\n",
       "</div>"
      ],
      "text/plain": [
       "    COMPLAINT_NUMBER COMPLAINT_START_TIMESTAMP COMPLAINT_END_TIMESTAMP  \\\n",
       "0          988420016       2000-08-15 12:00:00     2015-07-16 12:00:00   \n",
       "1          736939479       2000-09-18 15:00:00     2005-08-03 15:00:00   \n",
       "2          815682616       2000-01-01 00:01:00     2015-04-11 11:35:00   \n",
       "3          291325256       2000-04-28 00:00:00     2006-10-06 23:59:00   \n",
       "4          828786821       2000-08-13 23:05:00     2000-08-13 23:05:00   \n",
       "5          465118096       2000-08-11 18:25:00     2009-08-11 18:30:00   \n",
       "6          420426070       2000-11-22 09:00:00     2007-02-23 17:00:00   \n",
       "7          139219475       2000-12-31 08:00:00     2000-12-31 08:00:00   \n",
       "8          954791386       2000-01-01 08:00:00     2001-01-01 16:00:00   \n",
       "9          985355363       2000-07-26 00:30:00     2009-07-26 00:40:00   \n",
       "10         652837075       2000-07-12 20:00:00     2009-07-22 18:30:00   \n",
       "11         964437458       2000-01-30 12:00:00     2009-06-17 12:00:00   \n",
       "12         795592102       2000-06-20 05:35:00     2009-06-20 05:40:00   \n",
       "13         611209152       2000-01-01 01:00:00     2009-06-10 17:00:00   \n",
       "14         180334399       2000-06-05 19:20:00     2009-06-08 10:20:00   \n",
       "15         557225840       2000-06-03 11:00:00     2009-06-04 01:55:00   \n",
       "16         361610861       2000-05-05 01:00:00     2009-05-15 07:10:00   \n",
       "17         831850994       2000-01-01 00:00:00     2009-05-06 22:00:00   \n",
       "18         633780849       2000-10-01 09:00:00     2007-01-27 17:00:00   \n",
       "19         834985642       2000-07-01 00:01:00     2009-04-28 13:45:00   \n",
       "\n",
       "   REPORTED_DATE_TIMESTAMP COMPLAINT_START_TIMESTAMP_YEAR  \\\n",
       "0               2015-07-30                           2000   \n",
       "1               2015-05-03                           2000   \n",
       "2               2015-04-11                           2000   \n",
       "3               2015-03-27                           2000   \n",
       "4               2009-08-14                           2000   \n",
       "5               2009-08-11                           2000   \n",
       "6               2009-08-07                           2000   \n",
       "7               2009-08-06                           2000   \n",
       "8               2009-08-05                           2000   \n",
       "9               2009-07-26                           2000   \n",
       "10              2009-07-22                           2000   \n",
       "11              2009-06-23                           2000   \n",
       "12              2009-06-20                           2000   \n",
       "13              2009-06-10                           2000   \n",
       "14              2009-06-08                           2000   \n",
       "15              2009-06-04                           2000   \n",
       "16              2009-05-15                           2000   \n",
       "17              2009-05-11                           2000   \n",
       "18              2009-05-02                           2000   \n",
       "19              2009-04-28                           2000   \n",
       "\n",
       "   COMPLAINT_START_TIMESTAMP_MONTH COMPLAINT_START_TIMESTAMP_DAY  \\\n",
       "0                                8                            15   \n",
       "1                                9                            18   \n",
       "2                                1                             1   \n",
       "3                                4                            28   \n",
       "4                                8                            13   \n",
       "5                                8                            11   \n",
       "6                               11                            22   \n",
       "7                               12                            31   \n",
       "8                                1                             1   \n",
       "9                                7                            26   \n",
       "10                               7                            12   \n",
       "11                               1                            30   \n",
       "12                               6                            20   \n",
       "13                               1                             1   \n",
       "14                               6                             5   \n",
       "15                               6                             3   \n",
       "16                               5                             5   \n",
       "17                               1                             1   \n",
       "18                              10                             1   \n",
       "19                               7                             1   \n",
       "\n",
       "   COMPLAINT_START_TIMESTAMP_WEEKDAY COMPLAINT_START_TIMESTAMP_HOUR  \\\n",
       "0                                Tue                             12   \n",
       "1                                Mon                             15   \n",
       "2                                Sat                              0   \n",
       "3                                Fri                              0   \n",
       "4                                Sun                             23   \n",
       "5                                Fri                             18   \n",
       "6                                Wed                              9   \n",
       "7                                Sun                              8   \n",
       "8                                Sat                              8   \n",
       "9                                Wed                              0   \n",
       "10                               Wed                             20   \n",
       "11                               Sun                             12   \n",
       "12                               Tue                              5   \n",
       "13                               Sat                              1   \n",
       "14                               Mon                             19   \n",
       "15                               Sat                             11   \n",
       "16                               Fri                              1   \n",
       "17                               Sat                              0   \n",
       "18                               Sun                              9   \n",
       "19                               Sat                              0   \n",
       "\n",
       "   COMPLAINT_END_TIMESTAMP_YEAR    ...                OFFENSE_DESCRIPTION  \\\n",
       "0                          2015    ...                              OTHER   \n",
       "1                          2005    ...                              OTHER   \n",
       "2                          2015    ...                              OTHER   \n",
       "3                          2006    ...                              OTHER   \n",
       "4                          2000    ...                      HARRASSMENT 2   \n",
       "5                          2009    ...                      HARRASSMENT 2   \n",
       "6                          2007    ...                      GRAND LARCENY   \n",
       "7                          2000    ...                              OTHER   \n",
       "8                          2001    ...                      GRAND LARCENY   \n",
       "9                          2009    ...       ASSAULT 3 & RELATED OFFENSES   \n",
       "10                         2009    ...                      GRAND LARCENY   \n",
       "11                         2009    ...                              OTHER   \n",
       "12                         2009    ...                      HARRASSMENT 2   \n",
       "13                         2009    ...                      HARRASSMENT 2   \n",
       "14                         2009    ...      OFF. AGNST PUB ORD SENSBLTY &   \n",
       "15                         2009    ...                              OTHER   \n",
       "16                         2009    ...                      PETIT LARCENY   \n",
       "17                         2009    ...                      GRAND LARCENY   \n",
       "18                         2007    ...                      GRAND LARCENY   \n",
       "19                         2009    ...                      GRAND LARCENY   \n",
       "\n",
       "   OFFENSE_RESULT OFFENSE_LEVEL         JURISDICTION        BOROUGH PRECINCT  \\\n",
       "0       COMPLETED   MISDEMEANOR     N.Y. POLICE DEPT       BROOKLYN       70   \n",
       "1       COMPLETED        FELONY     N.Y. POLICE DEPT       BROOKLYN       79   \n",
       "2       COMPLETED   MISDEMEANOR     N.Y. POLICE DEPT      MANHATTAN       23   \n",
       "3       COMPLETED        FELONY     N.Y. POLICE DEPT      MANHATTAN       32   \n",
       "4       COMPLETED     VIOLATION     N.Y. POLICE DEPT      MANHATTAN       33   \n",
       "5       COMPLETED     VIOLATION     N.Y. POLICE DEPT       BROOKLYN       79   \n",
       "6       COMPLETED        FELONY     N.Y. POLICE DEPT         QUEENS      115   \n",
       "7       COMPLETED   MISDEMEANOR     N.Y. POLICE DEPT  STATEN ISLAND      120   \n",
       "8       COMPLETED        FELONY     N.Y. POLICE DEPT      MANHATTAN       34   \n",
       "9       COMPLETED   MISDEMEANOR     N.Y. POLICE DEPT         QUEENS      104   \n",
       "10      COMPLETED        FELONY     N.Y. POLICE DEPT         QUEENS      112   \n",
       "11      COMPLETED        FELONY     N.Y. POLICE DEPT          BRONX       52   \n",
       "12      COMPLETED     VIOLATION     N.Y. POLICE DEPT          BRONX       49   \n",
       "13      COMPLETED     VIOLATION     N.Y. POLICE DEPT         QUEENS      111   \n",
       "14      COMPLETED   MISDEMEANOR     N.Y. POLICE DEPT          BRONX       44   \n",
       "15      COMPLETED        FELONY     N.Y. POLICE DEPT       BROOKLYN       67   \n",
       "16      COMPLETED   MISDEMEANOR     N.Y. POLICE DEPT          BRONX       49   \n",
       "17      COMPLETED        FELONY  N.Y. HOUSING POLICE      MANHATTAN       28   \n",
       "18      COMPLETED        FELONY     N.Y. POLICE DEPT         QUEENS      111   \n",
       "19      COMPLETED        FELONY     N.Y. POLICE DEPT       BROOKLYN       83   \n",
       "\n",
       "   SPECIFIC_LOCATION         PREMISE_DESCRIPTION        LAT        LON  \n",
       "0             INSIDE             RESIDENCE-HOUSE  40.627842 -73.974470  \n",
       "1             INSIDE             RESIDENCE-HOUSE  40.686729 -73.952712  \n",
       "2             INSIDE      RESIDENCE - APT. HOUSE  40.794294 -73.941231  \n",
       "3             INSIDE      RESIDENCE - APT. HOUSE  40.809629 -73.941976  \n",
       "4               None                      STREET  40.837723 -73.939996  \n",
       "5             INSIDE      RESIDENCE - APT. HOUSE  40.682271 -73.939353  \n",
       "6             INSIDE                       OTHER  40.751844 -73.884220  \n",
       "7             INSIDE             RESIDENCE-HOUSE  40.635261 -74.159025  \n",
       "8           FRONT OF                       OTHER  40.865723 -73.923445  \n",
       "9             INSIDE      RESIDENCE - APT. HOUSE  40.701995 -73.899945  \n",
       "10            INSIDE            RESTAURANT/DINER  40.720771 -73.846430  \n",
       "11            INSIDE      RESIDENCE - APT. HOUSE  40.863997 -73.893425  \n",
       "12            INSIDE      RESIDENCE - APT. HOUSE  40.862323 -73.869408  \n",
       "13          FRONT OF             RESIDENCE-HOUSE  40.740136 -73.753593  \n",
       "14            INSIDE      RESIDENCE - APT. HOUSE  40.837392 -73.916452  \n",
       "15            INSIDE             RESIDENCE-HOUSE  40.644129 -73.943053  \n",
       "16          FRONT OF                       OTHER  40.845119 -73.853405  \n",
       "17            INSIDE  RESIDENCE - PUBLIC HOUSING  40.799665 -73.947200  \n",
       "18            INSIDE      RESIDENCE - APT. HOUSE  40.765496 -73.781571  \n",
       "19            INSIDE      RESIDENCE - APT. HOUSE  40.695445 -73.923261  \n",
       "\n",
       "[20 rows x 32 columns]"
      ]
     },
     "execution_count": 16,
     "metadata": {},
     "output_type": "execute_result"
    }
   ],
   "source": [
    "# Look at those rows which the incident started on the year 2000\n",
    "df[df['COMPLAINT_START_TIMESTAMP_YEAR'] == 2000].toPandas().head(20)"
   ]
  },
  {
   "cell_type": "markdown",
   "metadata": {},
   "source": [
    "Still shady... For example on row index \\#9 can an Assault case really last from 2000 to 2009? In the case of row index \\#14, a Public Order misdemeanor went on from 2000 to 2009? I'm not believing it. Many of these have 2009 as an end date, so perhaps these are typos as well because the 0 and 9 keys are close together. In any event, I will filter out anything with a starting date before 2006."
   ]
  },
  {
   "cell_type": "code",
   "execution_count": 17,
   "metadata": {},
   "outputs": [
    {
     "data": {
      "text/plain": [
       "5349485"
      ]
     },
     "execution_count": 17,
     "metadata": {},
     "output_type": "execute_result"
    }
   ],
   "source": [
    "# Filter out rows with complaint start year before 2006\n",
    "df_filtered = df[df['COMPLAINT_START_TIMESTAMP_YEAR'] >= 2006]\n",
    "df_filtered.count()"
   ]
  },
  {
   "cell_type": "code",
   "execution_count": 18,
   "metadata": {
    "collapsed": true
   },
   "outputs": [],
   "source": [
    "# Add table to SQL Context\n",
    "df_filtered.createOrReplaceTempView(\"df_filtered\")"
   ]
  },
  {
   "cell_type": "code",
   "execution_count": 19,
   "metadata": {},
   "outputs": [
    {
     "name": "stdout",
     "output_type": "stream",
     "text": [
      "Query started at 05:05:10 AM UTC; Query executed in 0.04 m"
     ]
    }
   ],
   "source": [
    "complaint_start_result = %read_sql \\\n",
    "SELECT \\\n",
    "    COMPLAINT_START_TIMESTAMP_YEAR as COMPLAINT_YEAR, \\\n",
    "    COUNT(*) as NUM_COMPLAINTS \\\n",
    "FROM df_filtered \\\n",
    "GROUP BY COMPLAINT_START_TIMESTAMP_YEAR"
   ]
  },
  {
   "cell_type": "code",
   "execution_count": 20,
   "metadata": {},
   "outputs": [
    {
     "data": {
      "text/plain": [
       "<matplotlib.axes._subplots.AxesSubplot at 0x7fb165b91550>"
      ]
     },
     "execution_count": 20,
     "metadata": {},
     "output_type": "execute_result"
    },
    {
     "data": {
      "image/png": "[encoded data removed]",
      "text/plain": [
       "<matplotlib.figure.Figure at 0x7fb165b5c2b0>"
      ]
     },
     "metadata": {},
     "output_type": "display_data"
    }
   ],
   "source": [
    "# Plot number of complaints per year\n",
    "complaint_start_result.sort_values('COMPLAINT_YEAR').plot(kind = 'bar', x = 'COMPLAINT_YEAR', y = 'NUM_COMPLAINTS')"
   ]
  },
  {
   "cell_type": "markdown",
   "metadata": {},
   "source": [
    "Looks better to me! Crime is decreasing - yay?"
   ]
  },
  {
   "cell_type": "markdown",
   "metadata": {},
   "source": [
    "### Length Of Incident\n",
    "Before I go ahead and look at any more time-series trends, I want to stop and take a look at the length of incidents because it's quite clear that typos exist in the data. This is an after-the-fact data cleansing exercise as my trust is a bit shaken right now."
   ]
  },
  {
   "cell_type": "code",
   "execution_count": 21,
   "metadata": {},
   "outputs": [
    {
     "data": {
      "text/html": [
       "<div>\n",
       "<style>\n",
       "    .dataframe thead tr:only-child th {\n",
       "        text-align: right;\n",
       "    }\n",
       "\n",
       "    .dataframe thead th {\n",
       "        text-align: left;\n",
       "    }\n",
       "\n",
       "    .dataframe tbody tr th {\n",
       "        vertical-align: top;\n",
       "    }\n",
       "</style>\n",
       "<table border=\"1\" class=\"dataframe\">\n",
       "  <thead>\n",
       "    <tr style=\"text-align: right;\">\n",
       "      <th></th>\n",
       "      <th>summary</th>\n",
       "      <th>COMPLAINT_LENGTH</th>\n",
       "    </tr>\n",
       "  </thead>\n",
       "  <tbody>\n",
       "    <tr>\n",
       "      <th>0</th>\n",
       "      <td>count</td>\n",
       "      <td>5349485</td>\n",
       "    </tr>\n",
       "    <tr>\n",
       "      <th>1</th>\n",
       "      <td>mean</td>\n",
       "      <td>5038.090861266708</td>\n",
       "    </tr>\n",
       "    <tr>\n",
       "      <th>2</th>\n",
       "      <td>stddev</td>\n",
       "      <td>63724.48415252135</td>\n",
       "    </tr>\n",
       "    <tr>\n",
       "      <th>3</th>\n",
       "      <td>min</td>\n",
       "      <td>-5258880.0</td>\n",
       "    </tr>\n",
       "    <tr>\n",
       "      <th>4</th>\n",
       "      <td>max</td>\n",
       "      <td>4.26024E7</td>\n",
       "    </tr>\n",
       "  </tbody>\n",
       "</table>\n",
       "</div>"
      ],
      "text/plain": [
       "  summary   COMPLAINT_LENGTH\n",
       "0   count            5349485\n",
       "1    mean  5038.090861266708\n",
       "2  stddev  63724.48415252135\n",
       "3     min         -5258880.0\n",
       "4     max          4.26024E7"
      ]
     },
     "execution_count": 21,
     "metadata": {},
     "output_type": "execute_result"
    }
   ],
   "source": [
    "# Generate summary statistics for complaint length\n",
    "complaint_length_summary = df_filtered[['COMPLAINT_LENGTH']].describe().toPandas()\n",
    "complaint_length_summary"
   ]
  },
  {
   "cell_type": "markdown",
   "metadata": {},
   "source": [
    "Remember, I loaded these up to be in _**minutes**_... I probably should have genereated them as hours or days haha. Let's do days..."
   ]
  },
  {
   "cell_type": "code",
   "execution_count": 22,
   "metadata": {},
   "outputs": [
    {
     "data": {
      "text/html": [
       "<div>\n",
       "<style>\n",
       "    .dataframe thead tr:only-child th {\n",
       "        text-align: right;\n",
       "    }\n",
       "\n",
       "    .dataframe thead th {\n",
       "        text-align: left;\n",
       "    }\n",
       "\n",
       "    .dataframe tbody tr th {\n",
       "        vertical-align: top;\n",
       "    }\n",
       "</style>\n",
       "<table border=\"1\" class=\"dataframe\">\n",
       "  <thead>\n",
       "    <tr style=\"text-align: right;\">\n",
       "      <th></th>\n",
       "      <th>summary</th>\n",
       "      <th>COMPLAINT_LENGTH</th>\n",
       "      <th>COMPLAINT_LENGTH_DAYS</th>\n",
       "    </tr>\n",
       "  </thead>\n",
       "  <tbody>\n",
       "    <tr>\n",
       "      <th>0</th>\n",
       "      <td>count</td>\n",
       "      <td>5349485</td>\n",
       "      <td>3714.920139</td>\n",
       "    </tr>\n",
       "    <tr>\n",
       "      <th>1</th>\n",
       "      <td>mean</td>\n",
       "      <td>5038.090861266708</td>\n",
       "      <td>3.498674</td>\n",
       "    </tr>\n",
       "    <tr>\n",
       "      <th>2</th>\n",
       "      <td>stddev</td>\n",
       "      <td>63724.48415252135</td>\n",
       "      <td>44.253114</td>\n",
       "    </tr>\n",
       "    <tr>\n",
       "      <th>3</th>\n",
       "      <td>min</td>\n",
       "      <td>-5258880.0</td>\n",
       "      <td>-3652.000000</td>\n",
       "    </tr>\n",
       "    <tr>\n",
       "      <th>4</th>\n",
       "      <td>max</td>\n",
       "      <td>4.26024E7</td>\n",
       "      <td>29585.000000</td>\n",
       "    </tr>\n",
       "  </tbody>\n",
       "</table>\n",
       "</div>"
      ],
      "text/plain": [
       "  summary   COMPLAINT_LENGTH  COMPLAINT_LENGTH_DAYS\n",
       "0   count            5349485            3714.920139\n",
       "1    mean  5038.090861266708               3.498674\n",
       "2  stddev  63724.48415252135              44.253114\n",
       "3     min         -5258880.0           -3652.000000\n",
       "4     max          4.26024E7           29585.000000"
      ]
     },
     "execution_count": 22,
     "metadata": {},
     "output_type": "execute_result"
    }
   ],
   "source": [
    "# Add additional column expressing length of complaint in days\n",
    "complaint_length_summary['COMPLAINT_LENGTH_DAYS'] = complaint_length_summary['COMPLAINT_LENGTH'].astype(float)/60/24\n",
    "complaint_length_summary"
   ]
  },
  {
   "cell_type": "markdown",
   "metadata": {},
   "source": [
    "The average crime is 3.5 days, with a standard deviation of 1.5 months (44 days)... That seems _**very long**_... especially when I take a look at the max value, which is _**82 years long**_. More typos are coming...\n",
    "\n",
    "<img src=\"http://www.newstatesman.com/sites/default/files/styles/nodeimage/public/blogs_2015/06/sean-bean.jpg\" width=\"400\">\n",
    "\n",
    "Ugh, I thought I was done with the cleansing step last post - it has a way of just pulling you pack in. I guess we'll have to take a look at the complaint end date as well."
   ]
  },
  {
   "cell_type": "code",
   "execution_count": 23,
   "metadata": {},
   "outputs": [
    {
     "name": "stdout",
     "output_type": "stream",
     "text": [
      "Query started at 05:05:19 AM UTC; Query executed in 0.04 m"
     ]
    }
   ],
   "source": [
    "complaint_end_result = %read_sql \\\n",
    "SELECT \\\n",
    "    COMPLAINT_END_TIMESTAMP_YEAR as COMPLAINT_END_YEAR, \\\n",
    "    COUNT(*) as NUM_COMPLAINTS \\\n",
    "FROM df_filtered \\\n",
    "GROUP BY COMPLAINT_END_TIMESTAMP_YEAR"
   ]
  },
  {
   "cell_type": "code",
   "execution_count": 24,
   "metadata": {},
   "outputs": [
    {
     "data": {
      "text/plain": [
       "<matplotlib.axes._subplots.AxesSubplot at 0x7fb165a4ea58>"
      ]
     },
     "execution_count": 24,
     "metadata": {},
     "output_type": "execute_result"
    },
    {
     "data": {
      "image/png": "[encoded data removed]",
      "text/plain": [
       "<matplotlib.figure.Figure at 0x7fb165c0e2b0>"
      ]
     },
     "metadata": {},
     "output_type": "display_data"
    }
   ],
   "source": [
    "# Plot complaint ends per year\n",
    "complaint_end_result.sort_values('COMPLAINT_END_YEAR').plot(kind = 'bar', x = 'COMPLAINT_END_YEAR', y = 'NUM_COMPLAINTS')"
   ]
  },
  {
   "cell_type": "markdown",
   "metadata": {},
   "source": [
    "Well the 2001, 2017, and 2090 values definitely explain some of the bad summary statistics... Let's filter these out too."
   ]
  },
  {
   "cell_type": "code",
   "execution_count": 25,
   "metadata": {
    "collapsed": true
   },
   "outputs": [],
   "source": [
    "# Filter end date for 2006 - 2016 inclusive\n",
    "df_filtered = df_filtered[(df_filtered['COMPLAINT_END_TIMESTAMP_YEAR'] >= 2006) & (df_filtered['COMPLAINT_END_TIMESTAMP_YEAR'] <= 2016)]"
   ]
  },
  {
   "cell_type": "code",
   "execution_count": 26,
   "metadata": {
    "collapsed": true
   },
   "outputs": [],
   "source": [
    "# Add table to SQL Context\n",
    "df_filtered.createOrReplaceTempView(\"df_filtered\")"
   ]
  },
  {
   "cell_type": "code",
   "execution_count": 27,
   "metadata": {},
   "outputs": [
    {
     "name": "stdout",
     "output_type": "stream",
     "text": [
      "Query started at 05:05:27 AM UTC; Query executed in 0.04 m"
     ]
    }
   ],
   "source": [
    "complaint_end_result = %read_sql \\\n",
    "SELECT \\\n",
    "    COMPLAINT_END_TIMESTAMP_YEAR as COMPLAINT_END_YEAR, \\\n",
    "    COUNT(*) as NUM_COMPLAINTS \\\n",
    "FROM df_filtered \\\n",
    "GROUP BY COMPLAINT_END_TIMESTAMP_YEAR"
   ]
  },
  {
   "cell_type": "code",
   "execution_count": 28,
   "metadata": {},
   "outputs": [
    {
     "data": {
      "text/plain": [
       "<matplotlib.axes._subplots.AxesSubplot at 0x7fb1659e9b00>"
      ]
     },
     "execution_count": 28,
     "metadata": {},
     "output_type": "execute_result"
    },
    {
     "data": {
      "image/png": "[encoded data removed]",
      "text/plain": [
       "<matplotlib.figure.Figure at 0x7fb1659f4ac8>"
      ]
     },
     "metadata": {},
     "output_type": "display_data"
    }
   ],
   "source": [
    "# Plot complaint ends per year\n",
    "complaint_end_result.sort_values('COMPLAINT_END_YEAR').plot(kind = 'bar', x = 'COMPLAINT_END_YEAR', y = 'NUM_COMPLAINTS')"
   ]
  },
  {
   "cell_type": "markdown",
   "metadata": {},
   "source": [
    "Let's try calculating complaint length summary statistics again."
   ]
  },
  {
   "cell_type": "code",
   "execution_count": 29,
   "metadata": {},
   "outputs": [
    {
     "data": {
      "text/html": [
       "<div>\n",
       "<style>\n",
       "    .dataframe thead tr:only-child th {\n",
       "        text-align: right;\n",
       "    }\n",
       "\n",
       "    .dataframe thead th {\n",
       "        text-align: left;\n",
       "    }\n",
       "\n",
       "    .dataframe tbody tr th {\n",
       "        vertical-align: top;\n",
       "    }\n",
       "</style>\n",
       "<table border=\"1\" class=\"dataframe\">\n",
       "  <thead>\n",
       "    <tr style=\"text-align: right;\">\n",
       "      <th></th>\n",
       "      <th>summary</th>\n",
       "      <th>COMPLAINT_LENGTH</th>\n",
       "      <th>COMPLAINT_LENGTH_DAYS</th>\n",
       "    </tr>\n",
       "  </thead>\n",
       "  <tbody>\n",
       "    <tr>\n",
       "      <th>0</th>\n",
       "      <td>count</td>\n",
       "      <td>5349482</td>\n",
       "      <td>3714.918056</td>\n",
       "    </tr>\n",
       "    <tr>\n",
       "      <th>1</th>\n",
       "      <td>mean</td>\n",
       "      <td>5031.106929789339</td>\n",
       "      <td>3.493824</td>\n",
       "    </tr>\n",
       "    <tr>\n",
       "      <th>2</th>\n",
       "      <td>stddev</td>\n",
       "      <td>60962.561283018484</td>\n",
       "      <td>42.335112</td>\n",
       "    </tr>\n",
       "    <tr>\n",
       "      <th>3</th>\n",
       "      <td>min</td>\n",
       "      <td>-601920.0</td>\n",
       "      <td>-418.000000</td>\n",
       "    </tr>\n",
       "    <tr>\n",
       "      <th>4</th>\n",
       "      <td>max</td>\n",
       "      <td>5496660.0</td>\n",
       "      <td>3817.125000</td>\n",
       "    </tr>\n",
       "  </tbody>\n",
       "</table>\n",
       "</div>"
      ],
      "text/plain": [
       "  summary    COMPLAINT_LENGTH  COMPLAINT_LENGTH_DAYS\n",
       "0   count             5349482            3714.918056\n",
       "1    mean   5031.106929789339               3.493824\n",
       "2  stddev  60962.561283018484              42.335112\n",
       "3     min           -601920.0            -418.000000\n",
       "4     max           5496660.0            3817.125000"
      ]
     },
     "execution_count": 29,
     "metadata": {},
     "output_type": "execute_result"
    }
   ],
   "source": [
    "# Generate summary statistics for complaint length\n",
    "complaint_length_summary = df_filtered[['COMPLAINT_LENGTH']].describe().toPandas()\n",
    "complaint_length_summary['COMPLAINT_LENGTH_DAYS'] = complaint_length_summary['COMPLAINT_LENGTH'].astype(float)/60/24\n",
    "complaint_length_summary"
   ]
  },
  {
   "cell_type": "markdown",
   "metadata": {},
   "source": [
    "You know what, this would actually be a very good use of a histogram... I secretly have been holding out on histograms because, embarassingly enough, _**how do I actually plot a histogram in Spark?**_ I don't think Spark has a graphing library... It looks like there's a library called **pyspark\\_dist\\_explore** that leverages Spark to compute the histogram bins and uses."
   ]
  },
  {
   "cell_type": "code",
   "execution_count": 30,
   "metadata": {
    "collapsed": true
   },
   "outputs": [],
   "source": [
    "from pyspark_dist_explore import hist"
   ]
  },
  {
   "cell_type": "code",
   "execution_count": 31,
   "metadata": {},
   "outputs": [
    {
     "data": {
      "text/plain": [
       "(array([  5.14227700e+06,   2.00155000e+05,   4.43700000e+03,\n",
       "          1.40000000e+03,   5.75000000e+02,   3.52000000e+02,\n",
       "          1.62000000e+02,   6.80000000e+01,   4.10000000e+01,\n",
       "          1.50000000e+01]),\n",
       " array([ -601920.,     7938.,   617796.,  1227654.,  1837512.,  2447370.,\n",
       "         3057228.,  3667086.,  4276944.,  4886802.,  5496660.]),\n",
       " <a list of 10 Patch objects>)"
      ]
     },
     "execution_count": 31,
     "metadata": {},
     "output_type": "execute_result"
    },
    {
     "data": {
      "image/png": "[encoded data removed]",
      "text/plain": [
       "<matplotlib.figure.Figure at 0x7fb1650730f0>"
      ]
     },
     "metadata": {},
     "output_type": "display_data"
    }
   ],
   "source": [
    "fig, ax = plt.subplots()\n",
    "hist(ax, df_filtered[['COMPLAINT_LENGTH']], bins = 10)"
   ]
  },
  {
   "cell_type": "markdown",
   "metadata": {},
   "source": [
    "Let's create a days column and plot that instead."
   ]
  },
  {
   "cell_type": "code",
   "execution_count": 32,
   "metadata": {
    "collapsed": true
   },
   "outputs": [],
   "source": [
    "# Create permenant COMPLAINT_LENGTH_DAYS column\n",
    "df_filtered = df_filtered.withColumn('COMPLAINT_LENGTH_DAYS', df['COMPLAINT_LENGTH']/60/24)"
   ]
  },
  {
   "cell_type": "code",
   "execution_count": 33,
   "metadata": {},
   "outputs": [
    {
     "data": {
      "text/plain": [
       "(array([  5.14227700e+06,   2.00155000e+05,   4.43700000e+03,\n",
       "          1.40000000e+03,   5.75000000e+02,   3.52000000e+02,\n",
       "          1.62000000e+02,   6.80000000e+01,   4.10000000e+01,\n",
       "          1.50000000e+01]),\n",
       " array([ -418.    ,     5.5125,   429.025 ,   852.5375,  1276.05  ,\n",
       "         1699.5625,  2123.075 ,  2546.5875,  2970.1   ,  3393.6125,\n",
       "         3817.125 ]),\n",
       " <a list of 10 Patch objects>)"
      ]
     },
     "execution_count": 33,
     "metadata": {},
     "output_type": "execute_result"
    },
    {
     "data": {
      "image/png": "[encoded data removed]",
      "text/plain": [
       "<matplotlib.figure.Figure at 0x7fb1640e79e8>"
      ]
     },
     "metadata": {},
     "output_type": "display_data"
    }
   ],
   "source": [
    "fig, ax = plt.subplots()\n",
    "hist(ax, df_filtered[['COMPLAINT_LENGTH_DAYS']], bins = 10)"
   ]
  },
  {
   "cell_type": "markdown",
   "metadata": {},
   "source": [
    "The output of hist() from the **pyspark\\_dist\\_explore** package gives us two arrays:\n",
    "1. First array returns the count per histogram bin\n",
    "2. Second array returns the lower boundary of the respective bin\n",
    "\n",
    "Remember, our mean was around 3 days and the standard deviation was like 40 days, so theoretically most of the data should lie between like 0 and 200 days, 200 days is probably being generous. Here, our buckets are a bit too large, so let's try to break it up by more buckets."
   ]
  },
  {
   "cell_type": "code",
   "execution_count": 34,
   "metadata": {},
   "outputs": [
    {
     "data": {
      "text/plain": [
       "(array([  5.00000000e+00,   1.00000000e+00,   1.00000000e+00,\n",
       "          3.00000000e+00,   5.14226700e+06,   1.63523000e+05,\n",
       "          1.89480000e+04,   8.09500000e+03,   4.24400000e+03,\n",
       "          5.34500000e+03,   1.27300000e+03,   9.64000000e+02,\n",
       "          7.03000000e+02,   1.06700000e+03,   4.30000000e+02,\n",
       "          3.54000000e+02,   2.65000000e+02,   4.37000000e+02,\n",
       "          1.82000000e+02,   1.62000000e+02,   1.34000000e+02,\n",
       "          1.22000000e+02,   1.65000000e+02,   8.80000000e+01,\n",
       "          6.60000000e+01,   7.80000000e+01,   1.25000000e+02,\n",
       "          6.30000000e+01,   5.00000000e+01,   3.60000000e+01,\n",
       "          5.40000000e+01,   3.30000000e+01,   2.50000000e+01,\n",
       "          2.90000000e+01,   2.10000000e+01,   1.20000000e+01,\n",
       "          2.10000000e+01,   1.30000000e+01,   1.30000000e+01,\n",
       "          9.00000000e+00,   1.40000000e+01,   7.00000000e+00,\n",
       "          9.00000000e+00,   6.00000000e+00,   5.00000000e+00,\n",
       "          3.00000000e+00,   1.00000000e+00,   1.00000000e+00,\n",
       "          8.00000000e+00,   2.00000000e+00]),\n",
       " array([ -418.    ,  -333.2975,  -248.595 ,  -163.8925,   -79.19  ,\n",
       "            5.5125,    90.215 ,   174.9175,   259.62  ,   344.3225,\n",
       "          429.025 ,   513.7275,   598.43  ,   683.1325,   767.835 ,\n",
       "          852.5375,   937.24  ,  1021.9425,  1106.645 ,  1191.3475,\n",
       "         1276.05  ,  1360.7525,  1445.455 ,  1530.1575,  1614.86  ,\n",
       "         1699.5625,  1784.265 ,  1868.9675,  1953.67  ,  2038.3725,\n",
       "         2123.075 ,  2207.7775,  2292.48  ,  2377.1825,  2461.885 ,\n",
       "         2546.5875,  2631.29  ,  2715.9925,  2800.695 ,  2885.3975,\n",
       "         2970.1   ,  3054.8025,  3139.505 ,  3224.2075,  3308.91  ,\n",
       "         3393.6125,  3478.315 ,  3563.0175,  3647.72  ,  3732.4225,\n",
       "         3817.125 ]),\n",
       " <a list of 50 Patch objects>)"
      ]
     },
     "execution_count": 34,
     "metadata": {},
     "output_type": "execute_result"
    },
    {
     "data": {
      "image/png": "[encoded data removed]",
      "text/plain": [
       "<matplotlib.figure.Figure at 0x7fb15d192278>"
      ]
     },
     "metadata": {},
     "output_type": "display_data"
    }
   ],
   "source": [
    "fig, ax = plt.subplots()\n",
    "hist(ax, df_filtered[['COMPLAINT_LENGTH_DAYS']], bins = 50)"
   ]
  },
  {
   "cell_type": "markdown",
   "metadata": {},
   "source": [
    "I think 0 - 500 is my sweet spot. Let's just do a quick sanity check to see how many records are between 0 - 500. Anything under 0 doesn't make sense, and is likely an error (how can an incident end before it starts)? If it's over 500... well the histogram tells us that it is quite an outlier... I'll take these out for now just to make my own life easier. I mean, theoretically anything over 365 days is a bit shady to me... a crime that lasts longer than _**a year**_? I'm not sure about that. In fact, why don't I actually make _**that**_ my cutoff!"
   ]
  },
  {
   "cell_type": "code",
   "execution_count": 36,
   "metadata": {
    "collapsed": true
   },
   "outputs": [],
   "source": [
    "# Create flag to determine whether or not length of complaint in days is under a year\n",
    "df_filtered = df_filtered.withColumn(\n",
    "    'COMPLAINT_LENGTH_UNDER_ONE_YEAR', \n",
    "    F.when((df_filtered['COMPLAINT_LENGTH_DAYS'] >= 0) & (df_filtered['COMPLAINT_LENGTH_DAYS'] <= 365), True) \\\n",
    "        .otherwise(False)\n",
    ")"
   ]
  },
  {
   "cell_type": "code",
   "execution_count": 37,
   "metadata": {
    "collapsed": true
   },
   "outputs": [],
   "source": [
    "# Add table to SQL Context\n",
    "df_filtered.createOrReplaceTempView(\"df_filtered\")"
   ]
  },
  {
   "cell_type": "code",
   "execution_count": 39,
   "metadata": {},
   "outputs": [
    {
     "name": "stdout",
     "output_type": "stream",
     "text": [
      "Query started at 05:28:07 AM UTC; Query executed in 0.31 m"
     ]
    }
   ],
   "source": [
    "complaint_length_groupby = %read_sql SELECT \\\n",
    "    COMPLAINT_LENGTH_UNDER_ONE_YEAR, \\\n",
    "    COUNT(*) AS NUM_COMPLAINTS \\\n",
    "FROM df_filtered \\\n",
    "GROUP BY \\\n",
    "    COMPLAINT_LENGTH_UNDER_ONE_YEAR"
   ]
  },
  {
   "cell_type": "code",
   "execution_count": 43,
   "metadata": {},
   "outputs": [
    {
     "data": {
      "text/html": [
       "<div>\n",
       "<style>\n",
       "    .dataframe thead tr:only-child th {\n",
       "        text-align: right;\n",
       "    }\n",
       "\n",
       "    .dataframe thead th {\n",
       "        text-align: left;\n",
       "    }\n",
       "\n",
       "    .dataframe tbody tr th {\n",
       "        vertical-align: top;\n",
       "    }\n",
       "</style>\n",
       "<table border=\"1\" class=\"dataframe\">\n",
       "  <thead>\n",
       "    <tr style=\"text-align: right;\">\n",
       "      <th></th>\n",
       "      <th>COMPLAINT_LENGTH_UNDER_ONE_YEAR</th>\n",
       "      <th>NUM_COMPLAINTS</th>\n",
       "      <th>NUM_COMPLAINTS_PERCENTAGE</th>\n",
       "    </tr>\n",
       "  </thead>\n",
       "  <tbody>\n",
       "    <tr>\n",
       "      <th>0</th>\n",
       "      <td>True</td>\n",
       "      <td>5336177</td>\n",
       "      <td>99.751284</td>\n",
       "    </tr>\n",
       "    <tr>\n",
       "      <th>1</th>\n",
       "      <td>False</td>\n",
       "      <td>13305</td>\n",
       "      <td>0.248716</td>\n",
       "    </tr>\n",
       "  </tbody>\n",
       "</table>\n",
       "</div>"
      ],
      "text/plain": [
       "   COMPLAINT_LENGTH_UNDER_ONE_YEAR  NUM_COMPLAINTS  NUM_COMPLAINTS_PERCENTAGE\n",
       "0                             True         5336177                  99.751284\n",
       "1                            False           13305                   0.248716"
      ]
     },
     "execution_count": 43,
     "metadata": {},
     "output_type": "execute_result"
    }
   ],
   "source": [
    "# Add percentages column\n",
    "complaint_length_groupby['NUM_COMPLAINTS_PERCENTAGE'] = (complaint_length_groupby['NUM_COMPLAINTS'] / complaint_length_groupby['NUM_COMPLAINTS'].sum())*100\n",
    "complaint_length_groupby"
   ]
  },
  {
   "cell_type": "markdown",
   "metadata": {},
   "source": [
    "Once again, barely any of the rows fall over a year or take on a negative value, so I feel comfortable discarding these as well. Let's make the change in the original Spark dataframe."
   ]
  },
  {
   "cell_type": "code",
   "execution_count": 45,
   "metadata": {},
   "outputs": [],
   "source": [
    "# Filter for those with complaint lengths under one year\n",
    "df_filtered = df_filtered[(df_filtered['COMPLAINT_LENGTH_DAYS'] >= 0) & (df_filtered['COMPLAINT_LENGTH_DAYS'] <= 365)]"
   ]
  },
  {
   "cell_type": "code",
   "execution_count": 53,
   "metadata": {},
   "outputs": [
    {
     "data": {
      "text/plain": [
       "(array([  5.26775800e+06,   2.85530000e+04,   1.40430000e+04,\n",
       "          7.75800000e+03,   5.70600000e+03,   3.95300000e+03,\n",
       "          2.72000000e+03,   2.18300000e+03,   1.64000000e+03,\n",
       "          1.86300000e+03]),\n",
       " array([   0. ,   36.5,   73. ,  109.5,  146. ,  182.5,  219. ,  255.5,\n",
       "         292. ,  328.5,  365. ]),\n",
       " <a list of 10 Patch objects>)"
      ]
     },
     "execution_count": 53,
     "metadata": {},
     "output_type": "execute_result"
    },
    {
     "data": {
      "image/png": "[encoded data removed]",
      "text/plain": [
       "<matplotlib.figure.Figure at 0x7fb15a421b00>"
      ]
     },
     "metadata": {},
     "output_type": "display_data"
    }
   ],
   "source": [
    "fig, ax = plt.subplots()\n",
    "hist(ax, df_filtered[['COMPLAINT_LENGTH_DAYS']], bins = 10)"
   ]
  },
  {
   "cell_type": "markdown",
   "metadata": {},
   "source": [
    "This looks fine to me for now. I'm inferring that the large large majority of the crimes are actually 0 days long (i.e. was a single instance in time, starting and ending at the exact same moment). Let's confirm this:"
   ]
  },
  {
   "cell_type": "code",
   "execution_count": 49,
   "metadata": {},
   "outputs": [
    {
     "name": "stdout",
     "output_type": "stream",
     "text": [
      "Query started at 05:42:27 AM UTC; Query executed in 0.31 m"
     ]
    }
   ],
   "source": [
    "complaint_length_groupby = %read_sql SELECT \\\n",
    "    COMPLAINT_LENGTH_ZERO_TIME, \\\n",
    "    COUNT(*) AS NUM_COMPLAINTS \\\n",
    "FROM df_filtered \\\n",
    "GROUP BY \\\n",
    "    COMPLAINT_LENGTH_ZERO_TIME"
   ]
  },
  {
   "cell_type": "code",
   "execution_count": 50,
   "metadata": {},
   "outputs": [
    {
     "data": {
      "text/html": [
       "<div>\n",
       "<style>\n",
       "    .dataframe thead tr:only-child th {\n",
       "        text-align: right;\n",
       "    }\n",
       "\n",
       "    .dataframe thead th {\n",
       "        text-align: left;\n",
       "    }\n",
       "\n",
       "    .dataframe tbody tr th {\n",
       "        vertical-align: top;\n",
       "    }\n",
       "</style>\n",
       "<table border=\"1\" class=\"dataframe\">\n",
       "  <thead>\n",
       "    <tr style=\"text-align: right;\">\n",
       "      <th></th>\n",
       "      <th>COMPLAINT_LENGTH_ZERO_TIME</th>\n",
       "      <th>NUM_COMPLAINTS</th>\n",
       "      <th>NUM_COMPLAINTS_PERCENTAGE</th>\n",
       "    </tr>\n",
       "  </thead>\n",
       "  <tbody>\n",
       "    <tr>\n",
       "      <th>0</th>\n",
       "      <td>True</td>\n",
       "      <td>1624422</td>\n",
       "      <td>30.365968</td>\n",
       "    </tr>\n",
       "    <tr>\n",
       "      <th>1</th>\n",
       "      <td>False</td>\n",
       "      <td>3725060</td>\n",
       "      <td>69.634032</td>\n",
       "    </tr>\n",
       "  </tbody>\n",
       "</table>\n",
       "</div>"
      ],
      "text/plain": [
       "   COMPLAINT_LENGTH_ZERO_TIME  NUM_COMPLAINTS  NUM_COMPLAINTS_PERCENTAGE\n",
       "0                        True         1624422                  30.365968\n",
       "1                       False         3725060                  69.634032"
      ]
     },
     "execution_count": 50,
     "metadata": {},
     "output_type": "execute_result"
    }
   ],
   "source": [
    "# Add percentages column\n",
    "complaint_length_groupby['NUM_COMPLAINTS_PERCENTAGE'] = (complaint_length_groupby['NUM_COMPLAINTS'] / complaint_length_groupby['NUM_COMPLAINTS'].sum())*100\n",
    "complaint_length_groupby"
   ]
  },
  {
   "cell_type": "markdown",
   "metadata": {},
   "source": [
    "Ah, not quite, maybe within 1-2 days?"
   ]
  },
  {
   "cell_type": "code",
   "execution_count": 54,
   "metadata": {},
   "outputs": [
    {
     "data": {
      "text/plain": [
       "(array([ 4664431.,   253271.,    68966.,    39104.,    29337.,    25091.,\n",
       "           18190.,    12244.,    11944.,    10079.]),\n",
       " array([ 0. ,  0.5,  1. ,  1.5,  2. ,  2.5,  3. ,  3.5,  4. ,  4.5,  5. ]),\n",
       " <a list of 10 Patch objects>)"
      ]
     },
     "execution_count": 54,
     "metadata": {},
     "output_type": "execute_result"
    },
    {
     "data": {
      "image/png": "[encoded data removed]",
      "text/plain": [
       "<matplotlib.figure.Figure at 0x7fb159289438>"
      ]
     },
     "metadata": {},
     "output_type": "display_data"
    }
   ],
   "source": [
    "fig, ax = plt.subplots()\n",
    "hist(ax, df_filtered[df_filtered['COMPLAINT_LENGTH_DAYS'] <= 5][['COMPLAINT_LENGTH_DAYS']], bins = 10)"
   ]
  },
  {
   "cell_type": "markdown",
   "metadata": {},
   "source": [
    "Finally, we get to a histogram that actually gives me a good sense of the distribution of complaint lengths.\n",
    "- ~90% of the incidents took less than half a day (remember that a length of 0 makes up about 1/3 of all the rows in the dataset)\n",
    "- Maybe ~3-4% take half a day to a day to complete\n",
    "- The rest take over a day to complete, up to our arbitrary limit of 365 days (1 year)\n",
    "\n",
    "Let's move on."
   ]
  },
  {
   "cell_type": "markdown",
   "metadata": {},
   "source": [
    "### Monthly, Daily, Weekly Trends\n",
    "#### Monthly\n",
    "Let's take a look at how many crimes happen per month, day of week, and day of month."
   ]
  },
  {
   "cell_type": "code",
   "execution_count": 56,
   "metadata": {
    "collapsed": true
   },
   "outputs": [],
   "source": [
    "# Add table to SQL Context\n",
    "df_filtered.createOrReplaceTempView(\"df_filtered\")"
   ]
  },
  {
   "cell_type": "code",
   "execution_count": 59,
   "metadata": {},
   "outputs": [
    {
     "name": "stdout",
     "output_type": "stream",
     "text": [
      "Query started at 05:58:02 AM UTC; Query executed in 0.32 m"
     ]
    }
   ],
   "source": [
    "monthly_result = %read_sql \\\n",
    "SELECT \\\n",
    "    CAST(COMPLAINT_START_TIMESTAMP_MONTH AS INT) AS COMPLAINT_MONTH, \\\n",
    "    COUNT(*) AS NUM_COMPLAINTS \\\n",
    "FROM df_filtered \\\n",
    "GROUP BY COMPLAINT_START_TIMESTAMP_MONTH"
   ]
  },
  {
   "cell_type": "code",
   "execution_count": 65,
   "metadata": {},
   "outputs": [
    {
     "data": {
      "text/plain": [
       "<matplotlib.axes._subplots.AxesSubplot at 0x7fb1590b64a8>"
      ]
     },
     "execution_count": 65,
     "metadata": {},
     "output_type": "execute_result"
    },
    {
     "data": {
      "image/png": "[encoded data removed]",
      "text/plain": [
       "<matplotlib.figure.Figure at 0x7fb159107898>"
      ]
     },
     "metadata": {},
     "output_type": "display_data"
    }
   ],
   "source": [
    "# Plot number of complaints per month\n",
    "monthly_result.sort_values('COMPLAINT_MONTH', ascending = True).plot(kind = 'bar', x = 'COMPLAINT_MONTH', y = 'NUM_COMPLAINTS')"
   ]
  },
  {
   "cell_type": "markdown",
   "metadata": {},
   "source": [
    "More complaints during the summer months and very few complaints in February. I actually think this is because we're February has less days than the rest of the months. Nothing else that's too out of the ordinary here. Winter in NYC can be cold, perhaps not as many crimes open to being committed."
   ]
  },
  {
   "cell_type": "markdown",
   "metadata": {},
   "source": [
    "#### Daily"
   ]
  },
  {
   "cell_type": "code",
   "execution_count": 66,
   "metadata": {},
   "outputs": [
    {
     "name": "stdout",
     "output_type": "stream",
     "text": [
      "Query started at 06:01:36 AM UTC; Query executed in 0.31 m"
     ]
    }
   ],
   "source": [
    "daily_result = %read_sql \\\n",
    "SELECT \\\n",
    "    CAST(COMPLAINT_START_TIMESTAMP_DAY AS INT) AS COMPLAINT_DAY, \\\n",
    "    COUNT(*) AS NUM_COMPLAINTS \\\n",
    "FROM df_filtered \\\n",
    "GROUP BY COMPLAINT_START_TIMESTAMP_DAY"
   ]
  },
  {
   "cell_type": "code",
   "execution_count": 67,
   "metadata": {},
   "outputs": [
    {
     "data": {
      "text/plain": [
       "<matplotlib.axes._subplots.AxesSubplot at 0x7fb158fef1d0>"
      ]
     },
     "execution_count": 67,
     "metadata": {},
     "output_type": "execute_result"
    },
    {
     "data": {
      "image/png": "[encoded data removed]",
      "text/plain": [
       "<matplotlib.figure.Figure at 0x7fb159036c88>"
      ]
     },
     "metadata": {},
     "output_type": "display_data"
    }
   ],
   "source": [
    "# Plot number of complaints per day\n",
    "daily_result.sort_values('COMPLAINT_DAY', ascending = True).plot(kind = 'bar', x = 'COMPLAINT_DAY', y = 'NUM_COMPLAINTS')"
   ]
  },
  {
   "cell_type": "markdown",
   "metadata": {},
   "source": [
    "We see the effect of February again with the drops in the 29th, 30th, and 31st of the month. 31st of the month is missing by half the months as well, of course, so relatively, it's actually quite high.\n",
    "\n",
    "A few dates pop out for some reason.\n",
    "- There are far more complaints than average on the 1st\n",
    "- There are slightly more complaints than average on the 5th, 10th, 15th, and 20th\n",
    "\n",
    "The first point I could see. The 1st of every month is a milestone. If someone gets paid the first of the month, maybe that would Spark a theft or burglary... there are lots of reasons why someone would plan something on the first of every month because it's just a simple, easy to remember date. From that, crimes and complaints may revolve around these events that happen.\n",
    "\n",
    "The second point, I'm not so sure... I honestly have no clue right now. I'll have to do more research and come back to this later."
   ]
  },
  {
   "cell_type": "code",
   "execution_count": 70,
   "metadata": {},
   "outputs": [
    {
     "name": "stdout",
     "output_type": "stream",
     "text": [
      "Query started at 06:12:36 AM UTC; Query executed in 0.11 m"
     ]
    }
   ],
   "source": [
    "weekday_result = %read_sql \\\n",
    "SELECT \\\n",
    "    COMPLAINT_START_TIMESTAMP_WEEKDAY AS COMPLAINT_WEEKDAY, \\\n",
    "    COUNT(*) AS NUM_COMPLAINTS \\\n",
    "FROM df_filtered \\\n",
    "GROUP BY COMPLAINT_START_TIMESTAMP_WEEKDAY"
   ]
  },
  {
   "cell_type": "code",
   "execution_count": 75,
   "metadata": {},
   "outputs": [
    {
     "data": {
      "text/plain": [
       "<matplotlib.axes._subplots.AxesSubplot at 0x7fb158dba278>"
      ]
     },
     "execution_count": 75,
     "metadata": {},
     "output_type": "execute_result"
    },
    {
     "data": {
      "image/png": "[encoded data removed]",
      "text/plain": [
       "<matplotlib.figure.Figure at 0x7fb158d8e5f8>"
      ]
     },
     "metadata": {},
     "output_type": "display_data"
    }
   ],
   "source": [
    "# Plot number of complaints per weekday\n",
    "weekday_result.reindex([1, 5, 4, 2, 6, 3, 0]).plot(kind = 'bar', x = 'COMPLAINT_WEEKDAY', y = 'NUM_COMPLAINTS')"
   ]
  },
  {
   "cell_type": "markdown",
   "metadata": {},
   "source": [
    "More complaints on Fridays, less on Mondays and Sundays... I can see both of these. Same amount of complaints on a Wednesday vs a Saturday? I would've thought Saturday would be filled with the most complaints, but good to know what the data says."
   ]
  }
 ],
 "metadata": {
  "kernelspec": {
   "display_name": "Python 2",
   "language": "python",
   "name": "python2"
  },
  "language_info": {
   "codemirror_mode": {
    "name": "ipython",
    "version": 3
   },
   "file_extension": ".py",
   "mimetype": "text/x-python",
   "name": "python",
   "nbconvert_exporter": "python",
   "pygments_lexer": "ipython3",
   "version": "3.4.3"
  }
 },
 "nbformat": 4,
 "nbformat_minor": 2
}
