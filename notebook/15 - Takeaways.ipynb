{
 "cells": [
  {
   "cell_type": "markdown",
   "metadata": {},
   "source": [
    "# Takeaways\n",
    "Themes, yes. What we've all been waiting for in this post after 14 posts of mostly troubleshooting haha. To review some of the plots we created with datashader:\n",
    "\n",
    "#### Figure 1: NYC Crime Density\n",
    "<img src=\"https://s3.ca-central-1.amazonaws.com/2017edmfasatb/nypd_complaints/images/33_nypd_complaints_density_edited.png\" width=\"500\">\n",
    "\n",
    "#### Figure 2: NYC Crime Density (Top 3% Most Dense Regions Highlighted)\n",
    "<img src=\"https://s3.ca-central-1.amazonaws.com/2017edmfasatb/nypd_complaints/images/37_nypd_complaints_top_3_edited.png\" width=\"500\">\n",
    "\n",
    "#### Figure 3: NYC Crime Density by Offense Level\n",
    "<img src=\"https://s3.ca-central-1.amazonaws.com/2017edmfasatb/nypd_complaints/images/34_nypd_complaints_offense_level_edited.png\" width=\"500\">\n",
    "\n",
    "#### Figure 4: NYC Crime Density by Selective Offense Type\n",
    "<img src=\"https://s3.ca-central-1.amazonaws.com/2017edmfasatb/nypd_complaints/images/35_nypd_complaints_offense_type_edited.png\" width=\"500\">\n",
    "\n",
    "#### Figure 5: NYC Crime Density by Housing Type\n",
    "<img src=\"https://s3.ca-central-1.amazonaws.com/2017edmfasatb/nypd_complaints/images/38_nypd_complaints_housing_edited.png\" width=\"500\">\n",
    "\n",
    "#### Figure 6: NYC Crime Density by Selective Locations\n",
    "<img src=\"https://s3.ca-central-1.amazonaws.com/2017edmfasatb/nypd_complaints/images/36_nypd_complaints_offense_location_edited.png\" width=\"500\">\n",
    "\n",
    "I wanted to touch on a few high level takeaways / themes that surface just from these 6 plots."
   ]
  },
  {
   "cell_type": "markdown",
   "metadata": {},
   "source": [
    "## Concrete Jungle\n",
    "I'm sure this goes without saying, seeing now NYC has been dubbed a \"concrete jungle\" or the \"city that never sleeps\", but figure 5 shows us just how far reaching NYC urban living goes. Really, the only areas in NYC that houses are plentiful are on Staten Island and the east side of Queens. Other than that... _**all apartments**_.\n",
    "\n",
    "## Lower Manhattan\n",
    "A quick look at figure 2 shows that midtown Manhattan is one of the most crime-ridden areas in all of NYC. A quick google search last post led us to the hypothesis that midtown Manhattan simply has the numbers to present many opportunities for crimes to happen. Tourists, middle-class residents, ample bars and restaurants (illustrated by figure 6), and ample living spaces (illustrated by figure 5) cause a ton of Larceny (figure 4). This continues to sprawl out all the way to the financial district in south Manhattan up to an extremely rigid boundary neighbouring Harlem where we see a crime shift to Drugs. This is the only area of NYC where Grand Larceny is rampant.\n",
    "\n",
    "## Inner City Areas\n",
    "Figures 4, 5, and 6 so clearly show us where NYC's inner cities are:\n",
    "1. Harlem / Bronx\n",
    "2. Border of Brooklyn / Queens\n",
    "\n",
    "Starting with figure 6, we see a ton of public schools and public housing. Public housing is a pretty big tell, but public schools doesn't necessarily mean inner city. There are less restaurants / bars in these areas as well, so perhaps they are less developed (although this could swing the other way if there are only nice houses in these areas, for example).\n",
    "\n",
    "In figure 5, we see that these areas are generally apartments, indicating that families likely are less wealthy. We see just how _**dense**_ crime is in these areas as well as per figure 1, and it starts to paint a clearer picture of the living conditions in these areas.\n",
    "\n",
    "Figure 4 brings it home for us, showing just how many more Dangerous Drugs crimes there are vs Grand Larceny and Harrassment. That rigid boundary between Grand Larceny and Dangerous Drugs crimes bordering Manhattan and Harlem shows just how quickly the neighbourhoods can change... scary! Like we mentioned in the last post, for a Grand Larceny to exist, nice places and nice things have to exist to begin with. Much of that wealth seems to be concentrated in lower Manhattan.\n",
    "\n",
    "## A Safe Place?\n",
    "All of the figures point to one safe place in NYC... Staten Island. It's got less crime relative to the rest of the city, violations outnumber misdemeanors and felonies (not much theft, not much drug-related activities), houses are the most common type of dwelling indicating a higher level of wealth, and there aren't nearly as many public housing establishments in the area.\n",
    "\n",
    "Queens seems to provide a similar type of living environment, but there are _**way more felonies**_ for some reason... Figure 4 doesn't give us any more insight into what types of felonies exist, but figure 3 confirms that felonies do exist. I didn't want to put any more crimes onto figure 4 because I didn't want to convolute the story that it told, but I acknowledge that it's irresponsible to claim it tells the _**whole**_ story.\n",
    "\n",
    "I think a have a better idea to encompass more of the data..."
   ]
  }
 ],
 "metadata": {
  "anaconda-cloud": {},
  "kernelspec": {
   "display_name": "Python [default]",
   "language": "python",
   "name": "python2"
  },
  "language_info": {
   "codemirror_mode": {
    "name": "ipython",
    "version": 2
   },
   "file_extension": ".py",
   "mimetype": "text/x-python",
   "name": "python",
   "nbconvert_exporter": "python",
   "pygments_lexer": "ipython2",
   "version": "2.7.12"
  }
 },
 "nbformat": 4,
 "nbformat_minor": 2
}
