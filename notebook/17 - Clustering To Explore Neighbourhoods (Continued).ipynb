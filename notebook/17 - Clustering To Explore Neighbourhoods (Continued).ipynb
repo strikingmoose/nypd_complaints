{
 "cells": [
  {
   "cell_type": "markdown",
   "metadata": {},
   "source": [
    "# Clustering To Explore Neighbourhoods (Continued)\n",
    "## Review\n",
    "I'm so confused I don't even know what to review. In the last post, I used Spark to load a file, tried to cluster, and ran into a memory issue. Made some changes, clustered, did some SQL, tried to transform the data with a one-hot encoder, and ran into more memory issues... Again, we're talking about _**16GB OF WORKING MEMORY FOR A 1.3GB RAW CSV**_. I'm so confused, but clearly I took too large of a step than I was ready for. Let's try to start with the basics here and pay closer attention to memory usage within the cluster.\n",
    "\n",
    "## Ganglia\n",
    "Let's turn to Ganglia for some deeper cluster memory monitoring... Ganglia... what a fun name to say haha.\n",
    "\n",
    "After I write this paragraph, I'm going to turn down my cluster, start a new one, and have nothing running... I'd expect 24GB of free memory right now, maybe a bit of overhead memory consumption for node and Spark operation, but I would assume no more than 1GB per cluster maybe?\n",
    "\n",
    "<img src=\"https://s3.ca-central-1.amazonaws.com/2017edmfasatb/nypd_complaints/images/41_emr_ganglia_mem_1.png\" width=\"600\">\n",
    "\n",
    "Well, I'm glad I didn't make any bets on that, because that could not be further from the truth. At a standing state, _**HALF OF MY CLUSTER'S MEMORY IS USED UP**_? Let's take a deeper look at the nodes. Note that _**10.0.0.246**_ is my master node.\n",
    "\n",
    "### Master Node\n",
    "\n",
    "\n",
    "### Worker Nodes"
   ]
  },
  {
   "cell_type": "code",
   "execution_count": null,
   "metadata": {
    "collapsed": true
   },
   "outputs": [],
   "source": []
  }
 ],
 "metadata": {
  "kernelspec": {
   "display_name": "Python 2",
   "language": "python",
   "name": "python2"
  },
  "language_info": {
   "codemirror_mode": {
    "name": "ipython",
    "version": 3
   },
   "file_extension": ".py",
   "mimetype": "text/x-python",
   "name": "python",
   "nbconvert_exporter": "python",
   "pygments_lexer": "ipython3",
   "version": "3.4.3"
  }
 },
 "nbformat": 4,
 "nbformat_minor": 2
}
