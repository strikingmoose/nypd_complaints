{
 "cells": [
  {
   "cell_type": "markdown",
   "metadata": {},
   "source": [
    "# Clustering To Explore Neighbourhoods (Continued)\n",
    "## Review\n",
    "I'm so confused I don't even know what to review. In the last post, I used Spark to load a file, tried to cluster, and ran into a memory issue. Made some changes, clustered, did some SQL, tried to transform the data with a one-hot encoder, and ran into more memory issues... Again, we're talking about _**16GB OF WORKING MEMORY FOR A 1.3GB RAW CSV**_. I'm so confused, but clearly I took too large of a step than I was ready for. Let's try to start with the basics here and pay closer attention to memory usage within the cluster.\n",
    "\n",
    "## Ganglia\n",
    "Let's turn to Ganglia for some deeper cluster memory monitoring... Ganglia... what a fun name to say haha.\n",
    "\n",
    "After I write this paragraph, I'm going to turn down my cluster, start a new one, and have nothing running... I'd expect 24GB of free memory right now, maybe a bit of overhead memory consumption for node and Spark operation, but I would assume no more than 1GB per cluster maybe?\n",
    "\n",
    "<img src=\"https://s3.ca-central-1.amazonaws.com/2017edmfasatb/nypd_complaints/images/41_emr_ganglia_mem_1.png\" width=\"600\">\n",
    "\n",
    "Well, I'm glad I didn't make any bets on that, because that could not be further from the truth. At a standing state, _**HALF OF MY CLUSTER'S MEMORY IS USED UP**_? Let's take a deeper look at the nodes. Note that _**10.0.0.160**_ LAN IP is my master node.\n",
    "\n",
    "### Master Node\n",
    "<img src=\"https://s3.ca-central-1.amazonaws.com/2017edmfasatb/nypd_complaints/images/41_emr_ganglia_mem_1.png\" width=\"600\">\n",
    "\n",
    "Right off the bat, this already looks whatever the opposite of \"promising\" is. Good ol' thesaurus.com suggests:\n",
    "\n",
    "> _**unpromising, dull, hopeless, unhappy**_\n",
    "\n",
    "I would agree that I feel like a mix of pretty much all of those right now. What makes it even worse, the Spark JVM on my master node doesn't even have access to the full 8GB of RAM! Let's see how much my master node actually has:"
   ]
  },
  {
   "cell_type": "code",
   "execution_count": 1,
   "metadata": {},
   "outputs": [
    {
     "data": {
      "text/plain": [
       "0"
      ]
     },
     "execution_count": 1,
     "metadata": {},
     "output_type": "execute_result"
    }
   ],
   "source": [
    "import os\n",
    "os.system(\"sudo pip install findspark sql_magic pyspark_dist_explore seaborn\")"
   ]
  },
  {
   "cell_type": "code",
   "execution_count": 3,
   "metadata": {},
   "outputs": [],
   "source": [
    "# Use findspark package to connect Jupyter to Spark shell\n",
    "import findspark\n",
    "findspark.init('/usr/lib/spark')\n",
    "\n",
    "# Load SparkSession object\n",
    "import pyspark\n",
    "from pyspark.sql import SparkSession\n",
    "\n",
    "# Initiate SparkSession as \"spark\"\n",
    "spark = SparkSession\\\n",
    "    .builder\\\n",
    "    .getOrCreate()"
   ]
  },
  {
   "cell_type": "markdown",
   "metadata": {},
   "source": [
    "I realize that I'm loading even more into RAM on my master node right now, but I just want to look at the config via code I can run it again seamlessly if I ever use this on another EMR cluster (I'll eventually have to shut this one down when I'm done with it)."
   ]
  },
  {
   "cell_type": "code",
   "execution_count": 5,
   "metadata": {},
   "outputs": [
    {
     "data": {
      "text/plain": [
       "[('spark.eventLog.enabled', 'true'),\n",
       " ('spark.executor.memory', '4771M'),\n",
       " ('spark.driver.host', '10.0.0.47'),\n",
       " ('spark.driver.extraLibraryPath',\n",
       "  '/usr/lib/hadoop/lib/native:/usr/lib/hadoop-lzo/lib/native'),\n",
       " ('spark.yarn.appMasterEnv.SPARK_HOME', '/usr/lib/spark'),\n",
       " ('spark.executor.cores', '4'),\n",
       " ('spark.executor.extraJavaOptions',\n",
       "  \"-verbose:gc -XX:+PrintGCDetails -XX:+PrintGCDateStamps -XX:+UseConcMarkSweepGC -XX:CMSInitiatingOccupancyFraction=70 -XX:MaxHeapFreeRatio=70 -XX:+CMSClassUnloadingEnabled -XX:OnOutOfMemoryError='kill -9 %p'\"),\n",
       " ('spark.eventLog.dir', 'hdfs:///var/log/spark/apps'),\n",
       " ('spark.executor.instances', '2'),\n",
       " ('spark.sql.hive.metastore.sharedPrefixes',\n",
       "  'com.amazonaws.services.dynamodbv2'),\n",
       " ('spark.sql.warehouse.dir', 'hdfs:///user/spark/warehouse'),\n",
       " ('spark.serializer.objectStreamReset', '100'),\n",
       " ('spark.app.id', 'application_1507603908635_0001'),\n",
       " ('spark.driver.memory', '5585M'),\n",
       " ('spark.submit.deployMode', 'client'),\n",
       " ('spark.executorEnv.PYTHONPATH',\n",
       "  '/home/ec2-user/src/cntk/bindings/python<CPS>{{PWD}}/pyspark.zip<CPS>{{PWD}}/py4j-0.10.4-src.zip'),\n",
       " ('spark.history.fs.logDirectory', 'hdfs:///var/log/spark/apps'),\n",
       " ('spark.ui.filters',\n",
       "  'org.apache.hadoop.yarn.server.webproxy.amfilter.AmIpFilter'),\n",
       " ('spark.driver.port', '44515'),\n",
       " ('spark.driver.extraClassPath',\n",
       "  '/usr/lib/hadoop-lzo/lib/*:/usr/lib/hadoop/hadoop-aws.jar:/usr/share/aws/aws-java-sdk/*:/usr/share/aws/emr/emrfs/conf:/usr/share/aws/emr/emrfs/lib/*:/usr/share/aws/emr/emrfs/auxlib/*:/usr/share/aws/emr/security/conf:/usr/share/aws/emr/security/lib/*:/usr/share/aws/hmclient/lib/aws-glue-datacatalog-spark-client.jar'),\n",
       " ('spark.executor.extraClassPath',\n",
       "  '/usr/lib/hadoop-lzo/lib/*:/usr/lib/hadoop/hadoop-aws.jar:/usr/share/aws/aws-java-sdk/*:/usr/share/aws/emr/emrfs/conf:/usr/share/aws/emr/emrfs/lib/*:/usr/share/aws/emr/emrfs/auxlib/*:/usr/share/aws/emr/security/conf:/usr/share/aws/emr/security/lib/*:/usr/share/aws/hmclient/lib/aws-glue-datacatalog-spark-client.jar'),\n",
       " ('spark.org.apache.hadoop.yarn.server.webproxy.amfilter.AmIpFilter.param.PROXY_URI_BASES',\n",
       "  'http://ip-10-0-0-47.ec2.internal:20888/proxy/application_1507603908635_0001'),\n",
       " ('spark.history.ui.port', '18080'),\n",
       " ('spark.shuffle.service.enabled', 'true'),\n",
       " ('spark.hadoop.yarn.timeline-service.enabled', 'false'),\n",
       " ('spark.executor.id', 'driver'),\n",
       " ('spark.driver.appUIAddress', 'http://ip-10-0-0-47.ec2.internal:4040'),\n",
       " ('spark.yarn.historyServer.address', 'ip-10-0-0-47.ec2.internal:18080'),\n",
       " ('spark.app.name', 'pyspark-shell'),\n",
       " ('spark.driver.extraJavaOptions',\n",
       "  \"-XX:+UseConcMarkSweepGC -XX:CMSInitiatingOccupancyFraction=70 -XX:MaxHeapFreeRatio=70 -XX:+CMSClassUnloadingEnabled -XX:OnOutOfMemoryError='kill -9 %p'\"),\n",
       " ('spark.org.apache.hadoop.yarn.server.webproxy.amfilter.AmIpFilter.param.PROXY_HOSTS',\n",
       "  'ip-10-0-0-47.ec2.internal'),\n",
       " ('spark.master', 'yarn'),\n",
       " ('spark.default.parallelism', '16'),\n",
       " ('spark.rdd.compress', 'True'),\n",
       " ('spark.executor.extraLibraryPath',\n",
       "  '/usr/lib/hadoop/lib/native:/usr/lib/hadoop-lzo/lib/native'),\n",
       " ('spark.yarn.isPython', 'true'),\n",
       " ('spark.dynamicAllocation.enabled', 'true'),\n",
       " ('spark.ui.proxyBase', '/proxy/application_1507603908635_0001')]"
      ]
     },
     "execution_count": 5,
     "metadata": {},
     "output_type": "execute_result"
    }
   ],
   "source": [
    "# See spark config parameters\n",
    "spark.sparkContext.getConf().getAll()"
   ]
  },
  {
   "cell_type": "markdown",
   "metadata": {},
   "source": [
    "The max memory allocated to the master node here is indicated by the _**spark.driver.memory**_ parameter, which is about _**5.6G**_. Seeing as how my driver is already sitting at _**5G**_ RAM usage before anything is loaded up, _**hopeless**_ seems about right and I'm surprised I was even able to get as far as I got in the previous notebook.\n",
    "\n",
    "But wait... does this mean I only had _**0.5G of working memory left**_? That can't be, as my dataset is 1.3G of raw data. Even loading it up as a parquet and processing it as much as I did (including group bys and such), it just doesn't seem like 0.5G is enough.\n",
    "\n",
    "This makes me question whether or not I'm reading the graph right, or even understanding the graph properly fundamentally. This feels a bit [Player's Tribune-ish](https://www.theplayerstribune.com/lamar-odom-done-in-the-dark/) (if you're not a sports fan, please forgive this waste of your time), but _I was never one of those kids that built computers for fun, you know? I begrudingly learned transistors and FPGAs in school, but nothing at the OS level that would help me do what I do today_. Ok. I'm done... Sorry.\n",
    "\n",
    "Even with that unnecessary ramble, though, I think it's important to understand what kind of background I come from because this is simply my path to data science. There are probably Comp Sci / Comp Eng folks out there who are laughing at my inability to read a Ganglia chart (and, to be honest, I didn't even know what Ganglia was before I got into EMR), but who got put on this earth, went to a public school system and decent university, and understood math, stats, software development, scripting, computing, networking, compression, visualization... I could go on forever... right off the bat? I sure hope the answer is _**NOBODY**_ because this blog is obsolete otherwise.\n",
    "\n",
    "_**BACK TO GANGLIA**_... What I'm starting to think now is that the cached memory in Ganglia actually refers to the memory that the OS needs that is _**not**_ dedicated to Spark. This would make more sense because, again, 0.5G for me to run the rest of my spark program does not make sense... Upon reading up a bit on cached memory on Red Hat, it seems that that may be in fact that it means. I know that stackoverflow isn't the most official source, but [this answer](https://stackoverflow.com/questions/21009764/what-exactly-is-memory-used-versus-memory-cached-in-ganglia) explains what I'm wondering pretty concisely (stackoverflow is pretty much the equivalent of citing Wikipedia in a research paper these days haha). Anyways, what _**Ganglia**_ is showing us is the _**system**_ memory. What our Spark config shows us is how much of that system memory is being given to _**Spark specifically**_.\n",
    "\n",
    "$$7.8G\\ Total\\ RAM−2.8G\\ Cache\\ \\&\\ Buffer\\ Memory=5G\\ Free\\ Memory$$\n",
    " \n",
    "With _**5.6G**_ being allocated to Spark, we can start to perhaps see where that number is coming from. We can probably test this theory by loading up some data and processing it to see how the used and cached memories react to the activity, but let's take a look at the worker nodes first.\n",
    "\n",
    "### Worker Nodes\n",
    "<img src=\"https://s3.ca-central-1.amazonaws.com/2017edmfasatb/nypd_complaints/images/44_emr_ganglia_worker1.png\" width=\"600\">\n",
    "\n",
    "<img src=\"https://s3.ca-central-1.amazonaws.com/2017edmfasatb/nypd_complaints/images/42_emr_ganglia_worker2.png\" width=\"600\">\n",
    "\n",
    "We see a similar story in both cases here. Something like:\n",
    "\n",
    "$$7.8G\\ Total\\ RAM−1.9G\\ Cache\\ \\&\\ Buffer\\ Memory=5.9G\\ Free\\ Memory$$\n",
    " \n",
    "I'm not quite sure why only 4.8G is being allocated to the executors, given our logic for the driver memory.\n",
    "\n",
    "### Loading Data\n",
    "Let's load up some data and see what happens to the cluster. I don't anticipate too many changes, but I've already proven how little I know, so let's take it step by step."
   ]
  },
  {
   "cell_type": "code",
   "execution_count": 6,
   "metadata": {},
   "outputs": [
    {
     "name": "stdout",
     "output_type": "stream",
     "text": [
      "CPU times: user 4 ms, sys: 4 ms, total: 8 ms\n",
      "Wall time: 14.7 s\n"
     ]
    }
   ],
   "source": [
    "%%time\n",
    "# Read NYPD Complaint Data\n",
    "df_filtered = spark.read.parquet(\"s3n://2017edmfasatb/nypd_complaints/data/df_filtered.parquet\")\n",
    "df_filtered.cache()"
   ]
  },
  {
   "cell_type": "markdown",
   "metadata": {},
   "source": [
    "Let's see what our memory looks like now:\n",
    "\n",
    "#### Master\n",
    "<img src=\"https://s3.ca-central-1.amazonaws.com/2017edmfasatb/nypd_complaints/images/45_emr_ganglia_master_2.png\" width=\"600\">\n",
    "\n",
    "#### Workers\n",
    "<img src=\"https://s3.ca-central-1.amazonaws.com/2017edmfasatb/nypd_complaints/images/46_emr_ganglia_worker1_2.png\" width=\"600\">\n",
    "\n",
    "<img src=\"https://s3.ca-central-1.amazonaws.com/2017edmfasatb/nypd_complaints/images/47_emr_ganglia_worker2_2.png\" width=\"600\">\n",
    "\n",
    "Easily the first thing I'm noticing: _**My driver is pretty much out of RAM already... I have like 1G left**_.\n",
    "\n",
    "Second thing I'm noticing: My driver has been like that _**for a while now**_. I guess my installing and loading packages took up more memory than I thought it would... goddamn. It added about _**1G**_ to the load of the system's RAM.\n",
    "\n",
    "Third thing I'm noticing: My driver memory is _**slowly increasing as time goes on**_. I'm wondering if this is because of the notebook I'm writing in, but maybe I'll put this to the side for now and figure out the large spikes first.\n",
    "\n",
    "Fourth (and last) thing: The executors seem to be doing okay, they experience a small spike, but not as much as the driver. This could make sense to me because, here, I'm even installing regular python (not pyspark) packages which would only affect the driver anyways. Creating something like a SparkSession would probably cause the driver more strain than the executor as well.\n",
    "\n",
    "Fifth (ok, I lied, THIS is the last) thing: The loading and caching of the data set to memory really didn't take much of a toll. Perhaps it's the parquet storage.\n",
    "\n",
    "At this point, I can already see how my Spark application ran out of memory... Let's continue to see what happens. The next thing we did in the last notebook was kick off K-Means."
   ]
  },
  {
   "cell_type": "code",
   "execution_count": 8,
   "metadata": {},
   "outputs": [],
   "source": [
    "from pyspark.ml.clustering import KMeans\n",
    "from pyspark.ml.feature import VectorAssembler\n",
    "\n",
    "# Set seed for ability to reproduce results, 20 clusters\n",
    "kmeans = KMeans(k = 20, seed = 1)\n",
    "\n",
    "# Initiate and transform columns into vector\n",
    "vecAssembler = VectorAssembler(inputCols = ['LAT', 'LON'], outputCol = \"features\")\n",
    "k_means_input = vecAssembler.transform(df_filtered)"
   ]
  },
  {
   "cell_type": "code",
   "execution_count": 9,
   "metadata": {},
   "outputs": [
    {
     "name": "stdout",
     "output_type": "stream",
     "text": [
      "CPU times: user 32 ms, sys: 4 ms, total: 36 ms\n",
      "Wall time: 2min 26s\n"
     ]
    }
   ],
   "source": [
    "%%time\n",
    "# Refit model\n",
    "model = kmeans.fit(k_means_input[['features']])"
   ]
  },
  {
   "cell_type": "code",
   "execution_count": 10,
   "metadata": {},
   "outputs": [
    {
     "name": "stdout",
     "output_type": "stream",
     "text": [
      "[Row(features=DenseVector([40.8288, -73.9167]), prediction=0), Row(features=DenseVector([40.6973, -73.7846]), prediction=10), Row(features=DenseVector([40.8026, -73.9451]), prediction=19), Row(features=DenseVector([40.6545, -73.7263]), prediction=10), Row(features=DenseVector([40.738, -73.9879]), prediction=6)]\n",
      "CPU times: user 8 ms, sys: 4 ms, total: 12 ms\n",
      "Wall time: 548 ms\n"
     ]
    }
   ],
   "source": [
    "%%time\n",
    "# Use model to assign the samples a cluster to belong to\n",
    "prediction = model.transform(k_means_input[['features']])\n",
    "print(prediction.head(5))"
   ]
  },
  {
   "cell_type": "markdown",
   "metadata": {},
   "source": [
    "Let's pause here and take another look.\n",
    "\n",
    "#### Master\n",
    "<img src=\"https://s3.ca-central-1.amazonaws.com/2017edmfasatb/nypd_complaints/images/48_emr_ganglia_master_3.png\" width=\"600\">\n",
    "\n",
    "#### Workers\n",
    "<img src=\"https://s3.ca-central-1.amazonaws.com/2017edmfasatb/nypd_complaints/images/49_emr_ganglia_worker1_3.png\" width=\"600\">\n",
    "\n",
    "<img src=\"https://s3.ca-central-1.amazonaws.com/2017edmfasatb/nypd_complaints/images/50_emr_ganglia_worker2_3.png\" width=\"600\">\n",
    "\n",
    "Observation 1: Master is still doing ok.\n",
    "\n",
    "Observation 2: Executors are being hit here by these commands.\n",
    "\n",
    "Observation 3: One executor is being hit more than the other.\n",
    "\n",
    "Summary: I'm now at <800M free for my driver, and ~2-2.5G free for my executors.\n",
    "\n",
    "Let's run the next command... We end up performing a _**join**_, and there is where my application crashed the first time."
   ]
  },
  {
   "cell_type": "code",
   "execution_count": 11,
   "metadata": {},
   "outputs": [
    {
     "data": {
      "text/plain": [
       "DataFrame[features: vector, prediction: int]"
      ]
     },
     "execution_count": 11,
     "metadata": {},
     "output_type": "execute_result"
    }
   ],
   "source": [
    "from pyspark.sql import functions as F\n",
    "\n",
    "# Since there are no common column between these two dataframes add row_index so that it can be joined\n",
    "df_filtered_indexed = df_filtered.withColumn('row_index', F.monotonically_increasing_id())\n",
    "df_filtered.unpersist()\n",
    "\n",
    "prediction_indexed = prediction.withColumn('row_index', F.monotonically_increasing_id())\n",
    "prediction.unpersist()"
   ]
  },
  {
   "cell_type": "code",
   "execution_count": 12,
   "metadata": {},
   "outputs": [
    {
     "data": {
      "text/plain": [
       "DataFrame[features: vector, prediction: int, row_index: bigint]"
      ]
     },
     "execution_count": 12,
     "metadata": {},
     "output_type": "execute_result"
    }
   ],
   "source": [
    "# Perform join on our generated ID row_index\n",
    "df_predicted = df_filtered_indexed.join(prediction_indexed, on = ['row_index'], how = 'left').drop('row_index')\n",
    "df_filtered_indexed.unpersist()\n",
    "prediction_indexed.unpersist()"
   ]
  },
  {
   "cell_type": "code",
   "execution_count": 13,
   "metadata": {},
   "outputs": [
    {
     "data": {
      "text/plain": [
       "[Row(COMPLAINT_NUMBER=101109527, COMPLAINT_START_TIMESTAMP=datetime.datetime(2015, 12, 31, 23, 45), COMPLAINT_END_TIMESTAMP=datetime.datetime(2015, 12, 31, 23, 45), REPORTED_DATE_TIMESTAMP=datetime.datetime(2015, 12, 31, 0, 0), COMPLAINT_START_TIMESTAMP_YEAR='2015', COMPLAINT_START_TIMESTAMP_MONTH='12', COMPLAINT_START_TIMESTAMP_DAY='31', COMPLAINT_START_TIMESTAMP_WEEKDAY='Thu', COMPLAINT_START_TIMESTAMP_HOUR='23', COMPLAINT_END_TIMESTAMP_YEAR='2015', COMPLAINT_END_TIMESTAMP_MONTH='12', COMPLAINT_END_TIMESTAMP_DAY='31', COMPLAINT_END_TIMESTAMP_WEEKDAY='Thu', COMPLAINT_END_TIMESTAMP_HOUR='23', REPORTED_DATE_TIMESTAMP_YEAR='2015', REPORTED_DATE_TIMESTAMP_MONTH='12', REPORTED_DATE_TIMESTAMP_DAY='31', REPORTED_DATE_TIMESTAMP_WEEKDAY='Thu', COMPLAINT_LENGTH=0.0, COMPLAINT_LENGTH_ZERO_TIME=True, COMPLAINT_START_REPORTED_LAG=0.0, COMPLAINT_END_REPORTED_LAG=0.0, OFFENSE_DESCRIPTION='OTHER', OFFENSE_RESULT='COMPLETED', OFFENSE_LEVEL='FELONY', JURISDICTION='N.Y. POLICE DEPT', BOROUGH='BRONX', PRECINCT=44, SPECIFIC_LOCATION='INSIDE', PREMISE_DESCRIPTION='BAR/NIGHT CLUB', LAT=40.828848333, LON=-73.916661142, COMPLAINT_LENGTH_DAYS=0.0, COMPLAINT_LENGTH_UNDER_ONE_YEAR=True, features=DenseVector([40.8288, -73.9167]), prediction=0),\n",
       " Row(COMPLAINT_NUMBER=153401121, COMPLAINT_START_TIMESTAMP=datetime.datetime(2015, 12, 31, 23, 36), COMPLAINT_END_TIMESTAMP=datetime.datetime(2015, 12, 31, 23, 36), REPORTED_DATE_TIMESTAMP=datetime.datetime(2015, 12, 31, 0, 0), COMPLAINT_START_TIMESTAMP_YEAR='2015', COMPLAINT_START_TIMESTAMP_MONTH='12', COMPLAINT_START_TIMESTAMP_DAY='31', COMPLAINT_START_TIMESTAMP_WEEKDAY='Thu', COMPLAINT_START_TIMESTAMP_HOUR='23', COMPLAINT_END_TIMESTAMP_YEAR='2015', COMPLAINT_END_TIMESTAMP_MONTH='12', COMPLAINT_END_TIMESTAMP_DAY='31', COMPLAINT_END_TIMESTAMP_WEEKDAY='Thu', COMPLAINT_END_TIMESTAMP_HOUR='23', REPORTED_DATE_TIMESTAMP_YEAR='2015', REPORTED_DATE_TIMESTAMP_MONTH='12', REPORTED_DATE_TIMESTAMP_DAY='31', REPORTED_DATE_TIMESTAMP_WEEKDAY='Thu', COMPLAINT_LENGTH=0.0, COMPLAINT_LENGTH_ZERO_TIME=True, COMPLAINT_START_REPORTED_LAG=0.0, COMPLAINT_END_REPORTED_LAG=0.0, OFFENSE_DESCRIPTION='OTHER', OFFENSE_RESULT='COMPLETED', OFFENSE_LEVEL='FELONY', JURISDICTION='N.Y. POLICE DEPT', BOROUGH='QUEENS', PRECINCT=103, SPECIFIC_LOCATION='OUTSIDE', PREMISE_DESCRIPTION='OTHER', LAT=40.697338138, LON=-73.784556739, COMPLAINT_LENGTH_DAYS=0.0, COMPLAINT_LENGTH_UNDER_ONE_YEAR=True, features=DenseVector([40.6973, -73.7846]), prediction=10)]"
      ]
     },
     "execution_count": 13,
     "metadata": {},
     "output_type": "execute_result"
    }
   ],
   "source": [
    "# Preview results\n",
    "df_predicted.head(2)"
   ]
  },
  {
   "cell_type": "markdown",
   "metadata": {},
   "source": [
    "Let's check again... shall we?\n",
    "\n",
    "#### Master\n",
    "<img src=\"https://s3.ca-central-1.amazonaws.com/2017edmfasatb/nypd_complaints/images/51_emr_ganglia_master_4.png\" width=\"600\">\n",
    "\n",
    "#### Workers\n",
    "<img src=\"https://s3.ca-central-1.amazonaws.com/2017edmfasatb/nypd_complaints/images/52_emr_ganglia_worker1_4.png\" width=\"600\">\n",
    "\n",
    "<img src=\"https://s3.ca-central-1.amazonaws.com/2017edmfasatb/nypd_complaints/images/53_emr_ganglia_worker2_4.png\" width=\"600\">\n",
    "\n",
    "It just gets more interesting with every new series of commands eh... oh man.\n",
    "\n",
    "Observation 1: My master now has less than 300M free memory for the node, and my Spark memory is actually _**eating into my cached memory**_. I'm actually over my 5.6G memory limit allocated to my driver. The join we did almost caused a 3G jump in driver memory being used.\n",
    "\n",
    "Observation 2: My executors have actually _**decreased**_ back to when I even performed the K-Means...\n",
    "\n",
    "Why is all this happening???? WHY DO YOU HAVE TO BE SO CONFUSING, SPARK?!?!?!?\n",
    "\n",
    "<img src=\"https://i.giphy.com/media/c453ypM8rqm1a/giphy.webp\" width=\"400\">\n",
    "\n",
    "Okay, calm down and think. It actually does make sense to some extent. In the last series of commands, I performed a join. When performing a join, the executors each take a bit of data and perform the join on their subsets of data. The results are passed back to the master to be \"reduced\" back together. Perhaps this is that spike of memory added to the driver there. This assumes that our driver is actually holding our entire joined dataframe in memory right now, which I can't confirm is true here... The second thing that comes to my head is that I actually _**unpersisted**_ my older dataframes, which clears them from memory - in this case, the _**worker**_ memories.\n",
    "\n",
    "This leads to be believe... if I cache my joined dataframe back into memory, would it clear the driver memory and push the dataframe back to the executors?"
   ]
  },
  {
   "cell_type": "code",
   "execution_count": null,
   "metadata": {
    "collapsed": true
   },
   "outputs": [],
   "source": [
    "df_predicted.cache()"
   ]
  },
  {
   "cell_type": "markdown",
   "metadata": {},
   "source": [
    "I'll spare you the 200 lines of error message - it crashed. Maybe the first thing I need to do is up my driver memory here. Again, a little mindblowing that I'm needing a 16GB RAM driver node with 8GB + 8GB worker nodes to analyze, again, a _**1.3GB RAW CSV FILE**_... but let's try it in the next post."
   ]
  }
 ],
 "metadata": {
  "kernelspec": {
   "display_name": "Python 2",
   "language": "python",
   "name": "python2"
  },
  "language_info": {
   "codemirror_mode": {
    "name": "ipython",
    "version": 3
   },
   "file_extension": ".py",
   "mimetype": "text/x-python",
   "name": "python",
   "nbconvert_exporter": "python",
   "pygments_lexer": "ipython3",
   "version": "3.4.3"
  }
 },
 "nbformat": 4,
 "nbformat_minor": 2
}
