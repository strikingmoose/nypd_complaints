{
 "cells": [
  {
   "cell_type": "markdown",
   "metadata": {},
   "source": [
    "# Clustering To Explore Neighbourhoods (Part IV - Continued Because Spark Hates Me)\n",
    "## Review\n",
    "I ran into a major dead end in the last post. The problem? Data pre-processing... You don't often think that data processing would be the activity that prevents you from moving forward eh? As a novice data scientist, you're so infatuated with the high level objective, the meat of the analysis, the sexy chart or graph or insight that you're trying to find... Luckily I've had enough experience cleaning data in my previous jobs to know how important of a step it really is, and this is a great example of that. This dead end is literally making me pivot and change directions...\n",
    "\n",
    "The last post, however, wasn't a complete wash despite the tragic ending. It allowed me to go deeper into Spark's memory mangement. I took a _**very**_ close look at the memory usage of each node (1 master + 2 workers) as my notebook ran, and I was able to understand a bit better the intricacies of the master memory usage vs worker memory usage. The fact that I was even able to get to the one hot encoding step was a product of this memory monitoring. I'm sure this will help us going forward with my new method as well.\n",
    "\n",
    "This project just seems to be sprawling in different directions and losing scope with every notebook, but I guess this is what data science looks like haha.\n",
    "\n",
    "<img src=\"https://i.imgur.com/RFSgkaw.gif\" width=\"400\">\n",
    "\n",
    "Let's get our dataframe back to the way it was before one hot encoding, and try another method."
   ]
  },
  {
   "cell_type": "code",
   "execution_count": 1,
   "metadata": {},
   "outputs": [
    {
     "data": {
      "text/plain": [
       "0"
      ]
     },
     "execution_count": 1,
     "metadata": {},
     "output_type": "execute_result"
    }
   ],
   "source": [
    "import os\n",
    "os.system(\"sudo pip install findspark sql_magic pyspark_dist_explore seaborn\")"
   ]
  },
  {
   "cell_type": "code",
   "execution_count": 2,
   "metadata": {},
   "outputs": [
    {
     "data": {
      "application/javascript": [
       "\n",
       "    require(['notebook/js/codecell'], function(codecell) {\n",
       "      // https://github.com/jupyter/notebook/issues/2453\n",
       "      codecell.CodeCell.options_default.highlight_modes['magic_text/x-sql'] = {'reg':[/^%read_sql/, /.*=\\s*%read_sql/,\n",
       "                                                                                      /^%%read_sql/]};\n",
       "      Jupyter.notebook.events.one('kernel_ready.Kernel', function(){\n",
       "          console.log('BBBBB');\n",
       "          Jupyter.notebook.get_cells().map(function(cell){\n",
       "              if (cell.cell_type == 'code'){ cell.auto_highlight(); } }) ;\n",
       "      });\n",
       "    });\n",
       "    "
      ]
     },
     "metadata": {},
     "output_type": "display_data"
    }
   ],
   "source": [
    "# Use findspark package to connect Jupyter to Spark shell\n",
    "import findspark\n",
    "findspark.init('/usr/lib/spark')\n",
    "\n",
    "# Load SparkSession object\n",
    "import pyspark\n",
    "from pyspark.sql import SparkSession\n",
    "\n",
    "# Initiate SparkSession as \"spark\"\n",
    "spark = SparkSession\\\n",
    "    .builder\\\n",
    "    .getOrCreate()\n",
    "\n",
    "# Load sql_magic and connect to Spark\n",
    "%load_ext sql_magic\n",
    "%config SQL.conn_name = 'spark'\n",
    "\n",
    "# Load other libraries\n",
    "from datetime import datetime\n",
    "from pyspark.sql import functions as F\n",
    "from pyspark.sql.types import DateType\n",
    "from functools import reduce\n",
    "import pandas as pd\n",
    "import numpy as np\n",
    "import seaborn as sns\n",
    "\n",
    "# Graphing with matplotlib\n",
    "import matplotlib.pyplot as plt\n",
    "plt.style.use('ggplot')\n",
    "%matplotlib inline"
   ]
  },
  {
   "cell_type": "markdown",
   "metadata": {},
   "source": [
    "## Load Data"
   ]
  },
  {
   "cell_type": "code",
   "execution_count": 3,
   "metadata": {},
   "outputs": [
    {
     "name": "stdout",
     "output_type": "stream",
     "text": [
      "CPU times: user 4 ms, sys: 0 ns, total: 4 ms\n",
      "Wall time: 8.01 s\n"
     ]
    }
   ],
   "source": [
    "%%time\n",
    "# Read NYPD Complaint Data\n",
    "df_filtered = spark.read.parquet(\"s3n://2017edmfasatb/nypd_complaints/data/df_filtered.parquet\")\n",
    "df_filtered.cache()"
   ]
  },
  {
   "cell_type": "markdown",
   "metadata": {},
   "source": [
    "## K-Means"
   ]
  },
  {
   "cell_type": "code",
   "execution_count": 4,
   "metadata": {
    "collapsed": true
   },
   "outputs": [],
   "source": [
    "from pyspark.ml.clustering import KMeans\n",
    "from pyspark.ml.feature import VectorAssembler\n",
    "\n",
    "# Set seed for ability to reproduce results, 20 clusters\n",
    "kmeans = KMeans(k = 20, seed = 1)\n",
    "\n",
    "# Initiate and transform columns into vector\n",
    "vecAssembler = VectorAssembler(inputCols = ['LAT', 'LON'], outputCol = \"features\")\n",
    "k_means_input = vecAssembler.transform(df_filtered)"
   ]
  },
  {
   "cell_type": "code",
   "execution_count": 5,
   "metadata": {},
   "outputs": [
    {
     "name": "stdout",
     "output_type": "stream",
     "text": [
      "CPU times: user 32 ms, sys: 0 ns, total: 32 ms\n",
      "Wall time: 2min 38s\n"
     ]
    }
   ],
   "source": [
    "%%time\n",
    "# Refit model\n",
    "model = kmeans.fit(k_means_input[['features']])"
   ]
  },
  {
   "cell_type": "code",
   "execution_count": 6,
   "metadata": {},
   "outputs": [
    {
     "name": "stdout",
     "output_type": "stream",
     "text": [
      "[Row(features=DenseVector([40.8288, -73.9167]), prediction=0), Row(features=DenseVector([40.6973, -73.7846]), prediction=10), Row(features=DenseVector([40.8026, -73.9451]), prediction=19), Row(features=DenseVector([40.6545, -73.7263]), prediction=10), Row(features=DenseVector([40.738, -73.9879]), prediction=6)]\n",
      "CPU times: user 8 ms, sys: 0 ns, total: 8 ms\n",
      "Wall time: 314 ms\n"
     ]
    }
   ],
   "source": [
    "%%time\n",
    "# Use model to assign the samples a cluster to belong to\n",
    "prediction = model.transform(k_means_input[['features']])\n",
    "print(prediction.head(5))"
   ]
  },
  {
   "cell_type": "markdown",
   "metadata": {},
   "source": [
    "### Join K-Means Clusters Into Original Dataframe"
   ]
  },
  {
   "cell_type": "code",
   "execution_count": 7,
   "metadata": {},
   "outputs": [
    {
     "data": {
      "text/plain": [
       "DataFrame[features: vector, prediction: int]"
      ]
     },
     "execution_count": 7,
     "metadata": {},
     "output_type": "execute_result"
    }
   ],
   "source": [
    "# Since there are no common column between these two dataframes add row_index so that it can be joined\n",
    "df_filtered_indexed = df_filtered.withColumn('row_index', F.monotonically_increasing_id())\n",
    "df_filtered.unpersist()\n",
    "\n",
    "prediction_indexed = prediction.withColumn('row_index', F.monotonically_increasing_id())\n",
    "prediction.unpersist()"
   ]
  },
  {
   "cell_type": "code",
   "execution_count": 8,
   "metadata": {},
   "outputs": [
    {
     "data": {
      "text/plain": [
       "DataFrame[features: vector, prediction: int, row_index: bigint]"
      ]
     },
     "execution_count": 8,
     "metadata": {},
     "output_type": "execute_result"
    }
   ],
   "source": [
    "# Perform join on our generated ID row_index\n",
    "df_predicted = df_filtered_indexed.join(prediction_indexed, on = ['row_index'], how = 'left').drop('row_index')\n",
    "df_filtered_indexed.unpersist()\n",
    "prediction_indexed.unpersist()"
   ]
  },
  {
   "cell_type": "markdown",
   "metadata": {},
   "source": [
    "### Viewing Clusters"
   ]
  },
  {
   "cell_type": "code",
   "execution_count": 9,
   "metadata": {
    "collapsed": true
   },
   "outputs": [],
   "source": [
    "# Add table to SQL Context\n",
    "df_predicted.createOrReplaceTempView(\"df_predicted\")"
   ]
  },
  {
   "cell_type": "code",
   "execution_count": 10,
   "metadata": {},
   "outputs": [
    {
     "name": "stdout",
     "output_type": "stream",
     "text": [
      "Query started at 03:53:10 AM UTC; Query executed in 0.41 m"
     ]
    }
   ],
   "source": [
    "cluster_stats_result = %read_sql \\\n",
    "SELECT \\\n",
    "    prediction, \\\n",
    "    COUNT(*) AS NUM_SAMPLES, \\\n",
    "    AVG(LAT) AS LAT_CENTRE, \\\n",
    "    AVG(LON) AS LON_CENTRE \\\n",
    "FROM df_predicted \\\n",
    "GROUP BY \\\n",
    "    prediction"
   ]
  },
  {
   "cell_type": "code",
   "execution_count": 11,
   "metadata": {},
   "outputs": [
    {
     "data": {
      "image/png": "[encoded data removed]",
      "text/plain": [
       "<matplotlib.figure.Figure at 0x7f309752e2b0>"
      ]
     },
     "metadata": {},
     "output_type": "display_data"
    }
   ],
   "source": [
    "# See cluster centres\n",
    "fig, ax = plt.subplots()\n",
    "sns.regplot(\n",
    "    x = \"LON_CENTRE\", \n",
    "    y = \"LAT_CENTRE\", \n",
    "    data = cluster_stats_result, \n",
    "    fit_reg = False, \n",
    "    scatter_kws = {'s': cluster_stats_result['NUM_SAMPLES'] / cluster_stats_result['NUM_SAMPLES'].max() * 150},\n",
    "    ax = ax\n",
    ")\n",
    "cluster_stats_result[['LON_CENTRE','LAT_CENTRE','prediction']].apply(lambda x: ax.text(*x), axis=1);"
   ]
  },
  {
   "cell_type": "markdown",
   "metadata": {},
   "source": [
    "## Alternate Cluster Summary Processing\n",
    "Alright. Let's review our task again. Remember, we're trying to get a dataframe that looks like this:"
   ]
  },
  {
   "cell_type": "code",
   "execution_count": 12,
   "metadata": {},
   "outputs": [
    {
     "data": {
      "text/html": [
       "<div>\n",
       "<style>\n",
       "    .dataframe thead tr:only-child th {\n",
       "        text-align: right;\n",
       "    }\n",
       "\n",
       "    .dataframe thead th {\n",
       "        text-align: left;\n",
       "    }\n",
       "\n",
       "    .dataframe tbody tr th {\n",
       "        vertical-align: top;\n",
       "    }\n",
       "</style>\n",
       "<table border=\"1\" class=\"dataframe\">\n",
       "  <thead>\n",
       "    <tr style=\"text-align: right;\">\n",
       "      <th></th>\n",
       "      <th>CLUSTER</th>\n",
       "      <th>COMPLAINT_NUMBER</th>\n",
       "      <th>OFFENSE_LEVEL</th>\n",
       "    </tr>\n",
       "  </thead>\n",
       "  <tbody>\n",
       "    <tr>\n",
       "      <th>0</th>\n",
       "      <td>1</td>\n",
       "      <td>1</td>\n",
       "      <td>VIOLATION</td>\n",
       "    </tr>\n",
       "    <tr>\n",
       "      <th>1</th>\n",
       "      <td>1</td>\n",
       "      <td>2</td>\n",
       "      <td>VIOLATION</td>\n",
       "    </tr>\n",
       "    <tr>\n",
       "      <th>2</th>\n",
       "      <td>2</td>\n",
       "      <td>3</td>\n",
       "      <td>MISDEMEANOR</td>\n",
       "    </tr>\n",
       "    <tr>\n",
       "      <th>3</th>\n",
       "      <td>2</td>\n",
       "      <td>4</td>\n",
       "      <td>FELONY</td>\n",
       "    </tr>\n",
       "    <tr>\n",
       "      <th>4</th>\n",
       "      <td>2</td>\n",
       "      <td>5</td>\n",
       "      <td>FELONY</td>\n",
       "    </tr>\n",
       "  </tbody>\n",
       "</table>\n",
       "</div>"
      ],
      "text/plain": [
       "   CLUSTER  COMPLAINT_NUMBER OFFENSE_LEVEL\n",
       "0        1                 1     VIOLATION\n",
       "1        1                 2     VIOLATION\n",
       "2        2                 3   MISDEMEANOR\n",
       "3        2                 4        FELONY\n",
       "4        2                 5        FELONY"
      ]
     },
     "execution_count": 12,
     "metadata": {},
     "output_type": "execute_result"
    }
   ],
   "source": [
    "pd.DataFrame({\n",
    "    'COMPLAINT_NUMBER': [1, 2, 3, 4, 5],\n",
    "    'CLUSTER': [1, 1, 2, 2, 2],\n",
    "    'OFFENSE_LEVEL': ['VIOLATION', 'VIOLATION', 'MISDEMEANOR', 'FELONY', 'FELONY']\n",
    "})"
   ]
  },
  {
   "cell_type": "markdown",
   "metadata": {},
   "source": [
    "Into a dataframe like this:"
   ]
  },
  {
   "cell_type": "code",
   "execution_count": 13,
   "metadata": {},
   "outputs": [
    {
     "data": {
      "text/html": [
       "<div>\n",
       "<style>\n",
       "    .dataframe thead tr:only-child th {\n",
       "        text-align: right;\n",
       "    }\n",
       "\n",
       "    .dataframe thead th {\n",
       "        text-align: left;\n",
       "    }\n",
       "\n",
       "    .dataframe tbody tr th {\n",
       "        vertical-align: top;\n",
       "    }\n",
       "</style>\n",
       "<table border=\"1\" class=\"dataframe\">\n",
       "  <thead>\n",
       "    <tr style=\"text-align: right;\">\n",
       "      <th></th>\n",
       "      <th>CLUSTER</th>\n",
       "      <th>COMPLAINT_NUMBER</th>\n",
       "      <th>OFFENSE_LEVEL_FELONY</th>\n",
       "      <th>OFFENSE_LEVEL_MISDEMEANOR</th>\n",
       "      <th>OFFENSE_LEVEL_VIOLATION</th>\n",
       "    </tr>\n",
       "  </thead>\n",
       "  <tbody>\n",
       "    <tr>\n",
       "      <th>0</th>\n",
       "      <td>1</td>\n",
       "      <td>1</td>\n",
       "      <td>0</td>\n",
       "      <td>0</td>\n",
       "      <td>1</td>\n",
       "    </tr>\n",
       "    <tr>\n",
       "      <th>1</th>\n",
       "      <td>1</td>\n",
       "      <td>2</td>\n",
       "      <td>0</td>\n",
       "      <td>0</td>\n",
       "      <td>1</td>\n",
       "    </tr>\n",
       "    <tr>\n",
       "      <th>2</th>\n",
       "      <td>2</td>\n",
       "      <td>3</td>\n",
       "      <td>0</td>\n",
       "      <td>1</td>\n",
       "      <td>0</td>\n",
       "    </tr>\n",
       "    <tr>\n",
       "      <th>3</th>\n",
       "      <td>2</td>\n",
       "      <td>4</td>\n",
       "      <td>1</td>\n",
       "      <td>0</td>\n",
       "      <td>0</td>\n",
       "    </tr>\n",
       "    <tr>\n",
       "      <th>4</th>\n",
       "      <td>2</td>\n",
       "      <td>5</td>\n",
       "      <td>1</td>\n",
       "      <td>0</td>\n",
       "      <td>0</td>\n",
       "    </tr>\n",
       "  </tbody>\n",
       "</table>\n",
       "</div>"
      ],
      "text/plain": [
       "   CLUSTER  COMPLAINT_NUMBER  OFFENSE_LEVEL_FELONY  OFFENSE_LEVEL_MISDEMEANOR  \\\n",
       "0        1                 1                     0                          0   \n",
       "1        1                 2                     0                          0   \n",
       "2        2                 3                     0                          1   \n",
       "3        2                 4                     1                          0   \n",
       "4        2                 5                     1                          0   \n",
       "\n",
       "   OFFENSE_LEVEL_VIOLATION  \n",
       "0                        1  \n",
       "1                        1  \n",
       "2                        0  \n",
       "3                        0  \n",
       "4                        0  "
      ]
     },
     "execution_count": 13,
     "metadata": {},
     "output_type": "execute_result"
    }
   ],
   "source": [
    "pd.DataFrame({\n",
    "    'COMPLAINT_NUMBER': [1, 2, 3, 4, 5],\n",
    "    'CLUSTER': [1, 1, 2, 2, 2],\n",
    "    'OFFENSE_LEVEL_VIOLATION': [1, 1, 0, 0, 0],\n",
    "    'OFFENSE_LEVEL_MISDEMEANOR': [0, 0, 1, 0, 0],\n",
    "    'OFFENSE_LEVEL_FELONY': [0, 0, 0, 1, 1]\n",
    "})"
   ]
  },
  {
   "cell_type": "markdown",
   "metadata": {},
   "source": [
    "Would have loved to resort to a cleaner option, but the only thing I can think of right now is to hardcode the mappings between the values and the encoded volumns within SQL itself. It's going to be messy, but at least I'm confident it will work (well, I guess I shouldn't speak so soon...)."
   ]
  },
  {
   "cell_type": "code",
   "execution_count": 17,
   "metadata": {},
   "outputs": [
    {
     "name": "stdout",
     "output_type": "stream",
     "text": [
      "Query started at 04:04:13 AM UTC; Query executed in 0.43 m"
     ]
    },
    {
     "data": {
      "text/html": [
       "<div>\n",
       "<style>\n",
       "    .dataframe thead tr:only-child th {\n",
       "        text-align: right;\n",
       "    }\n",
       "\n",
       "    .dataframe thead th {\n",
       "        text-align: left;\n",
       "    }\n",
       "\n",
       "    .dataframe tbody tr th {\n",
       "        vertical-align: top;\n",
       "    }\n",
       "</style>\n",
       "<table border=\"1\" class=\"dataframe\">\n",
       "  <thead>\n",
       "    <tr style=\"text-align: right;\">\n",
       "      <th></th>\n",
       "      <th>OFFENSE_LEVEL</th>\n",
       "      <th>OFFENSE_LEVEL_MISDEMEANOR</th>\n",
       "      <th>OFFENSE_LEVEL_VIOLATION</th>\n",
       "      <th>OFFENSE_LEVEL_FELONY</th>\n",
       "    </tr>\n",
       "  </thead>\n",
       "  <tbody>\n",
       "    <tr>\n",
       "      <th>0</th>\n",
       "      <td>FELONY</td>\n",
       "      <td>0</td>\n",
       "      <td>0</td>\n",
       "      <td>1</td>\n",
       "    </tr>\n",
       "    <tr>\n",
       "      <th>1</th>\n",
       "      <td>FELONY</td>\n",
       "      <td>0</td>\n",
       "      <td>0</td>\n",
       "      <td>1</td>\n",
       "    </tr>\n",
       "    <tr>\n",
       "      <th>2</th>\n",
       "      <td>FELONY</td>\n",
       "      <td>0</td>\n",
       "      <td>0</td>\n",
       "      <td>1</td>\n",
       "    </tr>\n",
       "    <tr>\n",
       "      <th>3</th>\n",
       "      <td>MISDEMEANOR</td>\n",
       "      <td>1</td>\n",
       "      <td>0</td>\n",
       "      <td>0</td>\n",
       "    </tr>\n",
       "    <tr>\n",
       "      <th>4</th>\n",
       "      <td>MISDEMEANOR</td>\n",
       "      <td>1</td>\n",
       "      <td>0</td>\n",
       "      <td>0</td>\n",
       "    </tr>\n",
       "    <tr>\n",
       "      <th>5</th>\n",
       "      <td>FELONY</td>\n",
       "      <td>0</td>\n",
       "      <td>0</td>\n",
       "      <td>1</td>\n",
       "    </tr>\n",
       "    <tr>\n",
       "      <th>6</th>\n",
       "      <td>MISDEMEANOR</td>\n",
       "      <td>1</td>\n",
       "      <td>0</td>\n",
       "      <td>0</td>\n",
       "    </tr>\n",
       "    <tr>\n",
       "      <th>7</th>\n",
       "      <td>FELONY</td>\n",
       "      <td>0</td>\n",
       "      <td>0</td>\n",
       "      <td>1</td>\n",
       "    </tr>\n",
       "    <tr>\n",
       "      <th>8</th>\n",
       "      <td>MISDEMEANOR</td>\n",
       "      <td>1</td>\n",
       "      <td>0</td>\n",
       "      <td>0</td>\n",
       "    </tr>\n",
       "    <tr>\n",
       "      <th>9</th>\n",
       "      <td>MISDEMEANOR</td>\n",
       "      <td>1</td>\n",
       "      <td>0</td>\n",
       "      <td>0</td>\n",
       "    </tr>\n",
       "  </tbody>\n",
       "</table>\n",
       "</div>"
      ],
      "text/plain": [
       "  OFFENSE_LEVEL  OFFENSE_LEVEL_MISDEMEANOR  OFFENSE_LEVEL_VIOLATION  \\\n",
       "0        FELONY                          0                        0   \n",
       "1        FELONY                          0                        0   \n",
       "2        FELONY                          0                        0   \n",
       "3   MISDEMEANOR                          1                        0   \n",
       "4   MISDEMEANOR                          1                        0   \n",
       "5        FELONY                          0                        0   \n",
       "6   MISDEMEANOR                          1                        0   \n",
       "7        FELONY                          0                        0   \n",
       "8   MISDEMEANOR                          1                        0   \n",
       "9   MISDEMEANOR                          1                        0   \n",
       "\n",
       "   OFFENSE_LEVEL_FELONY  \n",
       "0                     1  \n",
       "1                     1  \n",
       "2                     1  \n",
       "3                     0  \n",
       "4                     0  \n",
       "5                     1  \n",
       "6                     0  \n",
       "7                     1  \n",
       "8                     0  \n",
       "9                     0  "
      ]
     },
     "execution_count": 17,
     "metadata": {},
     "output_type": "execute_result"
    }
   ],
   "source": [
    "%read_sql SELECT \\\n",
    "    OFFENSE_LEVEL, \\\n",
    "    CASE \\\n",
    "        WHEN (OFFENSE_LEVEL = 'MISDEMEANOR') THEN 1 \\\n",
    "        ELSE 0 \\\n",
    "    END AS OFFENSE_LEVEL_MISDEMEANOR, \\\n",
    "    CASE \\\n",
    "        WHEN (OFFENSE_LEVEL = 'VIOLATION') THEN 1 \\\n",
    "        ELSE 0 \\\n",
    "    END AS OFFENSE_LEVEL_VIOLATION, \\\n",
    "    CASE \\\n",
    "        WHEN (OFFENSE_LEVEL = 'FELONY') THEN 1 \\\n",
    "        ELSE 0 \\\n",
    "    END AS OFFENSE_LEVEL_FELONY \\\n",
    "FROM df_predicted \\\n",
    "LIMIT 10"
   ]
  },
  {
   "cell_type": "markdown",
   "metadata": {},
   "source": [
    "That works. The code is going to look _**absolutely horrible**_ when I add in OFFENSE\\_DESCRIPTION and PREMISE\\_DESCRIPTION as well. Hooray."
   ]
  },
  {
   "cell_type": "code",
   "execution_count": 22,
   "metadata": {},
   "outputs": [
    {
     "name": "stdout",
     "output_type": "stream",
     "text": [
      "Query started at 04:33:25 AM UTC; Query executed in 0.00 m"
     ]
    },
    {
     "data": {
      "text/html": [
       "<div>\n",
       "<style>\n",
       "    .dataframe thead tr:only-child th {\n",
       "        text-align: right;\n",
       "    }\n",
       "\n",
       "    .dataframe thead th {\n",
       "        text-align: left;\n",
       "    }\n",
       "\n",
       "    .dataframe tbody tr th {\n",
       "        vertical-align: top;\n",
       "    }\n",
       "</style>\n",
       "<table border=\"1\" class=\"dataframe\">\n",
       "  <thead>\n",
       "    <tr style=\"text-align: right;\">\n",
       "      <th></th>\n",
       "      <th>col_name</th>\n",
       "      <th>data_type</th>\n",
       "      <th>comment</th>\n",
       "    </tr>\n",
       "  </thead>\n",
       "  <tbody>\n",
       "    <tr>\n",
       "      <th>0</th>\n",
       "      <td>COMPLAINT_NUMBER</td>\n",
       "      <td>int</td>\n",
       "      <td>None</td>\n",
       "    </tr>\n",
       "    <tr>\n",
       "      <th>1</th>\n",
       "      <td>COMPLAINT_START_TIMESTAMP</td>\n",
       "      <td>timestamp</td>\n",
       "      <td>None</td>\n",
       "    </tr>\n",
       "    <tr>\n",
       "      <th>2</th>\n",
       "      <td>COMPLAINT_END_TIMESTAMP</td>\n",
       "      <td>timestamp</td>\n",
       "      <td>None</td>\n",
       "    </tr>\n",
       "    <tr>\n",
       "      <th>3</th>\n",
       "      <td>REPORTED_DATE_TIMESTAMP</td>\n",
       "      <td>timestamp</td>\n",
       "      <td>None</td>\n",
       "    </tr>\n",
       "    <tr>\n",
       "      <th>4</th>\n",
       "      <td>COMPLAINT_START_TIMESTAMP_YEAR</td>\n",
       "      <td>string</td>\n",
       "      <td>None</td>\n",
       "    </tr>\n",
       "    <tr>\n",
       "      <th>5</th>\n",
       "      <td>COMPLAINT_START_TIMESTAMP_MONTH</td>\n",
       "      <td>string</td>\n",
       "      <td>None</td>\n",
       "    </tr>\n",
       "    <tr>\n",
       "      <th>6</th>\n",
       "      <td>COMPLAINT_START_TIMESTAMP_DAY</td>\n",
       "      <td>string</td>\n",
       "      <td>None</td>\n",
       "    </tr>\n",
       "    <tr>\n",
       "      <th>7</th>\n",
       "      <td>COMPLAINT_START_TIMESTAMP_WEEKDAY</td>\n",
       "      <td>string</td>\n",
       "      <td>None</td>\n",
       "    </tr>\n",
       "    <tr>\n",
       "      <th>8</th>\n",
       "      <td>COMPLAINT_START_TIMESTAMP_HOUR</td>\n",
       "      <td>string</td>\n",
       "      <td>None</td>\n",
       "    </tr>\n",
       "    <tr>\n",
       "      <th>9</th>\n",
       "      <td>COMPLAINT_END_TIMESTAMP_YEAR</td>\n",
       "      <td>string</td>\n",
       "      <td>None</td>\n",
       "    </tr>\n",
       "    <tr>\n",
       "      <th>10</th>\n",
       "      <td>COMPLAINT_END_TIMESTAMP_MONTH</td>\n",
       "      <td>string</td>\n",
       "      <td>None</td>\n",
       "    </tr>\n",
       "    <tr>\n",
       "      <th>11</th>\n",
       "      <td>COMPLAINT_END_TIMESTAMP_DAY</td>\n",
       "      <td>string</td>\n",
       "      <td>None</td>\n",
       "    </tr>\n",
       "    <tr>\n",
       "      <th>12</th>\n",
       "      <td>COMPLAINT_END_TIMESTAMP_WEEKDAY</td>\n",
       "      <td>string</td>\n",
       "      <td>None</td>\n",
       "    </tr>\n",
       "    <tr>\n",
       "      <th>13</th>\n",
       "      <td>COMPLAINT_END_TIMESTAMP_HOUR</td>\n",
       "      <td>string</td>\n",
       "      <td>None</td>\n",
       "    </tr>\n",
       "    <tr>\n",
       "      <th>14</th>\n",
       "      <td>REPORTED_DATE_TIMESTAMP_YEAR</td>\n",
       "      <td>string</td>\n",
       "      <td>None</td>\n",
       "    </tr>\n",
       "    <tr>\n",
       "      <th>15</th>\n",
       "      <td>REPORTED_DATE_TIMESTAMP_MONTH</td>\n",
       "      <td>string</td>\n",
       "      <td>None</td>\n",
       "    </tr>\n",
       "    <tr>\n",
       "      <th>16</th>\n",
       "      <td>REPORTED_DATE_TIMESTAMP_DAY</td>\n",
       "      <td>string</td>\n",
       "      <td>None</td>\n",
       "    </tr>\n",
       "    <tr>\n",
       "      <th>17</th>\n",
       "      <td>REPORTED_DATE_TIMESTAMP_WEEKDAY</td>\n",
       "      <td>string</td>\n",
       "      <td>None</td>\n",
       "    </tr>\n",
       "    <tr>\n",
       "      <th>18</th>\n",
       "      <td>COMPLAINT_LENGTH</td>\n",
       "      <td>double</td>\n",
       "      <td>None</td>\n",
       "    </tr>\n",
       "    <tr>\n",
       "      <th>19</th>\n",
       "      <td>COMPLAINT_LENGTH_ZERO_TIME</td>\n",
       "      <td>boolean</td>\n",
       "      <td>None</td>\n",
       "    </tr>\n",
       "    <tr>\n",
       "      <th>20</th>\n",
       "      <td>COMPLAINT_START_REPORTED_LAG</td>\n",
       "      <td>double</td>\n",
       "      <td>None</td>\n",
       "    </tr>\n",
       "    <tr>\n",
       "      <th>21</th>\n",
       "      <td>COMPLAINT_END_REPORTED_LAG</td>\n",
       "      <td>double</td>\n",
       "      <td>None</td>\n",
       "    </tr>\n",
       "    <tr>\n",
       "      <th>22</th>\n",
       "      <td>OFFENSE_DESCRIPTION</td>\n",
       "      <td>string</td>\n",
       "      <td>None</td>\n",
       "    </tr>\n",
       "    <tr>\n",
       "      <th>23</th>\n",
       "      <td>OFFENSE_RESULT</td>\n",
       "      <td>string</td>\n",
       "      <td>None</td>\n",
       "    </tr>\n",
       "    <tr>\n",
       "      <th>24</th>\n",
       "      <td>OFFENSE_LEVEL</td>\n",
       "      <td>string</td>\n",
       "      <td>None</td>\n",
       "    </tr>\n",
       "    <tr>\n",
       "      <th>25</th>\n",
       "      <td>JURISDICTION</td>\n",
       "      <td>string</td>\n",
       "      <td>None</td>\n",
       "    </tr>\n",
       "    <tr>\n",
       "      <th>26</th>\n",
       "      <td>BOROUGH</td>\n",
       "      <td>string</td>\n",
       "      <td>None</td>\n",
       "    </tr>\n",
       "    <tr>\n",
       "      <th>27</th>\n",
       "      <td>PRECINCT</td>\n",
       "      <td>int</td>\n",
       "      <td>None</td>\n",
       "    </tr>\n",
       "    <tr>\n",
       "      <th>28</th>\n",
       "      <td>SPECIFIC_LOCATION</td>\n",
       "      <td>string</td>\n",
       "      <td>None</td>\n",
       "    </tr>\n",
       "    <tr>\n",
       "      <th>29</th>\n",
       "      <td>PREMISE_DESCRIPTION</td>\n",
       "      <td>string</td>\n",
       "      <td>None</td>\n",
       "    </tr>\n",
       "    <tr>\n",
       "      <th>30</th>\n",
       "      <td>LAT</td>\n",
       "      <td>double</td>\n",
       "      <td>None</td>\n",
       "    </tr>\n",
       "    <tr>\n",
       "      <th>31</th>\n",
       "      <td>LON</td>\n",
       "      <td>double</td>\n",
       "      <td>None</td>\n",
       "    </tr>\n",
       "    <tr>\n",
       "      <th>32</th>\n",
       "      <td>COMPLAINT_LENGTH_DAYS</td>\n",
       "      <td>double</td>\n",
       "      <td>None</td>\n",
       "    </tr>\n",
       "    <tr>\n",
       "      <th>33</th>\n",
       "      <td>COMPLAINT_LENGTH_UNDER_ONE_YEAR</td>\n",
       "      <td>boolean</td>\n",
       "      <td>None</td>\n",
       "    </tr>\n",
       "    <tr>\n",
       "      <th>34</th>\n",
       "      <td>features</td>\n",
       "      <td>vector</td>\n",
       "      <td>None</td>\n",
       "    </tr>\n",
       "    <tr>\n",
       "      <th>35</th>\n",
       "      <td>prediction</td>\n",
       "      <td>int</td>\n",
       "      <td>None</td>\n",
       "    </tr>\n",
       "  </tbody>\n",
       "</table>\n",
       "</div>"
      ],
      "text/plain": [
       "                             col_name  data_type comment\n",
       "0                    COMPLAINT_NUMBER        int    None\n",
       "1           COMPLAINT_START_TIMESTAMP  timestamp    None\n",
       "2             COMPLAINT_END_TIMESTAMP  timestamp    None\n",
       "3             REPORTED_DATE_TIMESTAMP  timestamp    None\n",
       "4      COMPLAINT_START_TIMESTAMP_YEAR     string    None\n",
       "5     COMPLAINT_START_TIMESTAMP_MONTH     string    None\n",
       "6       COMPLAINT_START_TIMESTAMP_DAY     string    None\n",
       "7   COMPLAINT_START_TIMESTAMP_WEEKDAY     string    None\n",
       "8      COMPLAINT_START_TIMESTAMP_HOUR     string    None\n",
       "9        COMPLAINT_END_TIMESTAMP_YEAR     string    None\n",
       "10      COMPLAINT_END_TIMESTAMP_MONTH     string    None\n",
       "11        COMPLAINT_END_TIMESTAMP_DAY     string    None\n",
       "12    COMPLAINT_END_TIMESTAMP_WEEKDAY     string    None\n",
       "13       COMPLAINT_END_TIMESTAMP_HOUR     string    None\n",
       "14       REPORTED_DATE_TIMESTAMP_YEAR     string    None\n",
       "15      REPORTED_DATE_TIMESTAMP_MONTH     string    None\n",
       "16        REPORTED_DATE_TIMESTAMP_DAY     string    None\n",
       "17    REPORTED_DATE_TIMESTAMP_WEEKDAY     string    None\n",
       "18                   COMPLAINT_LENGTH     double    None\n",
       "19         COMPLAINT_LENGTH_ZERO_TIME    boolean    None\n",
       "20       COMPLAINT_START_REPORTED_LAG     double    None\n",
       "21         COMPLAINT_END_REPORTED_LAG     double    None\n",
       "22                OFFENSE_DESCRIPTION     string    None\n",
       "23                     OFFENSE_RESULT     string    None\n",
       "24                      OFFENSE_LEVEL     string    None\n",
       "25                       JURISDICTION     string    None\n",
       "26                            BOROUGH     string    None\n",
       "27                           PRECINCT        int    None\n",
       "28                  SPECIFIC_LOCATION     string    None\n",
       "29                PREMISE_DESCRIPTION     string    None\n",
       "30                                LAT     double    None\n",
       "31                                LON     double    None\n",
       "32              COMPLAINT_LENGTH_DAYS     double    None\n",
       "33    COMPLAINT_LENGTH_UNDER_ONE_YEAR    boolean    None\n",
       "34                           features     vector    None\n",
       "35                         prediction        int    None"
      ]
     },
     "execution_count": 22,
     "metadata": {},
     "output_type": "execute_result"
    }
   ],
   "source": [
    "%read_sql DESCRIBE df_predicted"
   ]
  },
  {
   "cell_type": "code",
   "execution_count": 23,
   "metadata": {},
   "outputs": [
    {
     "ename": "SyntaxError",
     "evalue": "EOL while scanning string literal (<ipython-input-23-38a98a5adc52>, line 1)",
     "output_type": "error",
     "traceback": [
      "\u001b[0;36m  File \u001b[0;32m\"<ipython-input-23-38a98a5adc52>\"\u001b[0;36m, line \u001b[0;32m1\u001b[0m\n\u001b[0;31m    df_encoded = spark.sql(\"     SELECT         prediction as CLUSTER,         LAT,         LON, \\\u001b[0m\n\u001b[0m                                                                                                          ^\u001b[0m\n\u001b[0;31mSyntaxError\u001b[0m\u001b[0;31m:\u001b[0m EOL while scanning string literal\n"
     ]
    }
   ],
   "source": [
    "df_encoded = spark.sql(\" \\\n",
    "    SELECT \\\n",
    "        prediction as CLUSTER, \\\n",
    "        LAT, \\\n",
    "        LON, \\\n",
    "        OFFENSE_DESCRIPTION, \\\n",
    "        CASE \\\n",
    "            WHEN (OFFENSE_DESCRIPTION = 'PETIT LARCENY') THEN 1 \\\n",
    "            ELSE 0 \\\n",
    "        END AS OFFENSE_DESCRIPTION_PETIT_LARCENY, \\\n",
    "        CASE \\\n",
    "            WHEN (OFFENSE_DESCRIPTION = 'HARRASSMENT 2') THEN 1 \\\n",
    "            ELSE 0 \\\n",
    "        END AS OFFENSE_DESCRIPTION_HARRASSMENT, \\\n",
    "        CASE \\\n",
    "            WHEN (OFFENSE_DESCRIPTION = 'ASSAULT 3 & RELATED OFFENSES') THEN 1 \\\n",
    "            ELSE 0 \\\n",
    "        END AS OFFENSE_DESCRIPTION_ASSAULT_3, \\\n",
    "        CASE \\\n",
    "            WHEN (OFFENSE_DESCRIPTION = 'CRIMINAL MISCHIEF & RELATED OF') THEN 1 \\\n",
    "            ELSE 0 \\\n",
    "        END AS OFFENSE_DESCRIPTION_MISCHIEF, \\\n",
    "        CASE \\\n",
    "            WHEN (OFFENSE_DESCRIPTION = 'GRAND LARCENY') THEN 1 \\\n",
    "            ELSE 0 \\\n",
    "        END AS OFFENSE_DESCRIPTION_GRAND_LARCENY, \\\n",
    "        CASE \\\n",
    "            WHEN (OFFENSE_DESCRIPTION = 'DANGEROUS DRUGS') THEN 1 \\\n",
    "            ELSE 0 \\\n",
    "        END AS OFFENSE_DESCRIPTION_DANGEROUS_DRUGS, \\\n",
    "        CASE \\\n",
    "            WHEN (OFFENSE_DESCRIPTION = 'FELONY ASSAULT') THEN 1 \\\n",
    "            ELSE 0 \\\n",
    "        END AS OFFENSE_DESCRIPTION_FELONY_ASSAULT, \\\n",
    "        OFFENSE_LEVEL, \\\n",
    "        CASE \\\n",
    "            WHEN (OFFENSE_LEVEL = 'MISDEMEANOR') THEN 1 \\\n",
    "            ELSE 0 \\\n",
    "        END AS OFFENSE_LEVEL_MISDEMEANOR, \\\n",
    "        CASE \\\n",
    "            WHEN (OFFENSE_LEVEL = 'VIOLATION') THEN 1 \\\n",
    "            ELSE 0 \\\n",
    "        END AS OFFENSE_LEVEL_VIOLATION, \\\n",
    "        CASE \\\n",
    "            WHEN (OFFENSE_LEVEL = 'FELONY') THEN 1 \\\n",
    "            ELSE 0 \\\n",
    "        END AS OFFENSE_LEVEL_FELONY \\\n",
    "    FROM df_predicted \\\n",
    "    LIMIT 10 \\\n",
    "\")"
   ]
  },
  {
   "cell_type": "code",
   "execution_count": 21,
   "metadata": {},
   "outputs": [
    {
     "data": {
      "text/plain": [
       "[Row(OFFENSE_LEVEL='FELONY', OFFENSE_LEVEL_MISDEMEANOR=0, OFFENSE_LEVEL_VIOLATION=0, OFFENSE_LEVEL_FELONY=1),\n",
       " Row(OFFENSE_LEVEL='FELONY', OFFENSE_LEVEL_MISDEMEANOR=0, OFFENSE_LEVEL_VIOLATION=0, OFFENSE_LEVEL_FELONY=1),\n",
       " Row(OFFENSE_LEVEL='FELONY', OFFENSE_LEVEL_MISDEMEANOR=0, OFFENSE_LEVEL_VIOLATION=0, OFFENSE_LEVEL_FELONY=1),\n",
       " Row(OFFENSE_LEVEL='MISDEMEANOR', OFFENSE_LEVEL_MISDEMEANOR=1, OFFENSE_LEVEL_VIOLATION=0, OFFENSE_LEVEL_FELONY=0),\n",
       " Row(OFFENSE_LEVEL='MISDEMEANOR', OFFENSE_LEVEL_MISDEMEANOR=1, OFFENSE_LEVEL_VIOLATION=0, OFFENSE_LEVEL_FELONY=0),\n",
       " Row(OFFENSE_LEVEL='FELONY', OFFENSE_LEVEL_MISDEMEANOR=0, OFFENSE_LEVEL_VIOLATION=0, OFFENSE_LEVEL_FELONY=1),\n",
       " Row(OFFENSE_LEVEL='MISDEMEANOR', OFFENSE_LEVEL_MISDEMEANOR=1, OFFENSE_LEVEL_VIOLATION=0, OFFENSE_LEVEL_FELONY=0),\n",
       " Row(OFFENSE_LEVEL='FELONY', OFFENSE_LEVEL_MISDEMEANOR=0, OFFENSE_LEVEL_VIOLATION=0, OFFENSE_LEVEL_FELONY=1),\n",
       " Row(OFFENSE_LEVEL='MISDEMEANOR', OFFENSE_LEVEL_MISDEMEANOR=1, OFFENSE_LEVEL_VIOLATION=0, OFFENSE_LEVEL_FELONY=0),\n",
       " Row(OFFENSE_LEVEL='MISDEMEANOR', OFFENSE_LEVEL_MISDEMEANOR=1, OFFENSE_LEVEL_VIOLATION=0, OFFENSE_LEVEL_FELONY=0)]"
      ]
     },
     "execution_count": 21,
     "metadata": {},
     "output_type": "execute_result"
    }
   ],
   "source": [
    "df_encoded.head(10)"
   ]
  }
 ],
 "metadata": {
  "kernelspec": {
   "display_name": "Python 2",
   "language": "python",
   "name": "python2"
  },
  "language_info": {
   "codemirror_mode": {
    "name": "ipython",
    "version": 3
   },
   "file_extension": ".py",
   "mimetype": "text/x-python",
   "name": "python",
   "nbconvert_exporter": "python",
   "pygments_lexer": "ipython3",
   "version": "3.4.3"
  }
 },
 "nbformat": 4,
 "nbformat_minor": 2
}
