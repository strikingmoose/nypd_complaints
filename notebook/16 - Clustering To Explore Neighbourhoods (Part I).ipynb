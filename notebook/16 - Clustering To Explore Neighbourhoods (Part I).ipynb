{
 "cells": [
  {
   "cell_type": "markdown",
   "metadata": {},
   "source": [
    "# Clustering To Explore Neighbourhoods (Part I)\n",
    "## Review\n",
    "In the last post, we reviewed some of the visualizations we made via datashader and learned a few things about the neighbourhoods in NYC. As someone who is not from NYC, has never lived in NYC, and has only ever visited Manhattan and Brooklyn (and even then, my exposure is quite limited), I was really amazed at how hard of a boundary there were between different neighbourhoods and different types / severity of offenses! I don't think the takeaways are mindblowing as I'm sure someone living in the area is familiar with the general safety of the boroughs, but I came to these conclusions with a MacBook, some chips and guac, and a couch in the comfort of my home here in Edmonton, Alberta... the NY of Canada.\n",
    "\n",
    "![](https://a1.cdn-hotels.com/cos/production183/d888/1c4131d0-86eb-11e6-a741-0242ac110051.jpg)\n",
    "\n",
    "The resemblance is _**uncanny**_.\n",
    "\n",
    "Point being I'm learning via data, and data alone. I'm not saying that looking at this data is a substitute for being there either - By not being there, I have to be comfortable with the fact that I have no supporting information _**outside**_ of the data. This dataset only has a handful of columns, but surely there is information which is not feasible for the NYPD to collect. In fact, there's probably data that the NYPD has not even made open to the public! If we think about something like Grand Larceny, there can be so many other factors that may describe the crime and tell a story within itself... the square footage of the unit, the value of goods stolen, the ethnicity / race of the criminal / victim... there are pretty much endless data points we can capture if we want to get really technical and creative, but obviously there is a balance between how much data you _**can**_ collect vs how much data you _**do**_ collect.\n",
    "\n",
    "Regardless, it's pretty cool to be learning through data, and data alone. Reminds me of when I tried to [predict the All-NBA players](https://strikingmoose.com/2017/07/31/predicting-2016-2017-all-nba-teams-end-to-end/). If I knew how to run a gradient boosted tree, I basically didn't have to know _**anything**_ about basketball. A scary though, and obviously not always the right train of thought, but always crazy to see where data, alone, can pave the way.\n",
    "\n",
    "## Contextualizing Visualizations\n",
    "I want to take a few minutes to write about the use of visualiations, and why the title of this post is on clustering.\n",
    "\n",
    "The datashader visualizations were beautiful and really informative, but visualizations themselves have pitfalls as well - We gain simplicity and clarity by eliminating detail. I mean, isn't that the whole point of a visualization anyways? Why use a visualization if the data was simple? We make visualizations in the first place because our dataset is too complicated to look at in a tabular form! The inner workings of datashader is based on this principal. Instead of looking at each point individually, datashader aggregates by a more feasible approach for a computer screen... the pixel! Each pixel is summarized based on the data points that fall into that pixel's boundary, and the data is summarized that way.\n",
    "\n",
    "In datashader, we use the **eq\\_hist** color method which tries to let each shade of color in our color gradient / map represent an equal _**amount of samples**_ in our entire dataset. When we apply this coloring method, we lose a realistic handle on the magnitude of our data. eq\\_hist is literally _**manipulating the values of the data to appease our eyes**_.\n",
    "\n",
    "When we categorize the data by the offense level or offense type, we are only looking at 3-4 categories at a time. What about all the other categories? For now, we've just left them out of the visualization altogether. Is this the right thing to do? Well, it really depends on the question we're trying to answer, doesn't it? I realize I came into this entire exercise without any real objectives other than to just learn a bit more about crime in NYC, but when I was using datashader, I was inherently doing a geographical analysis. The map we generated below\n",
    "\n",
    "<img src=\"https://s3.ca-central-1.amazonaws.com/2017edmfasatb/nypd_complaints/images/35_nypd_complaints_offense_type_edited.png\" width=\"500\">\n",
    "\n",
    "showed 3 / 10 possible values we had for the OFFENSE\\_DESCRIPTION column (which, itself, was grouped down from 50+ categories). By ignoring the data, we are making the same conscious decision that we made when we decided to visualize in the first place. We want to look at the data through a _**different lens**_ in order to get a different perspective. Whether that perspective is the right one to take to answer that specific question... that's where the art of it comes into play. When I created that graph, I had a general sense that wealthier neighbourhoods experienced more Grand Larceny and lesser well-off neighbourhoods experienced more Dangerous Drug offenses while Harrassment was widespread throughout all of NYC. That visualization worked out perfectly for me because the boundaries were so clearly defined across the 3 offense types. The reality of the situation is that I feel uneasy plotting anything over 3-4 categories per map. Can you imagine a map with 10 categories, let alone 50? Can we even process all the colors? Can we even fit a legend on the plot? Visualization inherently has the ability to only summarize a limited amount of information due to our own limitations as humans.\n",
    "\n",
    "## Clustering\n",
    "I'm now feeling a bit uneasy because of I've ignored so many types of offenses... But wait, didn't I ignore them in the first place so I could make my visualization simpler to understand? Man... this is confusing...\n",
    "\n",
    "<img src=\"https://i.giphy.com/media/l2R01mSIsazqNQ7ks/giphy.webp\" width=\"400\">\n",
    "\n",
    "You know, it just comes down the fact that I'm not coming into this project with any specific objective. I'm looking for some type of finding, but I don't know which 8 questions I need to ask to get there. I'm digging for gold, but I haven't a clue where to look or what tools I need... hell... I don't even know if it's _**gold**_ I'm looking for! That's what this blog is for right...? To have a sandbox where nobody judges me and I can fail as much as I want!\n",
    "\n",
    "<img src=\"https://media.collegetimes.com/uploads/2016/02/09152603/laughing-then-crying.gif\" width=\"500\">\n",
    "\n",
    "Because I'm feeling so sensitive to those offenses that I ignored, I want to find a middle ground between looking at the tabular data and and looking at a limited number of categories on a map.\n",
    "\n",
    "In comes clustering.\n",
    "\n",
    "When I was checking out one of the [Kaggle NYC Taxi competition kernels](https://www.kaggle.com/gaborfodor/from-eda-to-the-top-lb-0-367), I noticed a super interesting use of clustering. Yes, yes, blah, blah I'm naive, I get it, but it still was really cool for me to see. About a third of a way down the notebook, the kaggler uses K-means clustering to actually cluster all the taxi data into _**regions**_, and these regions loosely represent a small neighbourhood in NYC. Ideally, we would have the boundaries of each neighbourhood defined in code so we can explicitly define each neighbourhood rather than _**approximating**_ their definition, but in the case of taxis, the hard boundaries may not matter anyways because taxis run in and out of neighbourhoods continuously. Oh yea, also we don't have the boundaries in code, so... yeah. This kaggler uses clustering to see if the neighbourhood the taxis are leaving from has a huge impact on the trip duration.\n",
    "\n",
    "In my case, I could also use clustering to define my data into 20 or so clusters. If I approximate NYC as 20 clusters of neighbourhoods, I might be able to better _**view**_ the data. Again, we're losing detail here as we're summarizing 5 million points into 20 clusters, but it will give us more detail than the map did as we'll be able to just look at the offense statistics / averages for a manageable amount of data samples (one row of data for each cluster).\n",
    "\n",
    "## Spark ML\n",
    "Because we are working with the full dataset again, we need to (or want to because our dataset isn't that big anyways) bring Spark back. Another reason for Spark's dominance is that it comes with a _**distributed, out of the box, easy to use machine learning library, Spark ML**_. Spark ML has a K-means clustering algorithm built in - lucky for us!\n",
    "\n",
    "#### Initial Setup & Config"
   ]
  },
  {
   "cell_type": "code",
   "execution_count": 1,
   "metadata": {},
   "outputs": [
    {
     "data": {
      "text/plain": [
       "0"
      ]
     },
     "execution_count": 1,
     "metadata": {},
     "output_type": "execute_result"
    }
   ],
   "source": [
    "import os\n",
    "os.system(\"sudo pip install findspark sql_magic pyspark_dist_explore seaborn\")"
   ]
  },
  {
   "cell_type": "code",
   "execution_count": 2,
   "metadata": {},
   "outputs": [
    {
     "data": {
      "application/javascript": [
       "\n",
       "    require(['notebook/js/codecell'], function(codecell) {\n",
       "      // https://github.com/jupyter/notebook/issues/2453\n",
       "      codecell.CodeCell.options_default.highlight_modes['magic_text/x-sql'] = {'reg':[/^%read_sql/, /.*=\\s*%read_sql/,\n",
       "                                                                                      /^%%read_sql/]};\n",
       "      Jupyter.notebook.events.one('kernel_ready.Kernel', function(){\n",
       "          console.log('BBBBB');\n",
       "          Jupyter.notebook.get_cells().map(function(cell){\n",
       "              if (cell.cell_type == 'code'){ cell.auto_highlight(); } }) ;\n",
       "      });\n",
       "    });\n",
       "    "
      ]
     },
     "metadata": {},
     "output_type": "display_data"
    }
   ],
   "source": [
    "# Use findspark package to connect Jupyter to Spark shell\n",
    "import findspark\n",
    "findspark.init('/usr/lib/spark')\n",
    "\n",
    "# Load SparkSession object\n",
    "import pyspark\n",
    "from pyspark.sql import SparkSession\n",
    "\n",
    "# Load other libraries\n",
    "from datetime import datetime\n",
    "from pyspark.sql import functions as F\n",
    "from pyspark.sql.types import DateType\n",
    "from functools import reduce\n",
    "import pandas as pd\n",
    "import numpy as np\n",
    "import seaborn as sns\n",
    "\n",
    "# Graphing with matplotlib\n",
    "import matplotlib.pyplot as plt\n",
    "plt.style.use('ggplot')\n",
    "%matplotlib inline\n",
    "\n",
    "# Initiate SparkSession as \"spark\"\n",
    "spark = SparkSession\\\n",
    "    .builder\\\n",
    "    .getOrCreate()\n",
    "\n",
    "# Load sql_magic and connect to Spark\n",
    "%load_ext sql_magic\n",
    "%config SQL.conn_name = 'spark'"
   ]
  },
  {
   "cell_type": "code",
   "execution_count": 3,
   "metadata": {},
   "outputs": [
    {
     "name": "stdout",
     "output_type": "stream",
     "text": [
      "CPU times: user 4 ms, sys: 0 ns, total: 4 ms\n",
      "Wall time: 13.2 s\n"
     ]
    }
   ],
   "source": [
    "%%time\n",
    "# Read NYPD Complaint Data\n",
    "df_filtered = spark.read.parquet(\"s3n://2017edmfasatb/nypd_complaints/data/df_filtered.parquet\")"
   ]
  },
  {
   "cell_type": "code",
   "execution_count": 4,
   "metadata": {},
   "outputs": [
    {
     "data": {
      "text/plain": [
       "5336177"
      ]
     },
     "execution_count": 4,
     "metadata": {},
     "output_type": "execute_result"
    }
   ],
   "source": [
    "df_filtered.count()"
   ]
  },
  {
   "cell_type": "code",
   "execution_count": 5,
   "metadata": {},
   "outputs": [
    {
     "name": "stdout",
     "output_type": "stream",
     "text": [
      "root\n",
      " |-- COMPLAINT_NUMBER: integer (nullable = true)\n",
      " |-- COMPLAINT_START_TIMESTAMP: timestamp (nullable = true)\n",
      " |-- COMPLAINT_END_TIMESTAMP: timestamp (nullable = true)\n",
      " |-- REPORTED_DATE_TIMESTAMP: timestamp (nullable = true)\n",
      " |-- COMPLAINT_START_TIMESTAMP_YEAR: string (nullable = true)\n",
      " |-- COMPLAINT_START_TIMESTAMP_MONTH: string (nullable = true)\n",
      " |-- COMPLAINT_START_TIMESTAMP_DAY: string (nullable = true)\n",
      " |-- COMPLAINT_START_TIMESTAMP_WEEKDAY: string (nullable = true)\n",
      " |-- COMPLAINT_START_TIMESTAMP_HOUR: string (nullable = true)\n",
      " |-- COMPLAINT_END_TIMESTAMP_YEAR: string (nullable = true)\n",
      " |-- COMPLAINT_END_TIMESTAMP_MONTH: string (nullable = true)\n",
      " |-- COMPLAINT_END_TIMESTAMP_DAY: string (nullable = true)\n",
      " |-- COMPLAINT_END_TIMESTAMP_WEEKDAY: string (nullable = true)\n",
      " |-- COMPLAINT_END_TIMESTAMP_HOUR: string (nullable = true)\n",
      " |-- REPORTED_DATE_TIMESTAMP_YEAR: string (nullable = true)\n",
      " |-- REPORTED_DATE_TIMESTAMP_MONTH: string (nullable = true)\n",
      " |-- REPORTED_DATE_TIMESTAMP_DAY: string (nullable = true)\n",
      " |-- REPORTED_DATE_TIMESTAMP_WEEKDAY: string (nullable = true)\n",
      " |-- COMPLAINT_LENGTH: double (nullable = true)\n",
      " |-- COMPLAINT_LENGTH_ZERO_TIME: boolean (nullable = true)\n",
      " |-- COMPLAINT_START_REPORTED_LAG: double (nullable = true)\n",
      " |-- COMPLAINT_END_REPORTED_LAG: double (nullable = true)\n",
      " |-- OFFENSE_DESCRIPTION: string (nullable = true)\n",
      " |-- OFFENSE_RESULT: string (nullable = true)\n",
      " |-- OFFENSE_LEVEL: string (nullable = true)\n",
      " |-- JURISDICTION: string (nullable = true)\n",
      " |-- BOROUGH: string (nullable = true)\n",
      " |-- PRECINCT: integer (nullable = true)\n",
      " |-- SPECIFIC_LOCATION: string (nullable = true)\n",
      " |-- PREMISE_DESCRIPTION: string (nullable = true)\n",
      " |-- LAT: double (nullable = true)\n",
      " |-- LON: double (nullable = true)\n",
      " |-- COMPLAINT_LENGTH_DAYS: double (nullable = true)\n",
      " |-- COMPLAINT_LENGTH_UNDER_ONE_YEAR: boolean (nullable = true)\n",
      "\n"
     ]
    }
   ],
   "source": [
    "df_filtered.printSchema()"
   ]
  },
  {
   "cell_type": "markdown",
   "metadata": {},
   "source": [
    "## K-Means Clustering\n",
    "\n",
    "![](https://www.projectrhea.org/rhea/images/e/ef/RunyanKmeans.gif)\n",
    "\n",
    "Why not start with a gif that basically explains everything. I'm not even sure what else I need to say haha. K-Means clustering is an iterative method which finds natural clusters of data samples.\n",
    "\n",
    "To start off, we have to tell K-Means _**how many clusters**_ we want. K-Means, unfortunately, doesn't tell this us explicitly (although we can use within-cluster error metrics to help us tune this). The traditional use case of clustering is a bit different from what we're using it for in this project. Traditionally, maybe you work on a product team and you're trying to figure out which users to offer discounts to. Maybe you have 3 tiers of discounts you'd like to give, and you'd like K-Means to find these 3 groups for us naturally based on historical data. We'd go into K-Means saying we want 3 explicit groups and let the algorithm to the rest.\n",
    "\n",
    "In this project, we're kinda using clustering to represent general regions across NYC. Do we care if we represent NYC as 20 or 21 clusters? Maybe 22? Why don't way go crazy and say 23? It really doesn't matter because I'm just building general clusters to break out the city into some arbitrary number that will help me view some summary statistics by geography. I'm not explicitly saying \"New York can only have 20 neighbourhoods, and that's final!\".\n",
    "\n",
    "<img src=\"http://cdn4.gurl.com/wp-content/uploads/2014/03/scandal-disagree.gif\" width=\"400\">\n",
    "\n",
    "K-Means iterates between two steps:\n",
    "- Updating cluster assignments\n",
    "- Updating cluster centres\n",
    "\n",
    "Once we tell K-Means how many clusters we're looking for, K-Means _**randomly assigns cluster centres**_ in the dimensional space that we've given it. The hope, through iteratively finding new cluster centres, is that the cluster centres and assignments will eventually represent natural spatial clusters in the data.\n",
    "\n",
    "In the clustering gif above, we see what most would probably perceive as 3 clusters in the data:\n",
    "- Top left\n",
    "- Top right\n",
    "- Bottom right\n",
    "\n",
    "Originally, the cluster centres are in the bottom left corner where there is no cluster, and every point is classified under the blue cluster. However, after updating the cluster centre the first time, we see some red starting to emerge. Soon enough, the cluster centres have auto-magically found the natural clusters that our eyes saw. WOW!\n",
    "\n",
    "<img src=\"https://media.tenor.com/images/136313988be72de056952b46f455868e/tenor.gif\" width=\"250\">\n",
    "\n",
    "The magic behind the scenes is basically a single cluster mean calculation every iteration. Yeah... I don't really have anything else to add to that lol.\n",
    "\n",
    "The last thing I will say is that, sometimes, the structure of the data will make it such that different initilization locations of the cluster centres yield different cluster assignments upon convergence. For our example, it shouldn't matter here as our clusters ar a bit arbitrary to begin with.\n",
    "\n",
    "Let's try it out!"
   ]
  },
  {
   "cell_type": "code",
   "execution_count": 6,
   "metadata": {},
   "outputs": [
    {
     "ename": "IllegalArgumentException",
     "evalue": "'Field \"features\" does not exist.'",
     "output_type": "error",
     "traceback": [
      "\u001b[0;31m---------------------------------------------------------------------------\u001b[0m",
      "\u001b[0;31mPy4JJavaError\u001b[0m                             Traceback (most recent call last)",
      "\u001b[0;32m/usr/lib/spark/python/pyspark/sql/utils.py\u001b[0m in \u001b[0;36mdeco\u001b[0;34m(*a, **kw)\u001b[0m\n\u001b[1;32m     62\u001b[0m         \u001b[0;32mtry\u001b[0m\u001b[0;34m:\u001b[0m\u001b[0;34m\u001b[0m\u001b[0m\n\u001b[0;32m---> 63\u001b[0;31m             \u001b[0;32mreturn\u001b[0m \u001b[0mf\u001b[0m\u001b[0;34m(\u001b[0m\u001b[0;34m*\u001b[0m\u001b[0ma\u001b[0m\u001b[0;34m,\u001b[0m \u001b[0;34m**\u001b[0m\u001b[0mkw\u001b[0m\u001b[0;34m)\u001b[0m\u001b[0;34m\u001b[0m\u001b[0m\n\u001b[0m\u001b[1;32m     64\u001b[0m         \u001b[0;32mexcept\u001b[0m \u001b[0mpy4j\u001b[0m\u001b[0;34m.\u001b[0m\u001b[0mprotocol\u001b[0m\u001b[0;34m.\u001b[0m\u001b[0mPy4JJavaError\u001b[0m \u001b[0;32mas\u001b[0m \u001b[0me\u001b[0m\u001b[0;34m:\u001b[0m\u001b[0;34m\u001b[0m\u001b[0m\n",
      "\u001b[0;32m/usr/lib/spark/python/lib/py4j-src.zip/py4j/protocol.py\u001b[0m in \u001b[0;36mget_return_value\u001b[0;34m(answer, gateway_client, target_id, name)\u001b[0m\n\u001b[1;32m    318\u001b[0m                     \u001b[0;34m\"An error occurred while calling {0}{1}{2}.\\n\"\u001b[0m\u001b[0;34m.\u001b[0m\u001b[0;34m\u001b[0m\u001b[0m\n\u001b[0;32m--> 319\u001b[0;31m                     format(target_id, \".\", name), value)\n\u001b[0m\u001b[1;32m    320\u001b[0m             \u001b[0;32melse\u001b[0m\u001b[0;34m:\u001b[0m\u001b[0;34m\u001b[0m\u001b[0m\n",
      "\u001b[0;31mPy4JJavaError\u001b[0m: An error occurred while calling o48.fit.\n: java.lang.IllegalArgumentException: Field \"features\" does not exist.\n\tat org.apache.spark.sql.types.StructType$$anonfun$apply$1.apply(StructType.scala:266)\n\tat org.apache.spark.sql.types.StructType$$anonfun$apply$1.apply(StructType.scala:266)\n\tat scala.collection.MapLike$class.getOrElse(MapLike.scala:128)\n\tat scala.collection.AbstractMap.getOrElse(Map.scala:59)\n\tat org.apache.spark.sql.types.StructType.apply(StructType.scala:265)\n\tat org.apache.spark.ml.util.SchemaUtils$.checkColumnType(SchemaUtils.scala:40)\n\tat org.apache.spark.ml.clustering.KMeansParams$class.validateAndTransformSchema(KMeans.scala:93)\n\tat org.apache.spark.ml.clustering.KMeans.validateAndTransformSchema(KMeans.scala:254)\n\tat org.apache.spark.ml.clustering.KMeans.transformSchema(KMeans.scala:340)\n\tat org.apache.spark.ml.PipelineStage.transformSchema(Pipeline.scala:74)\n\tat org.apache.spark.ml.clustering.KMeans.fit(KMeans.scala:305)\n\tat org.apache.spark.ml.clustering.KMeans.fit(KMeans.scala:254)\n\tat sun.reflect.NativeMethodAccessorImpl.invoke0(Native Method)\n\tat sun.reflect.NativeMethodAccessorImpl.invoke(NativeMethodAccessorImpl.java:62)\n\tat sun.reflect.DelegatingMethodAccessorImpl.invoke(DelegatingMethodAccessorImpl.java:43)\n\tat java.lang.reflect.Method.invoke(Method.java:498)\n\tat py4j.reflection.MethodInvoker.invoke(MethodInvoker.java:244)\n\tat py4j.reflection.ReflectionEngine.invoke(ReflectionEngine.java:357)\n\tat py4j.Gateway.invoke(Gateway.java:280)\n\tat py4j.commands.AbstractCommand.invokeMethod(AbstractCommand.java:132)\n\tat py4j.commands.CallCommand.execute(CallCommand.java:79)\n\tat py4j.GatewayConnection.run(GatewayConnection.java:214)\n\tat java.lang.Thread.run(Thread.java:745)\n",
      "\nDuring handling of the above exception, another exception occurred:\n",
      "\u001b[0;31mIllegalArgumentException\u001b[0m                  Traceback (most recent call last)",
      "\u001b[0;32m<ipython-input-6-d118b0a0041f>\u001b[0m in \u001b[0;36m<module>\u001b[0;34m()\u001b[0m\n\u001b[1;32m      3\u001b[0m \u001b[0;31m# Set seed for ability to reproduce results, 20 clusters\u001b[0m\u001b[0;34m\u001b[0m\u001b[0;34m\u001b[0m\u001b[0m\n\u001b[1;32m      4\u001b[0m \u001b[0mkmeans\u001b[0m \u001b[0;34m=\u001b[0m \u001b[0mKMeans\u001b[0m\u001b[0;34m(\u001b[0m\u001b[0mk\u001b[0m \u001b[0;34m=\u001b[0m \u001b[0;36m20\u001b[0m\u001b[0;34m,\u001b[0m \u001b[0mseed\u001b[0m \u001b[0;34m=\u001b[0m \u001b[0;36m1\u001b[0m\u001b[0;34m)\u001b[0m\u001b[0;34m\u001b[0m\u001b[0m\n\u001b[0;32m----> 5\u001b[0;31m \u001b[0mmodel\u001b[0m \u001b[0;34m=\u001b[0m \u001b[0mkmeans\u001b[0m\u001b[0;34m.\u001b[0m\u001b[0mfit\u001b[0m\u001b[0;34m(\u001b[0m\u001b[0mdf_filtered\u001b[0m\u001b[0;34m[\u001b[0m\u001b[0;34m[\u001b[0m\u001b[0;34m'LAT'\u001b[0m\u001b[0;34m,\u001b[0m \u001b[0;34m'LON'\u001b[0m\u001b[0;34m]\u001b[0m\u001b[0;34m]\u001b[0m\u001b[0;34m)\u001b[0m\u001b[0;34m\u001b[0m\u001b[0m\n\u001b[0m",
      "\u001b[0;32m/usr/lib/spark/python/pyspark/ml/base.py\u001b[0m in \u001b[0;36mfit\u001b[0;34m(self, dataset, params)\u001b[0m\n\u001b[1;32m     62\u001b[0m                 \u001b[0;32mreturn\u001b[0m \u001b[0mself\u001b[0m\u001b[0;34m.\u001b[0m\u001b[0mcopy\u001b[0m\u001b[0;34m(\u001b[0m\u001b[0mparams\u001b[0m\u001b[0;34m)\u001b[0m\u001b[0;34m.\u001b[0m\u001b[0m_fit\u001b[0m\u001b[0;34m(\u001b[0m\u001b[0mdataset\u001b[0m\u001b[0;34m)\u001b[0m\u001b[0;34m\u001b[0m\u001b[0m\n\u001b[1;32m     63\u001b[0m             \u001b[0;32melse\u001b[0m\u001b[0;34m:\u001b[0m\u001b[0;34m\u001b[0m\u001b[0m\n\u001b[0;32m---> 64\u001b[0;31m                 \u001b[0;32mreturn\u001b[0m \u001b[0mself\u001b[0m\u001b[0;34m.\u001b[0m\u001b[0m_fit\u001b[0m\u001b[0;34m(\u001b[0m\u001b[0mdataset\u001b[0m\u001b[0;34m)\u001b[0m\u001b[0;34m\u001b[0m\u001b[0m\n\u001b[0m\u001b[1;32m     65\u001b[0m         \u001b[0;32melse\u001b[0m\u001b[0;34m:\u001b[0m\u001b[0;34m\u001b[0m\u001b[0m\n\u001b[1;32m     66\u001b[0m             raise ValueError(\"Params must be either a param map or a list/tuple of param maps, \"\n",
      "\u001b[0;32m/usr/lib/spark/python/pyspark/ml/wrapper.py\u001b[0m in \u001b[0;36m_fit\u001b[0;34m(self, dataset)\u001b[0m\n\u001b[1;32m    263\u001b[0m \u001b[0;34m\u001b[0m\u001b[0m\n\u001b[1;32m    264\u001b[0m     \u001b[0;32mdef\u001b[0m \u001b[0m_fit\u001b[0m\u001b[0;34m(\u001b[0m\u001b[0mself\u001b[0m\u001b[0;34m,\u001b[0m \u001b[0mdataset\u001b[0m\u001b[0;34m)\u001b[0m\u001b[0;34m:\u001b[0m\u001b[0;34m\u001b[0m\u001b[0m\n\u001b[0;32m--> 265\u001b[0;31m         \u001b[0mjava_model\u001b[0m \u001b[0;34m=\u001b[0m \u001b[0mself\u001b[0m\u001b[0;34m.\u001b[0m\u001b[0m_fit_java\u001b[0m\u001b[0;34m(\u001b[0m\u001b[0mdataset\u001b[0m\u001b[0;34m)\u001b[0m\u001b[0;34m\u001b[0m\u001b[0m\n\u001b[0m\u001b[1;32m    266\u001b[0m         \u001b[0;32mreturn\u001b[0m \u001b[0mself\u001b[0m\u001b[0;34m.\u001b[0m\u001b[0m_create_model\u001b[0m\u001b[0;34m(\u001b[0m\u001b[0mjava_model\u001b[0m\u001b[0;34m)\u001b[0m\u001b[0;34m\u001b[0m\u001b[0m\n\u001b[1;32m    267\u001b[0m \u001b[0;34m\u001b[0m\u001b[0m\n",
      "\u001b[0;32m/usr/lib/spark/python/pyspark/ml/wrapper.py\u001b[0m in \u001b[0;36m_fit_java\u001b[0;34m(self, dataset)\u001b[0m\n\u001b[1;32m    260\u001b[0m         \"\"\"\n\u001b[1;32m    261\u001b[0m         \u001b[0mself\u001b[0m\u001b[0;34m.\u001b[0m\u001b[0m_transfer_params_to_java\u001b[0m\u001b[0;34m(\u001b[0m\u001b[0;34m)\u001b[0m\u001b[0;34m\u001b[0m\u001b[0m\n\u001b[0;32m--> 262\u001b[0;31m         \u001b[0;32mreturn\u001b[0m \u001b[0mself\u001b[0m\u001b[0;34m.\u001b[0m\u001b[0m_java_obj\u001b[0m\u001b[0;34m.\u001b[0m\u001b[0mfit\u001b[0m\u001b[0;34m(\u001b[0m\u001b[0mdataset\u001b[0m\u001b[0;34m.\u001b[0m\u001b[0m_jdf\u001b[0m\u001b[0;34m)\u001b[0m\u001b[0;34m\u001b[0m\u001b[0m\n\u001b[0m\u001b[1;32m    263\u001b[0m \u001b[0;34m\u001b[0m\u001b[0m\n\u001b[1;32m    264\u001b[0m     \u001b[0;32mdef\u001b[0m \u001b[0m_fit\u001b[0m\u001b[0;34m(\u001b[0m\u001b[0mself\u001b[0m\u001b[0;34m,\u001b[0m \u001b[0mdataset\u001b[0m\u001b[0;34m)\u001b[0m\u001b[0;34m:\u001b[0m\u001b[0;34m\u001b[0m\u001b[0m\n",
      "\u001b[0;32m/usr/lib/spark/python/lib/py4j-src.zip/py4j/java_gateway.py\u001b[0m in \u001b[0;36m__call__\u001b[0;34m(self, *args)\u001b[0m\n\u001b[1;32m   1131\u001b[0m         \u001b[0manswer\u001b[0m \u001b[0;34m=\u001b[0m \u001b[0mself\u001b[0m\u001b[0;34m.\u001b[0m\u001b[0mgateway_client\u001b[0m\u001b[0;34m.\u001b[0m\u001b[0msend_command\u001b[0m\u001b[0;34m(\u001b[0m\u001b[0mcommand\u001b[0m\u001b[0;34m)\u001b[0m\u001b[0;34m\u001b[0m\u001b[0m\n\u001b[1;32m   1132\u001b[0m         return_value = get_return_value(\n\u001b[0;32m-> 1133\u001b[0;31m             answer, self.gateway_client, self.target_id, self.name)\n\u001b[0m\u001b[1;32m   1134\u001b[0m \u001b[0;34m\u001b[0m\u001b[0m\n\u001b[1;32m   1135\u001b[0m         \u001b[0;32mfor\u001b[0m \u001b[0mtemp_arg\u001b[0m \u001b[0;32min\u001b[0m \u001b[0mtemp_args\u001b[0m\u001b[0;34m:\u001b[0m\u001b[0;34m\u001b[0m\u001b[0m\n",
      "\u001b[0;32m/usr/lib/spark/python/pyspark/sql/utils.py\u001b[0m in \u001b[0;36mdeco\u001b[0;34m(*a, **kw)\u001b[0m\n\u001b[1;32m     77\u001b[0m                 \u001b[0;32mraise\u001b[0m \u001b[0mQueryExecutionException\u001b[0m\u001b[0;34m(\u001b[0m\u001b[0ms\u001b[0m\u001b[0;34m.\u001b[0m\u001b[0msplit\u001b[0m\u001b[0;34m(\u001b[0m\u001b[0;34m': '\u001b[0m\u001b[0;34m,\u001b[0m \u001b[0;36m1\u001b[0m\u001b[0;34m)\u001b[0m\u001b[0;34m[\u001b[0m\u001b[0;36m1\u001b[0m\u001b[0;34m]\u001b[0m\u001b[0;34m,\u001b[0m \u001b[0mstackTrace\u001b[0m\u001b[0;34m)\u001b[0m\u001b[0;34m\u001b[0m\u001b[0m\n\u001b[1;32m     78\u001b[0m             \u001b[0;32mif\u001b[0m \u001b[0ms\u001b[0m\u001b[0;34m.\u001b[0m\u001b[0mstartswith\u001b[0m\u001b[0;34m(\u001b[0m\u001b[0;34m'java.lang.IllegalArgumentException: '\u001b[0m\u001b[0;34m)\u001b[0m\u001b[0;34m:\u001b[0m\u001b[0;34m\u001b[0m\u001b[0m\n\u001b[0;32m---> 79\u001b[0;31m                 \u001b[0;32mraise\u001b[0m \u001b[0mIllegalArgumentException\u001b[0m\u001b[0;34m(\u001b[0m\u001b[0ms\u001b[0m\u001b[0;34m.\u001b[0m\u001b[0msplit\u001b[0m\u001b[0;34m(\u001b[0m\u001b[0;34m': '\u001b[0m\u001b[0;34m,\u001b[0m \u001b[0;36m1\u001b[0m\u001b[0;34m)\u001b[0m\u001b[0;34m[\u001b[0m\u001b[0;36m1\u001b[0m\u001b[0;34m]\u001b[0m\u001b[0;34m,\u001b[0m \u001b[0mstackTrace\u001b[0m\u001b[0;34m)\u001b[0m\u001b[0;34m\u001b[0m\u001b[0m\n\u001b[0m\u001b[1;32m     80\u001b[0m             \u001b[0;32mraise\u001b[0m\u001b[0;34m\u001b[0m\u001b[0m\n\u001b[1;32m     81\u001b[0m     \u001b[0;32mreturn\u001b[0m \u001b[0mdeco\u001b[0m\u001b[0;34m\u001b[0m\u001b[0m\n",
      "\u001b[0;31mIllegalArgumentException\u001b[0m: 'Field \"features\" does not exist.'"
     ]
    }
   ],
   "source": [
    "from pyspark.ml.clustering import KMeans\n",
    "\n",
    "# Set seed for ability to reproduce results, 20 clusters\n",
    "kmeans = KMeans(k = 20, seed = 1)\n",
    "model = kmeans.fit(df_filtered[['LAT', 'LON']])"
   ]
  },
  {
   "cell_type": "markdown",
   "metadata": {},
   "source": [
    "Hmm, it looks like we need to [transform the dataframe into vectors first...](https://stackoverflow.com/questions/40838893/pyspark-using-dataframe-in-ml-algorithms) This stackoverflow answer actually links to some official Spark documentation [giving an example of this transformation as well](https://spark.apache.org/docs/latest/api/python/pyspark.ml.html#pyspark.ml.clustering.KMeans)."
   ]
  },
  {
   "cell_type": "code",
   "execution_count": 7,
   "metadata": {
    "collapsed": true
   },
   "outputs": [],
   "source": [
    "from pyspark.ml.feature import VectorAssembler\n",
    "\n",
    "# Initiate and transform columns into vector\n",
    "vecAssembler = VectorAssembler(inputCols = ['LAT', 'LON'], outputCol = \"features\")\n",
    "k_means_input = vecAssembler.transform(df_filtered)"
   ]
  },
  {
   "cell_type": "code",
   "execution_count": 8,
   "metadata": {},
   "outputs": [
    {
     "name": "stdout",
     "output_type": "stream",
     "text": [
      "CPU times: user 16 ms, sys: 4 ms, total: 20 ms\n",
      "Wall time: 1min 24s\n"
     ]
    }
   ],
   "source": [
    "%%time\n",
    "# Refit model\n",
    "model = kmeans.fit(k_means_input[['features']])"
   ]
  },
  {
   "cell_type": "markdown",
   "metadata": {},
   "source": [
    "Took about a minute to create the model. Let's assign the clusters back to the data as a separate column of data."
   ]
  },
  {
   "cell_type": "code",
   "execution_count": 9,
   "metadata": {},
   "outputs": [
    {
     "name": "stdout",
     "output_type": "stream",
     "text": [
      "[Row(features=DenseVector([40.8288, -73.9167]), prediction=0), Row(features=DenseVector([40.6973, -73.7846]), prediction=10), Row(features=DenseVector([40.8026, -73.9451]), prediction=19), Row(features=DenseVector([40.6545, -73.7263]), prediction=10), Row(features=DenseVector([40.738, -73.9879]), prediction=6)]\n",
      "CPU times: user 0 ns, sys: 8 ms, total: 8 ms\n",
      "Wall time: 1.87 s\n"
     ]
    }
   ],
   "source": [
    "%%time\n",
    "# Use model to assign the samples a cluster to belong to\n",
    "prediction = model.transform(k_means_input[['features']])\n",
    "print(prediction.head(5))"
   ]
  },
  {
   "cell_type": "code",
   "execution_count": 10,
   "metadata": {},
   "outputs": [
    {
     "data": {
      "text/plain": [
       "DataFrame[features: vector, prediction: int]"
      ]
     },
     "execution_count": 10,
     "metadata": {},
     "output_type": "execute_result"
    }
   ],
   "source": [
    "# Since there are no common column between these two dataframes add row_index so that it can be joined\n",
    "df_filtered_indexed = df_filtered.withColumn('row_index', F.monotonically_increasing_id())\n",
    "df_filtered.unpersist()\n",
    "\n",
    "prediction_indexed = prediction.withColumn('row_index', F.monotonically_increasing_id())\n",
    "prediction.unpersist()"
   ]
  },
  {
   "cell_type": "code",
   "execution_count": 11,
   "metadata": {},
   "outputs": [
    {
     "data": {
      "text/plain": [
       "DataFrame[features: vector, prediction: int, row_index: bigint]"
      ]
     },
     "execution_count": 11,
     "metadata": {},
     "output_type": "execute_result"
    }
   ],
   "source": [
    "# Perform join on our generated ID row_index\n",
    "df_predicted = df_filtered_indexed.join(prediction_indexed, on = ['row_index'], how = 'left').drop('row_index')\n",
    "df_filtered_indexed.unpersist()\n",
    "prediction_indexed.unpersist()"
   ]
  },
  {
   "cell_type": "code",
   "execution_count": 12,
   "metadata": {},
   "outputs": [
    {
     "data": {
      "text/plain": [
       "[Row(COMPLAINT_NUMBER=101109527, COMPLAINT_START_TIMESTAMP=datetime.datetime(2015, 12, 31, 23, 45), COMPLAINT_END_TIMESTAMP=datetime.datetime(2015, 12, 31, 23, 45), REPORTED_DATE_TIMESTAMP=datetime.datetime(2015, 12, 31, 0, 0), COMPLAINT_START_TIMESTAMP_YEAR='2015', COMPLAINT_START_TIMESTAMP_MONTH='12', COMPLAINT_START_TIMESTAMP_DAY='31', COMPLAINT_START_TIMESTAMP_WEEKDAY='Thu', COMPLAINT_START_TIMESTAMP_HOUR='23', COMPLAINT_END_TIMESTAMP_YEAR='2015', COMPLAINT_END_TIMESTAMP_MONTH='12', COMPLAINT_END_TIMESTAMP_DAY='31', COMPLAINT_END_TIMESTAMP_WEEKDAY='Thu', COMPLAINT_END_TIMESTAMP_HOUR='23', REPORTED_DATE_TIMESTAMP_YEAR='2015', REPORTED_DATE_TIMESTAMP_MONTH='12', REPORTED_DATE_TIMESTAMP_DAY='31', REPORTED_DATE_TIMESTAMP_WEEKDAY='Thu', COMPLAINT_LENGTH=0.0, COMPLAINT_LENGTH_ZERO_TIME=True, COMPLAINT_START_REPORTED_LAG=0.0, COMPLAINT_END_REPORTED_LAG=0.0, OFFENSE_DESCRIPTION='OTHER', OFFENSE_RESULT='COMPLETED', OFFENSE_LEVEL='FELONY', JURISDICTION='N.Y. POLICE DEPT', BOROUGH='BRONX', PRECINCT=44, SPECIFIC_LOCATION='INSIDE', PREMISE_DESCRIPTION='BAR/NIGHT CLUB', LAT=40.828848333, LON=-73.916661142, COMPLAINT_LENGTH_DAYS=0.0, COMPLAINT_LENGTH_UNDER_ONE_YEAR=True, features=DenseVector([40.8288, -73.9167]), prediction=0),\n",
       " Row(COMPLAINT_NUMBER=153401121, COMPLAINT_START_TIMESTAMP=datetime.datetime(2015, 12, 31, 23, 36), COMPLAINT_END_TIMESTAMP=datetime.datetime(2015, 12, 31, 23, 36), REPORTED_DATE_TIMESTAMP=datetime.datetime(2015, 12, 31, 0, 0), COMPLAINT_START_TIMESTAMP_YEAR='2015', COMPLAINT_START_TIMESTAMP_MONTH='12', COMPLAINT_START_TIMESTAMP_DAY='31', COMPLAINT_START_TIMESTAMP_WEEKDAY='Thu', COMPLAINT_START_TIMESTAMP_HOUR='23', COMPLAINT_END_TIMESTAMP_YEAR='2015', COMPLAINT_END_TIMESTAMP_MONTH='12', COMPLAINT_END_TIMESTAMP_DAY='31', COMPLAINT_END_TIMESTAMP_WEEKDAY='Thu', COMPLAINT_END_TIMESTAMP_HOUR='23', REPORTED_DATE_TIMESTAMP_YEAR='2015', REPORTED_DATE_TIMESTAMP_MONTH='12', REPORTED_DATE_TIMESTAMP_DAY='31', REPORTED_DATE_TIMESTAMP_WEEKDAY='Thu', COMPLAINT_LENGTH=0.0, COMPLAINT_LENGTH_ZERO_TIME=True, COMPLAINT_START_REPORTED_LAG=0.0, COMPLAINT_END_REPORTED_LAG=0.0, OFFENSE_DESCRIPTION='OTHER', OFFENSE_RESULT='COMPLETED', OFFENSE_LEVEL='FELONY', JURISDICTION='N.Y. POLICE DEPT', BOROUGH='QUEENS', PRECINCT=103, SPECIFIC_LOCATION='OUTSIDE', PREMISE_DESCRIPTION='OTHER', LAT=40.697338138, LON=-73.784556739, COMPLAINT_LENGTH_DAYS=0.0, COMPLAINT_LENGTH_UNDER_ONE_YEAR=True, features=DenseVector([40.6973, -73.7846]), prediction=10)]"
      ]
     },
     "execution_count": 12,
     "metadata": {},
     "output_type": "execute_result"
    }
   ],
   "source": [
    "# Preview results\n",
    "df_predicted.head(2)"
   ]
  },
  {
   "cell_type": "markdown",
   "metadata": {},
   "source": [
    "Hmm... that's interesting. Spark doesn't seem to have (or I can't seem to find) a simple concat function like we have in Pandas which just glues the two dataframes together (assuming they are the same dimensions along the axis of concatenation)... I have to do this roundabout process to generate manual IDs and then join the two tables together...\n",
    "\n",
    "This may seem like a small change, but this actually caused me quite a bit of trouble - 2 days of trouble to be more specific!\n",
    "\n",
    "This is probably something I would have ended up come across sooner or later anyways, but I kept running out of memory on the join, causing the JVM to crash with the following Java error:\n",
    "\n",
    "> _**TransportClient: Failed to send RPC**_\n",
    "\n",
    "I found a [quick and dirty solution here](https://stackoverflow.com/questions/39467761/how-to-know-what-is-the-reason-for-closedchannelexceptions-with-spark-shell-in-y). First, the problem is described as an issue with using Java 8, which allocates more virtual memory. This may cause YARN to lose its association when the Java issue arises.\n",
    "\n",
    "One suggestion from both the Jira tracker for the bug and the stackoverflow article itself is to actually disable YARN's memory checks. Although this seems dangerous, and I'll be the first to admit this likely isn't the best engineering practice as per the stackoverflow response below:\n",
    "\n",
    "> Are you aware of the fact that you effectively disabled all the resource checks that YARN applied to your Spark application and in multi-tenant environment the first submission may take all the resources available? It's a very dangerous situation.\n",
    "\n",
    "I will go ahead anyways because this is a pretty low risk sandbox environment and, really, I'm not working with that large of a dataset in general (1.5GB!). To disable YARN's memory checks, I added the following lines to EMR's custom configuration text box when setting up the cluster:\n",
    "\n",
    "~~~~\n",
    "classification=yarn-site,properties=[yarn.nodemanager.pmem-check-enabled=false,yarn.nodemanager.vmem-check-enabled=false]\n",
    "~~~~\n",
    "\n",
    "This will set the _**yarn.nodemanager.pmem-check-enabled**_ and _**yarn.nodemanager.vmem-check-enabled**_ parameters to _**false**_ on the _**yarn-site.xml**_ config file.\n",
    "\n",
    "After making this change, the join worked without crashing and my notebook is still in tact!\n",
    "\n",
    "<img src=\"https://s3.ca-central-1.amazonaws.com/2017edmfasatb/nypd_complaints/images/39_emr_ganglia_mem.png\" width=\"600\">\n",
    "\n",
    "A quick look at the Ganglia (resource monitoring tool within our EMR suite) memory graph shows that we were never really too close to reaching the limit of the cluster. Good stuff.\n",
    "\n",
    "One last change I will add as well is to tell EMR to tell Spark to [automatically use the maximum amount of resources we can possibly allocate to the cluster given the hardware specs](http://docs.aws.amazon.com/emr/latest/ReleaseGuide/emr-spark-configure.html). This seems to handle quite a bit of spark config params without having to use too much of my own brainpower. Perhaps I should be using more brainpower...\n",
    "\n",
    "My EMR configuration parameters on the _**Step 1: Software & Steps**_ page of the EMR setup now looks something like this:\n",
    "\n",
    "<img src=\"https://s3.ca-central-1.amazonaws.com/2017edmfasatb/nypd_complaints/images/40_emr_mem_config.png\" width=\"800\">\n",
    "\n",
    "Anyways, let's try these quick fixes and pray for the best.\n",
    "\n",
    "![](https://media.tenor.com/images/e0661b92cd8103882ec72e8c8fd4edcf/tenor.gif)\n",
    "\n",
    "### Viewing Cluster Centers\n",
    "Let's just really quickly see how many samples are in each cluster and where each cluster lies."
   ]
  },
  {
   "cell_type": "code",
   "execution_count": 13,
   "metadata": {
    "collapsed": true
   },
   "outputs": [],
   "source": [
    "# Add table to SQL Context\n",
    "df_predicted.createOrReplaceTempView(\"df_predicted\")"
   ]
  },
  {
   "cell_type": "code",
   "execution_count": 14,
   "metadata": {
    "scrolled": true
   },
   "outputs": [
    {
     "name": "stdout",
     "output_type": "stream",
     "text": [
      "Query started at 02:49:47 AM UTC; Query executed in 0.32 m"
     ]
    }
   ],
   "source": [
    "cluster_stats_result = %read_sql \\\n",
    "SELECT \\\n",
    "    prediction, \\\n",
    "    COUNT(*) AS NUM_SAMPLES, \\\n",
    "    AVG(LAT) AS LAT_CENTRE, \\\n",
    "    AVG(LON) AS LON_CENTRE \\\n",
    "FROM df_predicted \\\n",
    "GROUP BY \\\n",
    "    prediction"
   ]
  },
  {
   "cell_type": "markdown",
   "metadata": {},
   "source": [
    "Let's see where these cluster centers are."
   ]
  },
  {
   "cell_type": "code",
   "execution_count": 16,
   "metadata": {},
   "outputs": [
    {
     "data": {
      "image/png": "[encoded data removed]",
      "text/plain": [
       "<matplotlib.figure.Figure at 0x7f0dd5cba940>"
      ]
     },
     "metadata": {},
     "output_type": "display_data"
    }
   ],
   "source": [
    "# See cluster centres\n",
    "fig, ax = plt.subplots()\n",
    "sns.regplot(x = \"LON_CENTRE\", y = \"LAT_CENTRE\", data = cluster_stats_result, fit_reg = False, ax = ax)\n",
    "cluster_stats_result[['LON_CENTRE','LAT_CENTRE','prediction']].apply(lambda x: ax.text(*x), axis=1);"
   ]
  },
  {
   "cell_type": "markdown",
   "metadata": {},
   "source": [
    "Let's amend this graph so we can see which dots represent areas of denser / more crime."
   ]
  },
  {
   "cell_type": "code",
   "execution_count": 40,
   "metadata": {},
   "outputs": [
    {
     "data": {
      "image/png": "[encoded data removed]",
      "text/plain": [
       "<matplotlib.figure.Figure at 0x7f0dd5695668>"
      ]
     },
     "metadata": {},
     "output_type": "display_data"
    }
   ],
   "source": [
    "# See cluster centres\n",
    "fig, ax = plt.subplots()\n",
    "sns.regplot(\n",
    "    x = \"LON_CENTRE\", \n",
    "    y = \"LAT_CENTRE\", \n",
    "    data = cluster_stats_result, \n",
    "    fit_reg = False, \n",
    "    scatter_kws = {'s': cluster_stats_result['NUM_SAMPLES'] / cluster_stats_result['NUM_SAMPLES'].max() * 150},\n",
    "    ax = ax\n",
    ")\n",
    "cluster_stats_result[['LON_CENTRE','LAT_CENTRE','prediction']].apply(lambda x: ax.text(*x), axis=1);"
   ]
  },
  {
   "cell_type": "markdown",
   "metadata": {},
   "source": [
    "Looks about right! Let's see if we can summarize some of these clusters. We have a few categorical variables we've been exploring thus far:\n",
    "- OFFENSE_DESCRIPTION\n",
    "- OFFENSE_RESULT\n",
    "- OFFENSE_LEVEL\n",
    "- PREMISE_DESCRIPTION\n",
    "\n",
    "I'd like to explore all of these categories all at once. I'm thinking the easiest way to explore these will be to one-hot encode all these variables. If we had data like this:"
   ]
  },
  {
   "cell_type": "code",
   "execution_count": 41,
   "metadata": {},
   "outputs": [
    {
     "data": {
      "text/html": [
       "<div>\n",
       "<style>\n",
       "    .dataframe thead tr:only-child th {\n",
       "        text-align: right;\n",
       "    }\n",
       "\n",
       "    .dataframe thead th {\n",
       "        text-align: left;\n",
       "    }\n",
       "\n",
       "    .dataframe tbody tr th {\n",
       "        vertical-align: top;\n",
       "    }\n",
       "</style>\n",
       "<table border=\"1\" class=\"dataframe\">\n",
       "  <thead>\n",
       "    <tr style=\"text-align: right;\">\n",
       "      <th></th>\n",
       "      <th>CLUSTER</th>\n",
       "      <th>COMPLAINT_NUMBER</th>\n",
       "      <th>OFFENSE_LEVEL</th>\n",
       "      <th>PREMISE_DESCRIPTION</th>\n",
       "    </tr>\n",
       "  </thead>\n",
       "  <tbody>\n",
       "    <tr>\n",
       "      <th>0</th>\n",
       "      <td>1</td>\n",
       "      <td>1</td>\n",
       "      <td>VIOLATION</td>\n",
       "      <td>BAR</td>\n",
       "    </tr>\n",
       "    <tr>\n",
       "      <th>1</th>\n",
       "      <td>1</td>\n",
       "      <td>2</td>\n",
       "      <td>VIOLATION</td>\n",
       "      <td>RESTAURANT</td>\n",
       "    </tr>\n",
       "    <tr>\n",
       "      <th>2</th>\n",
       "      <td>2</td>\n",
       "      <td>3</td>\n",
       "      <td>MISDEMEANOR</td>\n",
       "      <td>STREET</td>\n",
       "    </tr>\n",
       "    <tr>\n",
       "      <th>3</th>\n",
       "      <td>2</td>\n",
       "      <td>4</td>\n",
       "      <td>FELONY</td>\n",
       "      <td>STREET</td>\n",
       "    </tr>\n",
       "    <tr>\n",
       "      <th>4</th>\n",
       "      <td>2</td>\n",
       "      <td>5</td>\n",
       "      <td>FELONY</td>\n",
       "      <td>RESIDENCE-HOUSE</td>\n",
       "    </tr>\n",
       "  </tbody>\n",
       "</table>\n",
       "</div>"
      ],
      "text/plain": [
       "   CLUSTER  COMPLAINT_NUMBER OFFENSE_LEVEL PREMISE_DESCRIPTION\n",
       "0        1                 1     VIOLATION                 BAR\n",
       "1        1                 2     VIOLATION          RESTAURANT\n",
       "2        2                 3   MISDEMEANOR              STREET\n",
       "3        2                 4        FELONY              STREET\n",
       "4        2                 5        FELONY     RESIDENCE-HOUSE"
      ]
     },
     "execution_count": 41,
     "metadata": {},
     "output_type": "execute_result"
    }
   ],
   "source": [
    "pd.DataFrame({\n",
    "    'COMPLAINT_NUMBER': [1, 2, 3, 4, 5],\n",
    "    'CLUSTER': [1, 1, 2, 2, 2],\n",
    "    'OFFENSE_LEVEL': ['VIOLATION', 'VIOLATION', 'MISDEMEANOR', 'FELONY', 'FELONY'],\n",
    "    'PREMISE_DESCRIPTION': ['BAR', 'RESTAURANT', 'STREET', 'STREET', 'RESIDENCE-HOUSE']\n",
    "})"
   ]
  },
  {
   "cell_type": "markdown",
   "metadata": {},
   "source": [
    "We'd want to convert them to something like:"
   ]
  },
  {
   "cell_type": "code",
   "execution_count": 42,
   "metadata": {},
   "outputs": [
    {
     "data": {
      "text/html": [
       "<div>\n",
       "<style>\n",
       "    .dataframe thead tr:only-child th {\n",
       "        text-align: right;\n",
       "    }\n",
       "\n",
       "    .dataframe thead th {\n",
       "        text-align: left;\n",
       "    }\n",
       "\n",
       "    .dataframe tbody tr th {\n",
       "        vertical-align: top;\n",
       "    }\n",
       "</style>\n",
       "<table border=\"1\" class=\"dataframe\">\n",
       "  <thead>\n",
       "    <tr style=\"text-align: right;\">\n",
       "      <th></th>\n",
       "      <th>CLUSTER</th>\n",
       "      <th>COMPLAINT_NUMBER</th>\n",
       "      <th>OFFENSE_LEVEL_FELONY</th>\n",
       "      <th>OFFENSE_LEVEL_MISDEMEANOR</th>\n",
       "      <th>OFFENSE_LEVEL_VIOLATION</th>\n",
       "      <th>PREMISE_DESCRIPTION_BAR</th>\n",
       "      <th>PREMISE_DESCRIPTION_RESIDENCE-HOUSE</th>\n",
       "      <th>PREMISE_DESCRIPTION_STREET</th>\n",
       "    </tr>\n",
       "  </thead>\n",
       "  <tbody>\n",
       "    <tr>\n",
       "      <th>0</th>\n",
       "      <td>1</td>\n",
       "      <td>1</td>\n",
       "      <td>0</td>\n",
       "      <td>0</td>\n",
       "      <td>1</td>\n",
       "      <td>1</td>\n",
       "      <td>0</td>\n",
       "      <td>0</td>\n",
       "    </tr>\n",
       "    <tr>\n",
       "      <th>1</th>\n",
       "      <td>1</td>\n",
       "      <td>2</td>\n",
       "      <td>0</td>\n",
       "      <td>0</td>\n",
       "      <td>1</td>\n",
       "      <td>1</td>\n",
       "      <td>0</td>\n",
       "      <td>0</td>\n",
       "    </tr>\n",
       "    <tr>\n",
       "      <th>2</th>\n",
       "      <td>2</td>\n",
       "      <td>3</td>\n",
       "      <td>0</td>\n",
       "      <td>1</td>\n",
       "      <td>0</td>\n",
       "      <td>0</td>\n",
       "      <td>0</td>\n",
       "      <td>1</td>\n",
       "    </tr>\n",
       "    <tr>\n",
       "      <th>3</th>\n",
       "      <td>2</td>\n",
       "      <td>4</td>\n",
       "      <td>1</td>\n",
       "      <td>0</td>\n",
       "      <td>0</td>\n",
       "      <td>0</td>\n",
       "      <td>0</td>\n",
       "      <td>1</td>\n",
       "    </tr>\n",
       "    <tr>\n",
       "      <th>4</th>\n",
       "      <td>2</td>\n",
       "      <td>5</td>\n",
       "      <td>1</td>\n",
       "      <td>0</td>\n",
       "      <td>0</td>\n",
       "      <td>0</td>\n",
       "      <td>1</td>\n",
       "      <td>0</td>\n",
       "    </tr>\n",
       "  </tbody>\n",
       "</table>\n",
       "</div>"
      ],
      "text/plain": [
       "   CLUSTER  COMPLAINT_NUMBER  OFFENSE_LEVEL_FELONY  OFFENSE_LEVEL_MISDEMEANOR  \\\n",
       "0        1                 1                     0                          0   \n",
       "1        1                 2                     0                          0   \n",
       "2        2                 3                     0                          1   \n",
       "3        2                 4                     1                          0   \n",
       "4        2                 5                     1                          0   \n",
       "\n",
       "   OFFENSE_LEVEL_VIOLATION  PREMISE_DESCRIPTION_BAR  \\\n",
       "0                        1                        1   \n",
       "1                        1                        1   \n",
       "2                        0                        0   \n",
       "3                        0                        0   \n",
       "4                        0                        0   \n",
       "\n",
       "   PREMISE_DESCRIPTION_RESIDENCE-HOUSE  PREMISE_DESCRIPTION_STREET  \n",
       "0                                    0                           0  \n",
       "1                                    0                           0  \n",
       "2                                    0                           1  \n",
       "3                                    0                           1  \n",
       "4                                    1                           0  "
      ]
     },
     "execution_count": 42,
     "metadata": {},
     "output_type": "execute_result"
    }
   ],
   "source": [
    "pd.DataFrame({\n",
    "    'COMPLAINT_NUMBER': [1, 2, 3, 4, 5],\n",
    "    'CLUSTER': [1, 1, 2, 2, 2],\n",
    "    'OFFENSE_LEVEL_VIOLATION': [1, 1, 0, 0, 0],\n",
    "    'OFFENSE_LEVEL_MISDEMEANOR': [0, 0, 1, 0, 0],\n",
    "    'OFFENSE_LEVEL_FELONY': [0, 0, 0, 1, 1],\n",
    "    'PREMISE_DESCRIPTION_BAR': [1, 1, 0, 0, 0],\n",
    "    'PREMISE_DESCRIPTION_STREET': [0, 0, 1, 1, 0],\n",
    "    'PREMISE_DESCRIPTION_RESIDENCE-HOUSE': [0, 0, 0, 0, 1]\n",
    "})"
   ]
  },
  {
   "cell_type": "markdown",
   "metadata": {},
   "source": [
    "This way, we can actually group by the various clusters and perform arithmetic operations (sums) by cluster and by each categorical option to look for outliers. In one-hot encoding, each categorical column is represented by multiple columns - the same number of columns as there are unique options in that category.\n",
    "\n",
    "In our example above, OFFENSE\\_LEVEL and PREMISE\\_DESCRIPTION both have 3 unique categories in the original data set. We can see that these two columns become _**six**_ columns.\n",
    "\n",
    "The pyspark.ml library has a one-hot encoder ready for us to use!"
   ]
  },
  {
   "cell_type": "code",
   "execution_count": 47,
   "metadata": {
    "collapsed": true
   },
   "outputs": [],
   "source": [
    "from pyspark.ml.feature import OneHotEncoder, StringIndexer\n",
    "\n",
    "stringIndexer = StringIndexer(inputCol=\"OFFENSE_LEVEL\", outputCol=\"OFFENSE_LEVEL_INDEX\")\n",
    "model = stringIndexer.fit(df_predicted)\n",
    "indexed = model.transform(df_predicted)\n",
    "\n",
    "encoder = OneHotEncoder(inputCol=\"OFFENSE_LEVEL_INDEX\", outputCol=\"OFFENSE_LEVEL_ENC\")\n",
    "encoded = encoder.transform(indexed)\n",
    "encoded.show()"
   ]
  },
  {
   "cell_type": "markdown",
   "metadata": {},
   "source": [
    "Bad news. We crashed Java again. I've done a bit of research and it looks like there are a slew of Spark memory options I've essentially just taken for granted with the enabling of _**maximizeResourceAllocation**_ config parameter... I never really thought that I had to pay this much attention to memory seeing as how I am analyzing a _**1.3GB**_ file (when stored in raw CSV) with 1 master and 2 workers with each worker having 8GB of memory... We're saying that _**16GB**_ of working memory is not enough to slice and dice _**1.3GB**_ of data? Clearly I do not know enough about Spark.\n",
    "\n",
    "Let's continue this debugging in the next notebook"
   ]
  }
 ],
 "metadata": {
  "anaconda-cloud": {},
  "kernelspec": {
   "display_name": "Python 2",
   "language": "python",
   "name": "python2"
  },
  "language_info": {
   "codemirror_mode": {
    "name": "ipython",
    "version": 3
   },
   "file_extension": ".py",
   "mimetype": "text/x-python",
   "name": "python",
   "nbconvert_exporter": "python",
   "pygments_lexer": "ipython3",
   "version": "3.4.3"
  }
 },
 "nbformat": 4,
 "nbformat_minor": 1
}
